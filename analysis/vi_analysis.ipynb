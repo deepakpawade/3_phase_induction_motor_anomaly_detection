{
 "cells": [
  {
   "attachments": {},
   "cell_type": "markdown",
   "metadata": {},
   "source": [
    "Model-based VI (Vibration analysis) is a technique used to identify the type and severity of a fault in a machine by analyzing its vibration signals. It involves building a model of the machine's vibration signature under normal operating conditions and comparing it with the actual vibration signals during operation to detect any deviations."
   ]
  },
  {
   "attachments": {},
   "cell_type": "markdown",
   "metadata": {},
   "source": [
    "Dataset :\n",
    "each file has 10000 3-phase current readings. \n",
    "There are 317 files, which means the readings were taken for 317 seconds. \n",
    "There are 3 columns in each file represent the 3 currents."
   ]
  },
  {
   "cell_type": "code",
   "execution_count": 24,
   "metadata": {},
   "outputs": [],
   "source": [
    "import numpy as np\n",
    "from scipy.fftpack import fft, fftfreq, rfft, rfftfreq\n",
    "import matplotlib.pyplot as plt\n",
    "import pandas as pd\n",
    "from scipy.optimize import curve_fit\n",
    "import copy"
   ]
  },
  {
   "cell_type": "code",
   "execution_count": 23,
   "metadata": {},
   "outputs": [],
   "source": [
    "data = pd.read_csv('combined_data.csv')\n"
   ]
  },
  {
   "attachments": {},
   "cell_type": "markdown",
   "metadata": {},
   "source": [
    "To perform model-based VI on the given dataset, we can follow these steps:\n",
    "\n",
    "1.Load the dataset into a pandas DataFrame.\n",
    "\n",
    "2.Compute the FFT of each column (corresponding to each phase) to convert the time-domain signal to the frequency domain.\n",
    "\n",
    "3.Use a sliding window to segment the signal into smaller windows of length L.\n",
    "\n",
    "4.For each window, compute the FFT and calculate the magnitude spectrum.\n",
    "\n",
    "5.Use the magnitude spectrum to estimate the model parameters using a curve-fitting algorithm. This will give us a model of the machine's \n",
    "vibration signature under normal operating conditions.\n",
    "\n",
    "6.During machine operation, repeat steps 2-4 for each window of data and compare the current vibration signature to the model created in step 5.\n",
    "\n",
    "7.If the current vibration signature deviates significantly from the model, it indicates the presence of a fault."
   ]
  },
  {
   "cell_type": "code",
   "execution_count": 27,
   "metadata": {},
   "outputs": [],
   "source": [
    "# Load the data into a pandas DataFrame\n",
    "df = copy.deepcopy(data)"
   ]
  },
  {
   "cell_type": "code",
   "execution_count": 30,
   "metadata": {},
   "outputs": [],
   "source": [
    "# Define the length of the sliding window\n",
    "L = 1000\n",
    "\n",
    "# Define the curve-fitting function\n",
    "def model_func(freq, amp, freq0, sigma):\n",
    "    return amp * np.exp(-0.5 * ((freq - freq0) / sigma) ** 2)\n"
   ]
  },
  {
   "cell_type": "code",
   "execution_count": 31,
   "metadata": {},
   "outputs": [],
   "source": [
    "\n",
    "# Initialize lists to store the model parameters for each phase\n",
    "phase_params = {'phase_A': {'amp': [], 'freq0': [], 'sigma': []},\n",
    "                'phase_B': {'amp': [], 'freq0': [], 'sigma': []},\n",
    "                'phase_C': {'amp': [], 'freq0': [], 'sigma': []}}\n"
   ]
  },
  {
   "attachments": {},
   "cell_type": "markdown",
   "metadata": {},
   "source": [
    "The curve fitting function used in the example code is a Gaussian function defined by the parameters amp, freq0, and sigma, which represent the amplitude, central frequency, and width of the peak, respectively. The function was chosen based on its ability to fit the magnitude spectrum of the vibration signal, which typically exhibits a dominant frequency peak.\n",
    "\n",
    "The Gaussian function is a commonly used curve in modeling vibration signals because it can accurately capture the shape of the frequency spectrum near a dominant frequency peak. Additionally, the curve fitting function can be customized based on the characteristics of the signal being analyzed.\n",
    "\n",
    "In the code, the curve_fit function from the scipy.optimize module is used to fit the Gaussian function to the magnitude spectrum of each window of data. The popt parameter represents the optimal values for the model parameters amp, freq0, and sigma, which are then stored for later analysis."
   ]
  },
  {
   "attachments": {},
   "cell_type": "markdown",
   "metadata": {},
   "source": [
    "Here same function was fit for all 3 currents\n"
   ]
  },
  {
   "cell_type": "code",
   "execution_count": 73,
   "metadata": {},
   "outputs": [
    {
     "name": "stdout",
     "output_type": "stream",
     "text": [
      "Model parameters for phase_A:\n",
      "Amplitude: 1982430.6281658122 +/- 11860.058750644035\n",
      "Frequency: -3.5153052876403025e-05 +/- 0.0012293073988161307\n",
      "Bandwidth: 933.9719383455442 +/- 68.77748860261754\n",
      "Model parameters for phase_B:\n",
      "Amplitude: 2167703.873363091 +/- 11192.692075283932\n",
      "Frequency: -0.03576042510173978 +/- 2.2250749703774724\n",
      "Bandwidth: 928.266857762362 +/- 50.31088491947947\n",
      "Model parameters for phase_C:\n",
      "Amplitude: 430504.24940510694 +/- 38387.03631331259\n",
      "Frequency: 0.0029345399561199388 +/- 0.11031701155672653\n",
      "Bandwidth: 1374.0974583676143 +/- 2403.076112570671\n"
     ]
    }
   ],
   "source": [
    "\n",
    "# Loop over the windows of data\n",
    "for i in range(0, len(df), L):\n",
    "    # Extract a window of data for each phase\n",
    "    window_A = df.loc[i:i+L-1, 'current_1']\n",
    "    window_B = df.loc[i:i+L-1, 'current_2']\n",
    "    window_C = df.loc[i:i+L-1, 'current_3']\n",
    "    \n",
    "    # Compute the FFT of each phase\n",
    "    fft_A = np.fft.fft(window_A)\n",
    "    fft_B = np.fft.fft(window_B)\n",
    "    fft_C = np.fft.fft(window_C)\n",
    "    \n",
    "    # Compute the magnitude spectrum of each phase\n",
    "    mag_spectrum_A = np.abs(fft_A)\n",
    "    mag_spectrum_B = np.abs(fft_B)\n",
    "    mag_spectrum_C = np.abs(fft_C)\n",
    "    \n",
    "    # Compute the frequency axis\n",
    "    freq_axis = np.fft.fftfreq(L, 1/len(df))\n",
    "    \n",
    "    # Fit the model to the spectrum of each phase\n",
    "    for phase, mag_spectrum in zip(['phase_A', 'phase_B', 'phase_C'], \n",
    "                                   [mag_spectrum_A, mag_spectrum_B, mag_spectrum_C]):\n",
    "        popt, pcov = curve_fit(model_func, freq_axis, mag_spectrum.ravel(),maxfev=10000)\n",
    "        \n",
    "        # Store the model parameters for each phase\n",
    "        phase_params[phase]['amp'].append(popt[0])\n",
    "        phase_params[phase]['freq0'].append(popt[1])\n",
    "        phase_params[phase]['sigma'].append(popt[2])\n",
    "\n",
    "# Calculate the mean and standard deviation of the model parameters for each phase\n",
    "for phase in ['phase_A', 'phase_B', 'phase_C']:\n",
    "    mean_amp = np.mean(phase_params[phase]['amp'])\n",
    "    std_amp = np.std(phase_params[phase]['amp'])\n",
    "    mean_freq0 = np.mean(phase_params[phase]['freq0'])\n",
    "    std_freq0 = np.std(phase_params[phase]['freq0'])\n",
    "    mean_sigma = np.mean(phase_params[phase]['sigma'])\n",
    "    std_sigma = np.std(phase_params[phase]['sigma'])\n",
    "    print(f\"Model parameters for {phase}:\")\n",
    "    print(f\"Amplitude: {mean_amp} +/- {std_amp}\")\n",
    "    print(f\"Frequency: {mean_freq0} +/- {std_freq0}\")\n",
    "    print(f\"Bandwidth: {mean_sigma} +/- {std_sigma}\")\n"
   ]
  },
  {
   "attachments": {},
   "cell_type": "markdown",
   "metadata": {},
   "source": [
    "3 different functions for 3 currents"
   ]
  },
  {
   "cell_type": "code",
   "execution_count": 88,
   "metadata": {},
   "outputs": [],
   "source": [
    "# Define the length of the sliding window\n",
    "L = 1000\n",
    "\n",
    "# Define the curve-fitting functions for each current\n",
    "def model_func_I1(freq, amp, freq0, sigma):\n",
    "    return amp * np.exp(-0.5 * ((freq - freq0) / sigma) ** 2)\n",
    "\n",
    "def model_func_I2(freq, amp, freq0, sigma):\n",
    "    return amp * np.exp(-0.5 * ((freq - freq0) / sigma) ** 2)\n",
    "\n",
    "def model_func_I3(freq, amp, freq0, sigma):\n",
    "    return amp * np.exp(-0.5 * ((freq - freq0) / sigma) ** 2)\n",
    "\n",
    "# Initialize lists to store the model parameters for each current\n",
    "amp_list_I1 = []\n",
    "freq0_list_I1 = []\n",
    "sigma_list_I1 = []\n",
    "\n",
    "amp_list_I2 = []\n",
    "freq0_list_I2 = []\n",
    "sigma_list_I2 = []\n",
    "\n",
    "amp_list_I3 = []\n",
    "freq0_list_I3 = []\n",
    "sigma_list_I3 = []\n",
    "\n",
    "# Loop over the windows of data\n",
    "for i in range(0, len(df), L):\n",
    "    # Extract a window of data for each current\n",
    "    I1_window = df.loc[i:i+L-1, 'current_1']\n",
    "    I2_window = df.loc[i:i+L-1, 'current_2']\n",
    "    I3_window = df.loc[i:i+L-1, 'current_3']\n",
    "    \n",
    "    # Compute the FFT of each current\n",
    "    I1_fft_data = np.fft.fft(I1_window)\n",
    "    I2_fft_data = np.fft.fft(I2_window)\n",
    "    I3_fft_data = np.fft.fft(I3_window)\n",
    "    \n",
    "    # Compute the magnitude spectrum for each current\n",
    "    I1_mag_spectrum = np.abs(I1_fft_data)\n",
    "    I2_mag_spectrum = np.abs(I2_fft_data)\n",
    "    I3_mag_spectrum = np.abs(I3_fft_data)\n",
    "    \n",
    "    # Compute the frequency axis for each current\n",
    "    freq_axis = np.fft.fftfreq(L, 1/len(df))\n",
    "    \n",
    "    # Fit the model to the spectrum for each current\n",
    "    popt_I1, pcov_I1 = curve_fit(model_func_I1, freq_axis, I1_mag_spectrum.ravel(),maxfev=10000)\n",
    "    popt_I2, pcov_I2 = curve_fit(model_func_I2, freq_axis, I2_mag_spectrum.ravel(),maxfev=10000)\n",
    "    popt_I3, pcov_I3 = curve_fit(model_func_I3, freq_axis, I3_mag_spectrum.ravel(),maxfev=10000)\n",
    "    \n",
    "    # Store the model parameters for each current\n",
    "    amp_list_I1.append(popt_I1[0])\n",
    "    freq0_list_I1.append(popt_I1[1])\n",
    "    sigma_list_I1.append(popt_I1[2])\n",
    "    \n",
    "    amp_list_I2.append(popt_I2[0])\n",
    "    freq0_list_I2.append(popt_I2[1])\n",
    "    sigma_list_I2.append(popt_I2[2])\n",
    "    \n",
    "    amp_list_I3.append(popt_I3[0])\n",
    "    freq0_list_I3.append(popt_I3[1])\n",
    "    sigma_list_I3.append(popt_I3[2])\n",
    "\n",
    "# Calculate the mean and standard deviation of the model parameters for each current\n",
    "mean_amp_I1 = np.mean(amp_list_I1)\n",
    "std_amp_I1 = np.std(amp_list_I1)\n",
    "mean_freq0_I1 = np.mean(freq0_list_I1)\n",
    "std_freq0_I1 = np.std(freq0_list_I1)\n",
    "\n",
    "mean_amp_I2 = np.mean(amp_list_I2)\n",
    "std_amp_I2 = np.std(amp_list_I2)\n",
    "mean_freq0_I2 = np.mean(freq0_list_I2)\n",
    "std_freq0_I2 = np.std(freq0_list_I2)\n",
    "\n",
    "mean_amp_I3 = np.mean(amp_list_I3)\n",
    "std_amp_I3 = np.std(amp_list_I3)\n",
    "mean_freq0_I3 = np.mean(freq0_list_I3)\n",
    "std_freq0_I3 = np.std(freq0_list_I3)"
   ]
  },
  {
   "cell_type": "code",
   "execution_count": 84,
   "metadata": {},
   "outputs": [],
   "source": [
    "an = pd.read_csv('../anomalous_data/anomalous_data.csv')"
   ]
  },
  {
   "cell_type": "code",
   "execution_count": 85,
   "metadata": {},
   "outputs": [
    {
     "name": "stdout",
     "output_type": "stream",
     "text": [
      "Model parameters for phase_A:\n",
      "Amplitude: 1981919.851588493 +/- 33927.306965395204\n",
      "Frequency: -0.000430841329611471 +/- 0.02465569642107601\n",
      "Bandwidth: 933.8169353722102 +/- 69.44187702403082\n",
      "Model parameters for phase_B:\n",
      "Amplitude: 2167145.720890607 +/- 36494.053038011385\n",
      "Frequency: -0.03459132063262363 +/- 2.225977148136065\n",
      "Bandwidth: 928.138818219723 +/- 50.931583598065345\n",
      "Model parameters for phase_C:\n",
      "Amplitude: 430393.34990941035 +/- 38997.6543134709\n",
      "Frequency: 0.006905938214835358 +/- 0.2706504639130529\n",
      "Bandwidth: 1373.7940338210578 +/- 2402.8401376373017\n"
     ]
    },
    {
     "name": "stderr",
     "output_type": "stream",
     "text": [
      "c:\\Users\\deepdesk\\anaconda3\\lib\\site-packages\\scipy\\optimize\\minpack.py:833: OptimizeWarning: Covariance of the parameters could not be estimated\n",
      "  warnings.warn('Covariance of the parameters could not be estimated',\n"
     ]
    }
   ],
   "source": [
    "\n",
    "# Loop over the windows of data\n",
    "for i in range(0, len(an), L):\n",
    "    # Extract a window of data for each phase\n",
    "    window_A = an.loc[i:i+L-1, 'current_1']\n",
    "    window_B = an.loc[i:i+L-1, 'current_2']\n",
    "    window_C = an.loc[i:i+L-1, 'current_3']\n",
    "    \n",
    "    # Compute the FFT of each phase\n",
    "    fft_A = np.fft.fft(window_A)\n",
    "    fft_B = np.fft.fft(window_B)\n",
    "    fft_C = np.fft.fft(window_C)\n",
    "    \n",
    "    # Compute the magnitude spectrum of each phase\n",
    "    mag_spectrum_A = np.abs(fft_A)\n",
    "    mag_spectrum_B = np.abs(fft_B)\n",
    "    mag_spectrum_C = np.abs(fft_C)\n",
    "    \n",
    "    # Compute the frequency axis\n",
    "    freq_axis = np.fft.fftfreq(L, 1/len(df))\n",
    "    \n",
    "    # Fit the model to the spectrum of each phase\n",
    "    for phase, mag_spectrum in zip(['phase_A', 'phase_B', 'phase_C'], \n",
    "                                   [mag_spectrum_A, mag_spectrum_B, mag_spectrum_C]):\n",
    "        popt, pcov = curve_fit(model_func, freq_axis, mag_spectrum.ravel(),maxfev=10000)\n",
    "        \n",
    "        # Store the model parameters for each phase\n",
    "        phase_params[phase]['amp'].append(popt[0])\n",
    "        phase_params[phase]['freq0'].append(popt[1])\n",
    "        phase_params[phase]['sigma'].append(popt[2])\n",
    "\n",
    "# Calculate the mean and standard deviation of the model parameters for each phase\n",
    "for phase in ['phase_A', 'phase_B', 'phase_C']:\n",
    "    mean_amp = np.mean(phase_params[phase]['amp'])\n",
    "    std_amp = np.std(phase_params[phase]['amp'])\n",
    "    mean_freq0 = np.mean(phase_params[phase]['freq0'])\n",
    "    std_freq0 = np.std(phase_params[phase]['freq0'])\n",
    "    mean_sigma = np.mean(phase_params[phase]['sigma'])\n",
    "    std_sigma = np.std(phase_params[phase]['sigma'])\n",
    "    print(f\"Model parameters for {phase}:\")\n",
    "    print(f\"Amplitude: {mean_amp} +/- {std_amp}\")\n",
    "    print(f\"Frequency: {mean_freq0} +/- {std_freq0}\")\n",
    "    print(f\"Bandwidth: {mean_sigma} +/- {std_sigma}\")\n"
   ]
  },
  {
   "cell_type": "code",
   "execution_count": null,
   "metadata": {},
   "outputs": [],
   "source": [
    "# Loop over the windows of data to detect faults\n",
    "for i in range(0, len(df)-L, L):\n",
    "    # Extract a window of data\n",
    "    window = fft_data[i:i+L,:]\n",
    "    \n",
    "    # Compute the magnitude spectrum\n",
    "    mag_spectrum = np.abs(window)\n",
    "    \n",
    "    # Compute the frequency axis\n",
    "    freq_axis = np.fft.fftfreq(L, 1/len(df))\n",
    "    \n",
    "    # Fit the model to the spectrum\n",
    "    popt, pcov = curve_fit(model_func, freq_axis, mag_spectrum.ravel())\n",
    "    \n",
    "    # Check for deviation from the model\n",
    "    if (abs(popt[0]-mean_amp) > 2*std_amp or\n",
    "        abs(popt[1]-mean_freq0) > 2*std_freq0 or\n",
    "        abs(popt[2]-mean_sigma) > 2*std_sigma):\n",
    "        print(f\"Fault detected at time {i} seconds\")"
   ]
  },
  {
   "cell_type": "code",
   "execution_count": null,
   "metadata": {},
   "outputs": [],
   "source": []
  },
  {
   "cell_type": "code",
   "execution_count": null,
   "metadata": {},
   "outputs": [],
   "source": []
  },
  {
   "cell_type": "code",
   "execution_count": null,
   "metadata": {},
   "outputs": [],
   "source": []
  },
  {
   "cell_type": "code",
   "execution_count": null,
   "metadata": {},
   "outputs": [],
   "source": []
  },
  {
   "attachments": {},
   "cell_type": "markdown",
   "metadata": {},
   "source": [
    "generic method"
   ]
  },
  {
   "cell_type": "code",
   "execution_count": null,
   "metadata": {},
   "outputs": [],
   "source": [
    "import numpy as np\n",
    "from vibtools import models, signal\n",
    "from sklearn.preprocessing import StandardScaler\n",
    "\n",
    "# Load the data\n",
    "data = np.load('current_data.npy')\n",
    "\n",
    "# Extract the vibration signals using MCSA\n",
    "vibration_data = _get_vibration_data(data)\n",
    "\n",
    "# Preprocess the vibration signals\n",
    "filtered_data = signal.butterworth(vibration_data, fs=20000, fc=1000, btype='lowpass')\n",
    "resampled_data = signal.resample(filtered_data, n_samples=10000)\n",
    "denoised_data = signal.denoise(resampled_data, wavelet='sym8', level=5)\n",
    "\n",
    "# Standardize the data\n",
    "scaler = StandardScaler()\n",
    "scaled_data = scaler.fit_transform(denoised_data)\n",
    "\n",
    "# Build a model of the vibration signature under normal operating conditions\n",
    "model = models.KMeansModel(scaled_data, n_clusters=1)\n",
    "\n",
    "# Analyze the vibration signals during operation using the model\n",
    "deviation = model.score_samples(scaled_data)\n",
    "\n",
    "# Identify the type and severity of the fault based on the deviations detected\n",
    "if deviation > threshold:\n",
    "    print('Fault detected: Type and severity of fault')\n",
    "else:\n",
    "    print('No fault detected')\n"
   ]
  }
 ],
 "metadata": {
  "kernelspec": {
   "display_name": "base",
   "language": "python",
   "name": "python3"
  },
  "language_info": {
   "codemirror_mode": {
    "name": "ipython",
    "version": 3
   },
   "file_extension": ".py",
   "mimetype": "text/x-python",
   "name": "python",
   "nbconvert_exporter": "python",
   "pygments_lexer": "ipython3",
   "version": "3.9.13"
  },
  "orig_nbformat": 4
 },
 "nbformat": 4,
 "nbformat_minor": 2
}
