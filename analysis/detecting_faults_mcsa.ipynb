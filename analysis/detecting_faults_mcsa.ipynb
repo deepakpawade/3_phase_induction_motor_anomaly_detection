{
 "cells": [
  {
   "cell_type": "code",
   "execution_count": 1,
   "metadata": {},
   "outputs": [],
   "source": [
    "# Import necessary libraries\n",
    "import numpy as np\n",
    "import pandas as pd\n",
    "from sklearn.mixture import GaussianMixture\n",
    "import sys\n",
    "sys.path.append('../induction_motor_anomaly_detection/')\n",
    "import modules,scaler"
   ]
  },
  {
   "cell_type": "code",
   "execution_count": 26,
   "metadata": {},
   "outputs": [],
   "source": [
    "\n",
    "\n",
    "# Define function to detect broken rotor fault\n",
    "def detect_broken_rotor(df):\n",
    "    # Define threshold value based on data analysis or domain expertise\n",
    "    threshold = 5 # Example threshold value\n",
    "    # Calculate RMS values for each phase\n",
    "    rms_values = np.sqrt(np.mean(df ** 2, axis=0))\n",
    "    # Check if any RMS value is below threshold\n",
    "    if any(rms_values < threshold):\n",
    "        return True\n",
    "    else:\n",
    "        return False\n",
    "\n",
    "# Define function to detect bearing fault\n",
    "def detect_bearing_fault(df):\n",
    "    # Define threshold value based on data analysis or domain expertise\n",
    "    threshold = 0.1 # Example threshold value\n",
    "    # Calculate kurtosis values for each phase\n",
    "    kurtosis_values = df.kurtosis()\n",
    "    # Check if any kurtosis value is above threshold\n",
    "    if any(kurtosis_values > threshold):\n",
    "        return True\n",
    "    else:\n",
    "        return False\n",
    "\n",
    "# Define function to detect stator winding faults\n",
    "def detect_stator_winding_fault(df):\n",
    "    # Get features for each phase\n",
    "    df_features = modules.ElectricalFeatureExtractor(current_data=df)\n",
    "    features, fft_data = df_features.feature_dataframe\n",
    "    # Train Gaussian mixture model\n",
    "    gmm = GaussianMixture(n_components=1, covariance_type='full')\n",
    "    gmm.fit(features)\n",
    "    # Calculate scores for each phase\n",
    "    scores = gmm.score_samples(features)\n",
    "    # Define threshold value based on data analysis or domain expertise\n",
    "    threshold = -50 # Example threshold value\n",
    "    # Check if any score is below threshold\n",
    "    if any(scores < threshold):\n",
    "        return True\n",
    "    else:\n",
    "        return False\n"
   ]
  }
 ],
 "metadata": {
  "kernelspec": {
   "display_name": "base",
   "language": "python",
   "name": "python3"
  },
  "language_info": {
   "codemirror_mode": {
    "name": "ipython",
    "version": 3
   },
   "file_extension": ".py",
   "mimetype": "text/x-python",
   "name": "python",
   "nbconvert_exporter": "python",
   "pygments_lexer": "ipython3",
   "version": "3.9.13"
  },
  "orig_nbformat": 4
 },
 "nbformat": 4,
 "nbformat_minor": 2
}
