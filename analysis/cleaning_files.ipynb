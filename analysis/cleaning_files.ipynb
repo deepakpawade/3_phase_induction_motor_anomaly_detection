{
 "cells": [
  {
   "cell_type": "code",
   "execution_count": 2,
   "metadata": {},
   "outputs": [],
   "source": [
    "import os\n",
    "import pandas as pd"
   ]
  },
  {
   "cell_type": "code",
   "execution_count": null,
   "metadata": {},
   "outputs": [],
   "source": [
    "directory= '../data/s3Files/'\n",
    "for filename in os.listdir(directory):\n",
    "                filepath = os.path.join(directory, filename)\n",
    "                if os.path.isfile(filepath):\n",
    "                    df = pd.read_csv(filepath,header=None)\n",
    "                    print(df.columns)\n",
    "                    df.drop(columns=[0,4],inplace=True)\n",
    "                    df.columns = ['current_1', 'current_2', 'current_3']\n",
    "                    filename = filename[0:-4]\n",
    "                    df.to_csv(f'../data/cleaned_files/{filename}.csv',index=None)\n",
    "                    "
   ]
  }
 ],
 "metadata": {
  "kernelspec": {
   "display_name": "base",
   "language": "python",
   "name": "python3"
  },
  "language_info": {
   "codemirror_mode": {
    "name": "ipython",
    "version": 3
   },
   "file_extension": ".py",
   "mimetype": "text/x-python",
   "name": "python",
   "nbconvert_exporter": "python",
   "pygments_lexer": "ipython3",
   "version": "3.9.13"
  },
  "orig_nbformat": 4
 },
 "nbformat": 4,
 "nbformat_minor": 2
}
