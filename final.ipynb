{
 "cells": [
  {
   "cell_type": "code",
   "execution_count": 1,
   "metadata": {},
   "outputs": [],
   "source": [
    "# Import Libraries\n",
    "import pandas as pd\n",
    "import numpy as np\n",
    "from sklearn.preprocessing import StandardScaler\n",
    "from sklearn.ensemble import IsolationForest\n",
    "from sklearn.model_selection import train_test_split\n",
    "import os\n",
    "import matplotlib.pyplot as plt"
   ]
  },
  {
   "cell_type": "code",
   "execution_count": 2,
   "metadata": {},
   "outputs": [],
   "source": [
    "# Load all 317 files into a single DataFrame\n",
    "# Read the data in chunks\n",
    "datafolder = 'data/s3Files/'\n",
    "data_files = os.listdir(datafolder)\n",
    "df = pd.DataFrame()\n",
    "for file in data_files:\n",
    "    # print(file)\n",
    "    df = pd.concat([df,pd.read_csv(datafolder+file,header=None,sep=',')])\n",
    "df.drop(columns=[0,4],inplace=True)\n",
    "df.dropna(inplace=True)\n",
    "df.columns = ['current_1', 'current_2', 'current_3']"
   ]
  },
  {
   "cell_type": "code",
   "execution_count": 3,
   "metadata": {},
   "outputs": [
    {
     "data": {
      "text/html": [
       "<div>\n",
       "<style scoped>\n",
       "    .dataframe tbody tr th:only-of-type {\n",
       "        vertical-align: middle;\n",
       "    }\n",
       "\n",
       "    .dataframe tbody tr th {\n",
       "        vertical-align: top;\n",
       "    }\n",
       "\n",
       "    .dataframe thead th {\n",
       "        text-align: right;\n",
       "    }\n",
       "</style>\n",
       "<table border=\"1\" class=\"dataframe\">\n",
       "  <thead>\n",
       "    <tr style=\"text-align: right;\">\n",
       "      <th></th>\n",
       "      <th>current_1</th>\n",
       "      <th>current_2</th>\n",
       "      <th>current_3</th>\n",
       "    </tr>\n",
       "  </thead>\n",
       "  <tbody>\n",
       "    <tr>\n",
       "      <th>count</th>\n",
       "      <td>3.170000e+06</td>\n",
       "      <td>3.170000e+06</td>\n",
       "      <td>3.170000e+06</td>\n",
       "    </tr>\n",
       "    <tr>\n",
       "      <th>mean</th>\n",
       "      <td>1.983090e+03</td>\n",
       "      <td>2.168260e+03</td>\n",
       "      <td>4.345496e+02</td>\n",
       "    </tr>\n",
       "    <tr>\n",
       "      <th>std</th>\n",
       "      <td>1.816999e+02</td>\n",
       "      <td>1.803412e+02</td>\n",
       "      <td>2.729833e+02</td>\n",
       "    </tr>\n",
       "    <tr>\n",
       "      <th>min</th>\n",
       "      <td>1.681000e+03</td>\n",
       "      <td>1.863000e+03</td>\n",
       "      <td>0.000000e+00</td>\n",
       "    </tr>\n",
       "    <tr>\n",
       "      <th>25%</th>\n",
       "      <td>1.787000e+03</td>\n",
       "      <td>1.977000e+03</td>\n",
       "      <td>1.440000e+02</td>\n",
       "    </tr>\n",
       "    <tr>\n",
       "      <th>50%</th>\n",
       "      <td>1.983000e+03</td>\n",
       "      <td>2.169000e+03</td>\n",
       "      <td>4.370000e+02</td>\n",
       "    </tr>\n",
       "    <tr>\n",
       "      <th>75%</th>\n",
       "      <td>2.180000e+03</td>\n",
       "      <td>2.360000e+03</td>\n",
       "      <td>7.250000e+02</td>\n",
       "    </tr>\n",
       "    <tr>\n",
       "      <th>max</th>\n",
       "      <td>2.292000e+03</td>\n",
       "      <td>2.497000e+03</td>\n",
       "      <td>9.070000e+02</td>\n",
       "    </tr>\n",
       "  </tbody>\n",
       "</table>\n",
       "</div>"
      ],
      "text/plain": [
       "          current_1     current_2     current_3\n",
       "count  3.170000e+06  3.170000e+06  3.170000e+06\n",
       "mean   1.983090e+03  2.168260e+03  4.345496e+02\n",
       "std    1.816999e+02  1.803412e+02  2.729833e+02\n",
       "min    1.681000e+03  1.863000e+03  0.000000e+00\n",
       "25%    1.787000e+03  1.977000e+03  1.440000e+02\n",
       "50%    1.983000e+03  2.169000e+03  4.370000e+02\n",
       "75%    2.180000e+03  2.360000e+03  7.250000e+02\n",
       "max    2.292000e+03  2.497000e+03  9.070000e+02"
      ]
     },
     "execution_count": 3,
     "metadata": {},
     "output_type": "execute_result"
    }
   ],
   "source": [
    "df.describe()"
   ]
  },
  {
   "cell_type": "code",
   "execution_count": 4,
   "metadata": {},
   "outputs": [],
   "source": [
    "df.reset_index(drop=True,inplace=True)"
   ]
  },
  {
   "cell_type": "code",
   "execution_count": 9,
   "metadata": {},
   "outputs": [],
   "source": [
    "# BrokenRotorBars = abs(current_1) - abs(current_2)\n",
    "# BearingFault = abs(current_2) - abs(current_3)\n",
    "# Eccentricity = abs(current_3) - abs(current_1)\n",
    "\n",
    "df['BrokenRotorBars'] = abs(df['current_1']) - abs(df['current_2'])\n",
    "df['BearingFault'] = abs(df['current_2']) - abs(df['current_3'])\n",
    "df['Eccentricity'] = abs(df['current_3']) - abs(df['current_1'])"
   ]
  },
  {
   "cell_type": "code",
   "execution_count": 20,
   "metadata": {},
   "outputs": [],
   "source": [
    "df['rms_current'] = np.sqrt(np.square(df['current_1']) + np.square(df['current_2']) + np.square(df['current_3']))/3\n",
    "df['current_unbalance'] = np.abs((df['current_1'] - df['current_2']) / df['rms_current'])"
   ]
  },
  {
   "cell_type": "code",
   "execution_count": null,
   "metadata": {},
   "outputs": [],
   "source": [
    "# we might need to fft whole dataset since everything follow a signal pattern"
   ]
  }
 ],
 "metadata": {
  "kernelspec": {
   "display_name": "base",
   "language": "python",
   "name": "python3"
  },
  "language_info": {
   "codemirror_mode": {
    "name": "ipython",
    "version": 3
   },
   "file_extension": ".py",
   "mimetype": "text/x-python",
   "name": "python",
   "nbconvert_exporter": "python",
   "pygments_lexer": "ipython3",
   "version": "3.9.13"
  },
  "orig_nbformat": 4,
  "vscode": {
   "interpreter": {
    "hash": "0398511a9cde84ab83a2fa188ff6508a33d7c0397b3581839dbbf3238a247df4"
   }
  }
 },
 "nbformat": 4,
 "nbformat_minor": 2
}
