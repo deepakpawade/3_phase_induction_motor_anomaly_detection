{
 "cells": [
  {
   "cell_type": "code",
   "execution_count": 2,
   "metadata": {},
   "outputs": [],
   "source": [
    "import numpy as np\n",
    "import warnings\n",
    "import copy\n",
    "import os\n",
    "import pandas as pd\n",
    "warnings.filterwarnings(\"ignore\")\n",
    "import sys\n",
    "sys.path.append('../induction_motor_anomaly_detection/')\n",
    "import modules,scaler"
   ]
  },
  {
   "cell_type": "code",
   "execution_count": 3,
   "metadata": {},
   "outputs": [],
   "source": [
    "normal_data = pd.read_csv('../data/combined_data.csv')\n",
    "anomalous_data = pd.read_csv('../anomalous_data/anomalous_data.csv')\n"
   ]
  },
  {
   "cell_type": "code",
   "execution_count": 4,
   "metadata": {},
   "outputs": [
    {
     "name": "stdout",
     "output_type": "stream",
     "text": [
      "using MinMaxScaler()\n"
     ]
    }
   ],
   "source": [
    "train_data_features = modules.ElectricalFeatureExtractor(current_data=normal_data)\n",
    "test_data_features = modules.ElectricalFeatureExtractor(current_data=anomalous_data)\n",
    "train_scaler = scaler.Scaler()\n",
    "train_scaler.fit_unlabelled_data(train_data_features.feature_dataframe[0])\n",
    "train_scaled = train_scaler.transform(train_data_features.feature_dataframe[0])\n",
    "test_scaled = train_scaler.transform(test_data_features.feature_dataframe[0])"
   ]
  },
  {
   "cell_type": "code",
   "execution_count": 13,
   "metadata": {},
   "outputs": [],
   "source": [
    "import tensorflow as tf\n",
    "import numpy as np\n",
    "\n",
    "class Autoencoder:\n",
    "    def __init__(self, input_dim, encoding_dim=64, learning_rate=0.001):\n",
    "        self.input_dim = input_dim\n",
    "        self.encoding_dim = encoding_dim\n",
    "        self.learning_rate = learning_rate\n",
    "        self.encoder = None\n",
    "        self.decoder = None\n",
    "        self._build_graph()\n",
    "\n",
    "    def _build_graph(self):\n",
    "        self.X = tf.keras.Input(shape=(self.input_dim,))\n",
    "        self.hidden_layer = tf.keras.layers.Dense(units=self.encoding_dim, activation=tf.nn.relu)(self.X)\n",
    "        self.outputs = tf.keras.layers.Dense(units=self.input_dim)(self.hidden_layer)\n",
    "        self.loss = tf.reduce_mean(tf.square(self.X - self.outputs))\n",
    "        self.optimizer = tf.optimizers.Adam(learning_rate=self.learning_rate)\n",
    "\n",
    "    def partial_fit(self, X):\n",
    "        with tf.GradientTape() as tape:\n",
    "            loss = self.loss_function(X, training=True)\n",
    "        gradients = tape.gradient(loss, self.trainable_variables)\n",
    "        self.optimizer.apply_gradients(zip(gradients, self.trainable_variables))\n",
    "        return loss.numpy()\n",
    "\n",
    "    def encode(self, X):\n",
    "        return self.encoder.predict(X)\n",
    "\n",
    "    def decode(self, X):\n",
    "        return self.decoder.predict(X)\n",
    "\n",
    "    def fit(self, X, epochs=10, batch_size=32):\n",
    "        self.encoder = tf.keras.models.Model(inputs=self.X, outputs=self.hidden_layer)\n",
    "        self.decoder = tf.keras.models.Model(inputs=self.encoder.output, outputs=self.outputs)\n",
    "        self.trainable_variables = self.encoder.trainable_variables + self.decoder.trainable_variables\n",
    "        n_samples = X.shape[0]\n",
    "        for epoch in range(epochs):\n",
    "            avg_loss = 0\n",
    "            for i in range(0, n_samples, batch_size):\n",
    "                batch = X[i:i+batch_size]\n",
    "                loss = self.partial_fit(batch)\n",
    "                avg_loss += loss * len(batch)\n",
    "            avg_loss /= n_samples\n",
    "            print(\"Epoch:\", epoch+1, \"loss:\", avg_loss)\n"
   ]
  },
  {
   "cell_type": "code",
   "execution_count": null,
   "metadata": {},
   "outputs": [],
   "source": [
    "autoencoder = Autoencoder(input_dim=25)\n",
    "errors = []\n",
    "# Online learning loop\n",
    "for i in test_scaled:\n",
    "    # Get new data\n",
    "    X_new =  i\n",
    "    \n",
    "    # Partial fit with new data\n",
    "    loss = autoencoder.partial_fit(X_new)\n",
    "    \n",
    "    # Check for anomalies\n",
    "    encoded_X = autoencoder.encode(X_new)\n",
    "    decoded_X = autoencoder.decode(encoded_X)\n",
    "    errors = np.mean(np.square(X_new - decoded_X), axis=1)\n",
    "    # is_anomaly = errors > threshold\n"
   ]
  }
 ],
 "metadata": {
  "kernelspec": {
   "display_name": "base",
   "language": "python",
   "name": "python3"
  },
  "language_info": {
   "codemirror_mode": {
    "name": "ipython",
    "version": 3
   },
   "file_extension": ".py",
   "mimetype": "text/x-python",
   "name": "python",
   "nbconvert_exporter": "python",
   "pygments_lexer": "ipython3",
   "version": "3.9.13"
  },
  "orig_nbformat": 4
 },
 "nbformat": 4,
 "nbformat_minor": 2
}
