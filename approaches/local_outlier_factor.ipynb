{
 "cells": [
  {
   "cell_type": "code",
   "execution_count": 1,
   "metadata": {},
   "outputs": [],
   "source": [
    "from sklearn.neighbors import LocalOutlierFactor\n",
    "import numpy as np\n",
    "import warnings\n",
    "import copy\n",
    "import os\n",
    "import pandas as pd\n",
    "warnings.filterwarnings(\"ignore\")\n",
    "import sys\n",
    "sys.path.append('../induction_motor_anomaly_detection/')\n",
    "import modules,scaler"
   ]
  },
  {
   "cell_type": "code",
   "execution_count": 2,
   "metadata": {},
   "outputs": [],
   "source": [
    "normal_data = pd.read_csv('../data/combined_data.csv')\n",
    "anomalous_data = pd.read_csv('../anomalous_data/anomalous_data.csv')\n"
   ]
  },
  {
   "cell_type": "code",
   "execution_count": 30,
   "metadata": {},
   "outputs": [
    {
     "name": "stdout",
     "output_type": "stream",
     "text": [
      "MinMaxScaler()\n"
     ]
    }
   ],
   "source": [
    "train_data_features = modules.ElectricalFeatureExtractor(current_data=normal_data)\n",
    "test_data_features = modules.ElectricalFeatureExtractor(current_data=anomalous_data)\n",
    "train_scaler = scaler.Scaler()\n",
    "train_scaler.fit_unlabelled_data(train_data_features.feature_dataframe[0])\n",
    "train_scaled = train_scaler.transform(train_data_features.feature_dataframe[0])\n",
    "test_scaled = train_scaler.transform(test_data_features.feature_dataframe[0])"
   ]
  },
  {
   "cell_type": "code",
   "execution_count": 17,
   "metadata": {},
   "outputs": [],
   "source": [
    "\n",
    "class AnomalyDetector:\n",
    "    def __init__(self, n_neighbors=20, contamination=0.01):\n",
    "        self.n_neighbors = n_neighbors\n",
    "        self.contamination = contamination\n",
    "        self.lof = None\n",
    "        self.X = np.array([])\n",
    "\n",
    "    def fit_predict(self, X):\n",
    "        \"\"\"\n",
    "        Fit the LOF model to the training data.\n",
    "        \"\"\"\n",
    "        if self.lof is None:\n",
    "            self.lof = LocalOutlierFactor(n_neighbors=self.n_neighbors, contamination=self.contamination)\n",
    "            self.X = X\n",
    "            return self.lof.fit_predict(X)\n",
    "            \n",
    "        else:\n",
    "            self.X = np.concatenate((self.X, X), axis=0)\n",
    "            return self.lof.fit_predict(self.X)\n",
    "\n",
    "\n",
    "    def fit(self, X):\n",
    "        \"\"\"\n",
    "        Fit the LOF model to the training data.\n",
    "        \"\"\"\n",
    "        if self.lof is None:\n",
    "            self.lof = LocalOutlierFactor(n_neighbors=self.n_neighbors, contamination=self.contamination,novelty=True)\n",
    "            self.lof.fit(X)\n",
    "            self.X = X\n",
    "        else:\n",
    "            self.X = np.concatenate((self.X, X), axis=0)\n",
    "            self.lof.fit(self.X)\n",
    "\n",
    "    def predict(self, X_test):\n",
    "        \"\"\"\n",
    "        Predict whether the data is anomalous or not based on the LOF model.\n",
    "        \"\"\"\n",
    "        is_anomaly = self.lof.predict(X_test) == -1\n",
    "        return is_anomaly\n"
   ]
  },
  {
   "attachments": {},
   "cell_type": "markdown",
   "metadata": {},
   "source": [
    "novely means that there is no training data and the model needs to learn as the data is supplied"
   ]
  },
  {
   "cell_type": "code",
   "execution_count": null,
   "metadata": {},
   "outputs": [],
   "source": [
    "anomaly_detector = AnomalyDetector(n_neighbors=7, contamination=0.01)\n",
    "anomaly_predictions = []\n",
    "it = iter(train_scaled)\n",
    "try:\n",
    "    while True:\n",
    "        if anomaly_detector.lof is None:\n",
    "            data = [next(it), next(it),next(it),next(it),next(it),next(it),next(it)] #if the model is being fit for the first time\n",
    "        else :\n",
    "             data = [next(it)]\n",
    "        anomaly_predictions =  anomaly_detector.fit_predict(data)\n",
    "    \n",
    "except StopIteration:\n",
    "    pass\n"
   ]
  },
  {
   "cell_type": "code",
   "execution_count": 23,
   "metadata": {},
   "outputs": [
    {
     "name": "stdout",
     "output_type": "stream",
     "text": [
      "[232 235 239 242]\n"
     ]
    }
   ],
   "source": [
    "print(np.where(anomaly_predictions == -1)[0])\n"
   ]
  },
  {
   "cell_type": "code",
   "execution_count": 25,
   "metadata": {},
   "outputs": [],
   "source": [
    "test_ano = anomaly_detector.fit_predict(test_scaled)"
   ]
  },
  {
   "cell_type": "code",
   "execution_count": 27,
   "metadata": {},
   "outputs": [
    {
     "data": {
      "text/plain": [
       "-1"
      ]
     },
     "execution_count": 27,
     "metadata": {},
     "output_type": "execute_result"
    }
   ],
   "source": [
    "test_ano[-1]"
   ]
  }
 ],
 "metadata": {
  "kernelspec": {
   "display_name": "base",
   "language": "python",
   "name": "python3"
  },
  "language_info": {
   "codemirror_mode": {
    "name": "ipython",
    "version": 3
   },
   "file_extension": ".py",
   "mimetype": "text/x-python",
   "name": "python",
   "nbconvert_exporter": "python",
   "pygments_lexer": "ipython3",
   "version": "3.9.13"
  },
  "orig_nbformat": 4
 },
 "nbformat": 4,
 "nbformat_minor": 2
}
