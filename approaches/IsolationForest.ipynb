{
 "cells": [
  {
   "cell_type": "code",
   "execution_count": 1,
   "metadata": {},
   "outputs": [],
   "source": [
    "import pandas as pd\n",
    "from sklearn.ensemble import IsolationForest\n",
    "from sklearn.preprocessing import StandardScaler"
   ]
  },
  {
   "cell_type": "code",
   "execution_count": 2,
   "metadata": {},
   "outputs": [],
   "source": [
    "\n",
    "\n",
    "# Load dataset\n",
    "data = pd.read_csv(\"combined_data.csv\")\n"
   ]
  },
  {
   "cell_type": "code",
   "execution_count": 3,
   "metadata": {},
   "outputs": [],
   "source": [
    "\n",
    "# Pre-processing\n",
    "scaler = StandardScaler()\n",
    "scaled_data = scaler.fit_transform(data)\n"
   ]
  },
  {
   "cell_type": "code",
   "execution_count": 4,
   "metadata": {},
   "outputs": [],
   "source": [
    "\n",
    "# Feature engineering\n",
    "features = pd.DataFrame(scaled_data, columns=[\"current_1\", \"current_2\", \"current_3\"])\n",
    "features[\"mean\"] = features.mean(axis=1)\n",
    "features[\"std_dev\"] = features.std(axis=1)\n",
    "features[\"range\"] = features.max(axis=1) - features.min(axis=1)\n"
   ]
  },
  {
   "cell_type": "code",
   "execution_count": 5,
   "metadata": {},
   "outputs": [
    {
     "data": {
      "text/html": [
       "<div>\n",
       "<style scoped>\n",
       "    .dataframe tbody tr th:only-of-type {\n",
       "        vertical-align: middle;\n",
       "    }\n",
       "\n",
       "    .dataframe tbody tr th {\n",
       "        vertical-align: top;\n",
       "    }\n",
       "\n",
       "    .dataframe thead th {\n",
       "        text-align: right;\n",
       "    }\n",
       "</style>\n",
       "<table border=\"1\" class=\"dataframe\">\n",
       "  <thead>\n",
       "    <tr style=\"text-align: right;\">\n",
       "      <th></th>\n",
       "      <th>current_1</th>\n",
       "      <th>current_2</th>\n",
       "      <th>current_3</th>\n",
       "      <th>mean</th>\n",
       "      <th>std_dev</th>\n",
       "      <th>range</th>\n",
       "    </tr>\n",
       "  </thead>\n",
       "  <tbody>\n",
       "    <tr>\n",
       "      <th>0</th>\n",
       "      <td>0.313208</td>\n",
       "      <td>1.068750</td>\n",
       "      <td>-1.452652</td>\n",
       "      <td>-0.023565</td>\n",
       "      <td>1.056544</td>\n",
       "      <td>2.521402</td>\n",
       "    </tr>\n",
       "    <tr>\n",
       "      <th>1</th>\n",
       "      <td>0.263676</td>\n",
       "      <td>1.090930</td>\n",
       "      <td>-1.401367</td>\n",
       "      <td>-0.015587</td>\n",
       "      <td>1.036461</td>\n",
       "      <td>2.492297</td>\n",
       "    </tr>\n",
       "    <tr>\n",
       "      <th>2</th>\n",
       "      <td>0.263676</td>\n",
       "      <td>1.118655</td>\n",
       "      <td>-1.397704</td>\n",
       "      <td>-0.005124</td>\n",
       "      <td>1.044735</td>\n",
       "      <td>2.516359</td>\n",
       "    </tr>\n",
       "    <tr>\n",
       "      <th>3</th>\n",
       "      <td>0.230655</td>\n",
       "      <td>1.129745</td>\n",
       "      <td>-1.394040</td>\n",
       "      <td>-0.011213</td>\n",
       "      <td>1.044429</td>\n",
       "      <td>2.523786</td>\n",
       "    </tr>\n",
       "    <tr>\n",
       "      <th>4</th>\n",
       "      <td>0.219648</td>\n",
       "      <td>1.168561</td>\n",
       "      <td>-1.394040</td>\n",
       "      <td>-0.001944</td>\n",
       "      <td>1.057846</td>\n",
       "      <td>2.562601</td>\n",
       "    </tr>\n",
       "    <tr>\n",
       "      <th>...</th>\n",
       "      <td>...</td>\n",
       "      <td>...</td>\n",
       "      <td>...</td>\n",
       "      <td>...</td>\n",
       "      <td>...</td>\n",
       "      <td>...</td>\n",
       "    </tr>\n",
       "    <tr>\n",
       "      <th>3169995</th>\n",
       "      <td>1.270832</td>\n",
       "      <td>-1.055003</td>\n",
       "      <td>-0.243787</td>\n",
       "      <td>-0.009319</td>\n",
       "      <td>0.963884</td>\n",
       "      <td>2.325834</td>\n",
       "    </tr>\n",
       "    <tr>\n",
       "      <th>3169996</th>\n",
       "      <td>1.287342</td>\n",
       "      <td>-1.016187</td>\n",
       "      <td>-0.280419</td>\n",
       "      <td>-0.003088</td>\n",
       "      <td>0.960641</td>\n",
       "      <td>2.303530</td>\n",
       "    </tr>\n",
       "    <tr>\n",
       "      <th>3169997</th>\n",
       "      <td>1.292846</td>\n",
       "      <td>-0.994007</td>\n",
       "      <td>-0.324378</td>\n",
       "      <td>-0.008513</td>\n",
       "      <td>0.959949</td>\n",
       "      <td>2.286853</td>\n",
       "    </tr>\n",
       "    <tr>\n",
       "      <th>3169998</th>\n",
       "      <td>1.303853</td>\n",
       "      <td>-0.955192</td>\n",
       "      <td>-0.357347</td>\n",
       "      <td>-0.002895</td>\n",
       "      <td>0.955702</td>\n",
       "      <td>2.259045</td>\n",
       "    </tr>\n",
       "    <tr>\n",
       "      <th>3169999</th>\n",
       "      <td>1.309357</td>\n",
       "      <td>-0.921922</td>\n",
       "      <td>-0.408632</td>\n",
       "      <td>-0.007066</td>\n",
       "      <td>0.954146</td>\n",
       "      <td>2.231278</td>\n",
       "    </tr>\n",
       "  </tbody>\n",
       "</table>\n",
       "<p>3170000 rows × 6 columns</p>\n",
       "</div>"
      ],
      "text/plain": [
       "         current_1  current_2  current_3      mean   std_dev     range\n",
       "0         0.313208   1.068750  -1.452652 -0.023565  1.056544  2.521402\n",
       "1         0.263676   1.090930  -1.401367 -0.015587  1.036461  2.492297\n",
       "2         0.263676   1.118655  -1.397704 -0.005124  1.044735  2.516359\n",
       "3         0.230655   1.129745  -1.394040 -0.011213  1.044429  2.523786\n",
       "4         0.219648   1.168561  -1.394040 -0.001944  1.057846  2.562601\n",
       "...            ...        ...        ...       ...       ...       ...\n",
       "3169995   1.270832  -1.055003  -0.243787 -0.009319  0.963884  2.325834\n",
       "3169996   1.287342  -1.016187  -0.280419 -0.003088  0.960641  2.303530\n",
       "3169997   1.292846  -0.994007  -0.324378 -0.008513  0.959949  2.286853\n",
       "3169998   1.303853  -0.955192  -0.357347 -0.002895  0.955702  2.259045\n",
       "3169999   1.309357  -0.921922  -0.408632 -0.007066  0.954146  2.231278\n",
       "\n",
       "[3170000 rows x 6 columns]"
      ]
     },
     "execution_count": 5,
     "metadata": {},
     "output_type": "execute_result"
    }
   ],
   "source": [
    "features"
   ]
  },
  {
   "cell_type": "code",
   "execution_count": 6,
   "metadata": {},
   "outputs": [
    {
     "name": "stderr",
     "output_type": "stream",
     "text": [
      "c:\\Users\\deepdesk\\anaconda3\\lib\\site-packages\\sklearn\\base.py:450: UserWarning: X does not have valid feature names, but IsolationForest was fitted with feature names\n",
      "  warnings.warn(\n"
     ]
    },
    {
     "data": {
      "text/html": [
       "<style>#sk-container-id-1 {color: black;background-color: white;}#sk-container-id-1 pre{padding: 0;}#sk-container-id-1 div.sk-toggleable {background-color: white;}#sk-container-id-1 label.sk-toggleable__label {cursor: pointer;display: block;width: 100%;margin-bottom: 0;padding: 0.3em;box-sizing: border-box;text-align: center;}#sk-container-id-1 label.sk-toggleable__label-arrow:before {content: \"▸\";float: left;margin-right: 0.25em;color: #696969;}#sk-container-id-1 label.sk-toggleable__label-arrow:hover:before {color: black;}#sk-container-id-1 div.sk-estimator:hover label.sk-toggleable__label-arrow:before {color: black;}#sk-container-id-1 div.sk-toggleable__content {max-height: 0;max-width: 0;overflow: hidden;text-align: left;background-color: #f0f8ff;}#sk-container-id-1 div.sk-toggleable__content pre {margin: 0.2em;color: black;border-radius: 0.25em;background-color: #f0f8ff;}#sk-container-id-1 input.sk-toggleable__control:checked~div.sk-toggleable__content {max-height: 200px;max-width: 100%;overflow: auto;}#sk-container-id-1 input.sk-toggleable__control:checked~label.sk-toggleable__label-arrow:before {content: \"▾\";}#sk-container-id-1 div.sk-estimator input.sk-toggleable__control:checked~label.sk-toggleable__label {background-color: #d4ebff;}#sk-container-id-1 div.sk-label input.sk-toggleable__control:checked~label.sk-toggleable__label {background-color: #d4ebff;}#sk-container-id-1 input.sk-hidden--visually {border: 0;clip: rect(1px 1px 1px 1px);clip: rect(1px, 1px, 1px, 1px);height: 1px;margin: -1px;overflow: hidden;padding: 0;position: absolute;width: 1px;}#sk-container-id-1 div.sk-estimator {font-family: monospace;background-color: #f0f8ff;border: 1px dotted black;border-radius: 0.25em;box-sizing: border-box;margin-bottom: 0.5em;}#sk-container-id-1 div.sk-estimator:hover {background-color: #d4ebff;}#sk-container-id-1 div.sk-parallel-item::after {content: \"\";width: 100%;border-bottom: 1px solid gray;flex-grow: 1;}#sk-container-id-1 div.sk-label:hover label.sk-toggleable__label {background-color: #d4ebff;}#sk-container-id-1 div.sk-serial::before {content: \"\";position: absolute;border-left: 1px solid gray;box-sizing: border-box;top: 0;bottom: 0;left: 50%;z-index: 0;}#sk-container-id-1 div.sk-serial {display: flex;flex-direction: column;align-items: center;background-color: white;padding-right: 0.2em;padding-left: 0.2em;position: relative;}#sk-container-id-1 div.sk-item {position: relative;z-index: 1;}#sk-container-id-1 div.sk-parallel {display: flex;align-items: stretch;justify-content: center;background-color: white;position: relative;}#sk-container-id-1 div.sk-item::before, #sk-container-id-1 div.sk-parallel-item::before {content: \"\";position: absolute;border-left: 1px solid gray;box-sizing: border-box;top: 0;bottom: 0;left: 50%;z-index: -1;}#sk-container-id-1 div.sk-parallel-item {display: flex;flex-direction: column;z-index: 1;position: relative;background-color: white;}#sk-container-id-1 div.sk-parallel-item:first-child::after {align-self: flex-end;width: 50%;}#sk-container-id-1 div.sk-parallel-item:last-child::after {align-self: flex-start;width: 50%;}#sk-container-id-1 div.sk-parallel-item:only-child::after {width: 0;}#sk-container-id-1 div.sk-dashed-wrapped {border: 1px dashed gray;margin: 0 0.4em 0.5em 0.4em;box-sizing: border-box;padding-bottom: 0.4em;background-color: white;}#sk-container-id-1 div.sk-label label {font-family: monospace;font-weight: bold;display: inline-block;line-height: 1.2em;}#sk-container-id-1 div.sk-label-container {text-align: center;}#sk-container-id-1 div.sk-container {/* jupyter's `normalize.less` sets `[hidden] { display: none; }` but bootstrap.min.css set `[hidden] { display: none !important; }` so we also need the `!important` here to be able to override the default hidden behavior on the sphinx rendered scikit-learn.org. See: https://github.com/scikit-learn/scikit-learn/issues/21755 */display: inline-block !important;position: relative;}#sk-container-id-1 div.sk-text-repr-fallback {display: none;}</style><div id=\"sk-container-id-1\" class=\"sk-top-container\"><div class=\"sk-text-repr-fallback\"><pre>IsolationForest(contamination=0.01, random_state=42)</pre><b>In a Jupyter environment, please rerun this cell to show the HTML representation or trust the notebook. <br />On GitHub, the HTML representation is unable to render, please try loading this page with nbviewer.org.</b></div><div class=\"sk-container\" hidden><div class=\"sk-item\"><div class=\"sk-estimator sk-toggleable\"><input class=\"sk-toggleable__control sk-hidden--visually\" id=\"sk-estimator-id-1\" type=\"checkbox\" checked><label for=\"sk-estimator-id-1\" class=\"sk-toggleable__label sk-toggleable__label-arrow\">IsolationForest</label><div class=\"sk-toggleable__content\"><pre>IsolationForest(contamination=0.01, random_state=42)</pre></div></div></div></div></div>"
      ],
      "text/plain": [
       "IsolationForest(contamination=0.01, random_state=42)"
      ]
     },
     "execution_count": 6,
     "metadata": {},
     "output_type": "execute_result"
    }
   ],
   "source": [
    "\n",
    "# Model selection and training\n",
    "model = IsolationForest(n_estimators=100, contamination=0.01, random_state=42)\n",
    "model.fit(features)"
   ]
  },
  {
   "cell_type": "code",
   "execution_count": 12,
   "metadata": {},
   "outputs": [],
   "source": [
    "import copy\n",
    "import numpy as np"
   ]
  },
  {
   "cell_type": "code",
   "execution_count": 13,
   "metadata": {},
   "outputs": [],
   "source": [
    "def add_anomalies(dataframe, number_of_anomalies=0, data_length=0):\n",
    "\n",
    "        # Determine the upper bound of the data to which anomalies should be added.\n",
    "        upper_bound = number_of_anomalies if number_of_anomalies else len(dataframe)\n",
    "        \n",
    "        # Determine the length of the data to which anomalies should be added.\n",
    "        length = data_length if data_length else len(dataframe)\n",
    "\n",
    "        # Make a deep copy of the data up to the upper bound and length.\n",
    "        df = copy.deepcopy(dataframe[0:length])\n",
    "        noise_df = df.iloc[:upper_bound,:]\n",
    "\n",
    "        # Calculate the noise amplitude based on the signal amplitude.\n",
    "        noise_amplitude = 0.1 * np.max(np.abs(df))\n",
    "\n",
    "        # Add noise to the signal using amplitude scaling.\n",
    "        noise = np.random.normal(0, noise_amplitude, noise_df.shape)\n",
    "        \n",
    "        df.iloc[:upper_bound,:] += noise\n",
    "\n",
    "        return df\n"
   ]
  },
  {
   "cell_type": "code",
   "execution_count": 14,
   "metadata": {},
   "outputs": [
    {
     "name": "stderr",
     "output_type": "stream",
     "text": [
      "c:\\Users\\deepdesk\\anaconda3\\lib\\site-packages\\numpy\\core\\fromnumeric.py:84: FutureWarning: In a future version, DataFrame.max(axis=None) will return a scalar max over the entire DataFrame. To retain the old behavior, use 'frame.max(axis=0)' or just 'frame.max()'\n",
      "  return reduction(axis=axis, out=out, **passkwargs)\n"
     ]
    }
   ],
   "source": [
    "anomalous_data = add_anomalies(data,5000,10000)"
   ]
  },
  {
   "cell_type": "code",
   "execution_count": 15,
   "metadata": {},
   "outputs": [],
   "source": [
    "\n",
    "\n",
    "# Anomaly detection\n",
    "# new_data = pd.read_csv(\"real_time_data.csv\")\n",
    "scaled_new_data = scaler.transform(anomalous_data)\n",
    "new_features = pd.DataFrame(scaled_new_data, columns=[\"current_1\", \"current_2\", \"current_3\"])\n",
    "new_features[\"mean\"] = new_features.mean(axis=1)\n",
    "new_features[\"std_dev\"] = new_features.std(axis=1)\n",
    "new_features[\"range\"] = new_features.max(axis=1) - new_features.min(axis=1)\n",
    "\n",
    "anomalies = model.predict(new_features)\n",
    "\n"
   ]
  },
  {
   "cell_type": "code",
   "execution_count": 18,
   "metadata": {},
   "outputs": [
    {
     "data": {
      "text/plain": [
       "3555"
      ]
     },
     "execution_count": 18,
     "metadata": {},
     "output_type": "execute_result"
    }
   ],
   "source": [
    "sum(anomalies == -1)"
   ]
  },
  {
   "cell_type": "code",
   "execution_count": 20,
   "metadata": {},
   "outputs": [],
   "source": [
    "anomalies = model.predict(features[:10000])"
   ]
  },
  {
   "cell_type": "code",
   "execution_count": 21,
   "metadata": {},
   "outputs": [
    {
     "data": {
      "text/plain": [
       "78"
      ]
     },
     "execution_count": 21,
     "metadata": {},
     "output_type": "execute_result"
    }
   ],
   "source": [
    "sum(anomalies == -1)"
   ]
  },
  {
   "cell_type": "code",
   "execution_count": null,
   "metadata": {},
   "outputs": [],
   "source": [
    "\n",
    "# Alert generation\n",
    "if -1 in anomalies:\n",
    "    print(\"Anomaly detected! Alert the operator.\")\n",
    "else:\n",
    "    print(\"No anomalies detected.\")\n",
    "\n",
    "# Model evaluation\n",
    "# Check the detected anomalies and their validity based on the domain knowledge and expertise."
   ]
  }
 ],
 "metadata": {
  "kernelspec": {
   "display_name": "base",
   "language": "python",
   "name": "python3"
  },
  "language_info": {
   "codemirror_mode": {
    "name": "ipython",
    "version": 3
   },
   "file_extension": ".py",
   "mimetype": "text/x-python",
   "name": "python",
   "nbconvert_exporter": "python",
   "pygments_lexer": "ipython3",
   "version": "3.9.13"
  },
  "orig_nbformat": 4
 },
 "nbformat": 4,
 "nbformat_minor": 2
}
