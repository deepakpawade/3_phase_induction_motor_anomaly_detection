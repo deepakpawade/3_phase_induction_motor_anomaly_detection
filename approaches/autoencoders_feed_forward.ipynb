{
  "nbformat": 4,
  "nbformat_minor": 0,
  "metadata": {
    "colab": {
      "provenance": []
    },
    "kernelspec": {
      "name": "python3",
      "display_name": "Python 3"
    },
    "language_info": {
      "name": "python"
    },
    "accelerator": "GPU",
    "gpuClass": "standard"
  },
  "cells": [
    {
      "cell_type": "code",
      "execution_count": 3,
      "metadata": {
        "id": "XNufCKa_kANP"
      },
      "outputs": [],
      "source": [
        "import tensorflow as tf\n",
        "from tensorflow.keras.models import Model\n",
        "from sklearn.model_selection import train_test_split\n",
        "import pandas as pd\n",
        "import numpy as np\n",
        "import copy\n",
        "import os\n",
        "import matplotlib.pyplot as plt\n",
        "from sklearn.model_selection import train_test_split\n",
        "import warnings\n",
        "warnings.filterwarnings(\"ignore\")\n",
        "import sys\n",
        "sys.path.append('/content/drive/MyDrive/induction_motor')\n",
        "import modules,scaler\n"
      ]
    },
    {
      "cell_type": "code",
      "source": [
        "normal_data = pd.read_csv('/content/drive/MyDrive/induction_motor/combined_data.csv')\n"
      ],
      "metadata": {
        "id": "0G9qBo6Tk5tn"
      },
      "execution_count": 4,
      "outputs": []
    },
    {
      "cell_type": "code",
      "source": [
        "anomalous_data = pd.read_csv('/content/drive/MyDrive/induction_motor/a_data2.csv')"
      ],
      "metadata": {
        "id": "pg6IDSCIlsjh"
      },
      "execution_count": 5,
      "outputs": []
    },
    {
      "cell_type": "code",
      "source": [
        "normal_data.shape, anomalous_data.shape"
      ],
      "metadata": {
        "colab": {
          "base_uri": "https://localhost:8080/"
        },
        "id": "dAxy0Ne_lBAa",
        "outputId": "409fbad5-398e-4697-e296-8ab9743ea9fe"
      },
      "execution_count": 6,
      "outputs": [
        {
          "output_type": "execute_result",
          "data": {
            "text/plain": [
              "((3170000, 3), (10000, 3))"
            ]
          },
          "metadata": {},
          "execution_count": 6
        }
      ]
    },
    {
      "cell_type": "code",
      "source": [
        "\n",
        "\n",
        "train_scaler = scaler.Scaler()\n",
        "train_scaler.fit_unlabelled_data(normal_data)\n",
        "train_scaled = train_scaler.transform(normal_data)\n",
        "anomalous_scaled = train_scaler.transform(anomalous_data)"
      ],
      "metadata": {
        "colab": {
          "base_uri": "https://localhost:8080/"
        },
        "id": "abDtymVtmPTM",
        "outputId": "f1087884-39a7-4709-bf23-49af589d35f8"
      },
      "execution_count": 7,
      "outputs": [
        {
          "output_type": "stream",
          "name": "stdout",
          "text": [
            "using MinMaxScaler()\n"
          ]
        }
      ]
    },
    {
      "cell_type": "code",
      "source": [
        "normal_data.shape, anomalous_data.shape"
      ],
      "metadata": {
        "colab": {
          "base_uri": "https://localhost:8080/"
        },
        "id": "WrvcPwwQGvs8",
        "outputId": "2243d38b-67ec-4c4b-e599-e6e3c876d571"
      },
      "execution_count": 8,
      "outputs": [
        {
          "output_type": "execute_result",
          "data": {
            "text/plain": [
              "((3170000, 3), (10000, 3))"
            ]
          },
          "metadata": {},
          "execution_count": 8
        }
      ]
    },
    {
      "cell_type": "code",
      "source": [
        "\n",
        "# model subclassing\n",
        "class AutoEncoder(Model):\n",
        "  def __init__(self,activation='relu'):\n",
        "# In this code, AutoEncoder is a subclass of the Model class from the TensorFlow Keras API. When defining a subclass of a Python class, it is necessary to call the constructor of the parent class in order to initialize any inherited attributes or methods.\n",
        "# The super() function is used to call the constructor of the parent class. In this case, it calls the constructor of the Model class to initialize the AutoEncoder object as a Keras model.\n",
        "# Even though Model is not explicitly defined in the code, it is inherited by the AutoEncoder class, as it is defined in the TensorFlow Keras API. By calling super(AutoEncoder, self).__init__(), the constructor of the parent class (Model) is called, which initializes the necessary attributes for AutoEncoder to function as a Keras model.\n",
        "    super(AutoEncoder, self).__init__()  #not required but ensures that the AutoEncoder class is properly initialized as a Keras model, and it is compatible with other Keras models and tools.   \n",
        "    self.encoder = tf.keras.Sequential([\n",
        "      tf.keras.layers.Dense(64, activation=activation),\n",
        "      tf.keras.layers.Dense(32, activation=activation),\n",
        "      tf.keras.layers.Dense(16, activation=activation),\n",
        "      tf.keras.layers.Dense(8, activation=activation)])\n",
        "    \n",
        "    self.decoder = tf.keras.Sequential([\n",
        "      tf.keras.layers.Dense(16, activation=activation),\n",
        "      tf.keras.layers.Dense(32, activation=activation),\n",
        "      tf.keras.layers.Dense(64, activation=activation),\n",
        "      tf.keras.layers.Dense(3, activation=\"sigmoid\")])\n",
        "    \n",
        "  def call(self, x):\n",
        "    encoded = self.encoder(x)  #compresses the data\n",
        "    decoded = self.decoder(encoded) #reconstructs the original data \n",
        "    return decoded\n",
        "  \n",
        "\n"
      ],
      "metadata": {
        "id": "JBfHfiu7mVxC"
      },
      "execution_count": 9,
      "outputs": []
    },
    {
      "cell_type": "code",
      "source": [
        "model= AutoEncoder()\n",
        "early_stopping = tf.keras.callbacks.EarlyStopping(monitor='val_loss',     #stop if val_loss does not improve for more than 2 epochs\n",
        "                                                    patience=2,\n",
        "                                                    mode='min')  #check for min of val_loss, if accuracy then it should be max, 'auto' does it automatically\n",
        "\n",
        "model.compile(optimizer='adam', loss='mae')  \n",
        "\n"
      ],
      "metadata": {
        "id": "XJB9GaNzpUx8"
      },
      "execution_count": 10,
      "outputs": []
    },
    {
      "cell_type": "code",
      "source": [
        "from tqdm import tqdm\n",
        "\n",
        "file = 0\n",
        "for i in tqdm(range(0, len(train_scaled), 10000)):\n",
        "    history = model.fit(train_scaled[i:i+10000], train_scaled[i:i+10000],\n",
        "                        epochs=50,\n",
        "                        batch_size=128,\n",
        "                        validation_data=(train_scaled[i:i+10000], train_scaled[i:i+10000]),\n",
        "                        shuffle=True,\n",
        "                        callbacks=[early_stopping],\n",
        "                        verbose=0)\n"
      ],
      "metadata": {
        "colab": {
          "base_uri": "https://localhost:8080/"
        },
        "id": "8xS5sh2apXoN",
        "outputId": "de2af5b6-d071-4747-f5cf-bee94d899e2f"
      },
      "execution_count": 11,
      "outputs": [
        {
          "output_type": "stream",
          "name": "stderr",
          "text": [
            "100%|██████████| 317/317 [14:17<00:00,  2.71s/it]\n"
          ]
        }
      ]
    },
    {
      "cell_type": "code",
      "source": [
        "from tensorflow.keras.utils import model_to_dot\n",
        "import graphviz\n",
        "\n",
        "# Get the dot representation of the model\n",
        "dot = model_to_dot(model).to_string()\n",
        "\n",
        "# Use graphviz to render the model and get its size\n",
        "graph = graphviz.Source(dot)\n",
        "print(\"Model size (in bytes):\", graph.pipe(format='pdf').__sizeof__())"
      ],
      "metadata": {
        "colab": {
          "base_uri": "https://localhost:8080/"
        },
        "id": "P5Rms461I8Wu",
        "outputId": "0c6a11c8-0783-47ab-ca1f-26a52899ba40"
      },
      "execution_count": 12,
      "outputs": [
        {
          "output_type": "stream",
          "name": "stdout",
          "text": [
            "Model size (in bytes): 6613\n"
          ]
        }
      ]
    },
    {
      "cell_type": "code",
      "source": [
        "model.save('ffn_autoencoder')"
      ],
      "metadata": {
        "colab": {
          "base_uri": "https://localhost:8080/"
        },
        "id": "Sg8NUjMiKi4w",
        "outputId": "e0972bf7-5c32-4240-c404-289e8140176c"
      },
      "execution_count": 13,
      "outputs": [
        {
          "output_type": "stream",
          "name": "stderr",
          "text": [
            "WARNING:absl:Found untraced functions such as _update_step_xla while saving (showing 1 of 1). These functions will not be directly callable after loading.\n"
          ]
        }
      ]
    },
    {
      "cell_type": "code",
      "source": [
        "from tensorflow.keras.models import load_model\n",
        "\n",
        "loaded_model = load_model('ffn_autoencoder')"
      ],
      "metadata": {
        "id": "LjF239TRKkdq"
      },
      "execution_count": null,
      "outputs": []
    },
    {
      "cell_type": "markdown",
      "source": [
        "testing on self"
      ],
      "metadata": {
        "id": "oy1dYEWkLka8"
      }
    },
    {
      "cell_type": "code",
      "source": [
        "encoder_out = model.encoder(train_scaled).numpy()\n",
        "decoder_out = model.decoder(encoder_out).numpy()"
      ],
      "metadata": {
        "id": "2FymrB3BtPdH"
      },
      "execution_count": 54,
      "outputs": []
    },
    {
      "cell_type": "code",
      "source": [
        "plt.plot(train_scaled[0:1000,0:1],'b')\n",
        "plt.plot(decoder_out[0:1000,0:1],'r')"
      ],
      "metadata": {
        "colab": {
          "base_uri": "https://localhost:8080/",
          "height": 283
        },
        "id": "NpvSOsx5tSEu",
        "outputId": "baddb89f-3d0c-4d60-90b3-bc1faaa6c7c8"
      },
      "execution_count": 56,
      "outputs": [
        {
          "output_type": "execute_result",
          "data": {
            "text/plain": [
              "[<matplotlib.lines.Line2D at 0x7f38c2211ca0>]"
            ]
          },
          "metadata": {},
          "execution_count": 56
        },
        {
          "output_type": "display_data",
          "data": {
            "text/plain": [
              "<Figure size 432x288 with 1 Axes>"
            ],
            "image/png": "[encoded data removed]"
          },
          "metadata": {
            "needs_background": "light"
          }
        }
      ]
    },
    {
      "cell_type": "code",
      "source": [
        "np.mean(tf.keras.losses.mae(decoder_out, train_scaled))"
      ],
      "metadata": {
        "colab": {
          "base_uri": "https://localhost:8080/"
        },
        "id": "JgpWIABBwKJk",
        "outputId": "ba3000bd-751d-4c39-d7a1-22407f960f90"
      },
      "execution_count": 57,
      "outputs": [
        {
          "output_type": "execute_result",
          "data": {
            "text/plain": [
              "0.004751247518910588"
            ]
          },
          "metadata": {},
          "execution_count": 57
        }
      ]
    },
    {
      "cell_type": "markdown",
      "source": [
        "Testing on anomalous ( less anomalous )"
      ],
      "metadata": {
        "id": "bVPekR1SLn4k"
      }
    },
    {
      "cell_type": "code",
      "source": [
        "encoder_out_a = model.encoder(anomalous_scaled).numpy()\n",
        "decoder_out_a = model.decoder(encoder_out_a).numpy()"
      ],
      "metadata": {
        "id": "e9TnGL7htaik"
      },
      "execution_count": 58,
      "outputs": []
    },
    {
      "cell_type": "code",
      "source": [
        "plt.plot(anomalous_scaled[0:1000,0:1],'b')\n",
        "plt.plot(decoder_out_a[0:1000,0:1],'r')"
      ],
      "metadata": {
        "colab": {
          "base_uri": "https://localhost:8080/",
          "height": 283
        },
        "id": "UG8KnI6EtbhK",
        "outputId": "80f37c2e-b894-4cc5-acc7-d762c7e70881"
      },
      "execution_count": 59,
      "outputs": [
        {
          "output_type": "execute_result",
          "data": {
            "text/plain": [
              "[<matplotlib.lines.Line2D at 0x7f38cc2d4400>]"
            ]
          },
          "metadata": {},
          "execution_count": 59
        },
        {
          "output_type": "display_data",
          "data": {
            "text/plain": [
              "<Figure size 432x288 with 1 Axes>"
            ],
            "image/png": "[encoded data removed]"
          },
          "metadata": {
            "needs_background": "light"
          }
        }
      ]
    },
    {
      "cell_type": "code",
      "source": [
        "np.mean(tf.keras.losses.mae(decoder_out_a, anomalous_scaled))"
      ],
      "metadata": {
        "colab": {
          "base_uri": "https://localhost:8080/"
        },
        "id": "zr7-FuOKteYh",
        "outputId": "9e0559bd-7796-4752-a77d-44c5db8ca25b"
      },
      "execution_count": 61,
      "outputs": [
        {
          "output_type": "execute_result",
          "data": {
            "text/plain": [
              "0.03909676052243761"
            ]
          },
          "metadata": {},
          "execution_count": 61
        }
      ]
    },
    {
      "cell_type": "markdown",
      "source": [
        "Testing on noisy"
      ],
      "metadata": {
        "id": "cbFEPQBpLqOb"
      }
    },
    {
      "cell_type": "code",
      "source": [
        "noisy = pd.read_csv('/content/drive/MyDrive/induction_motor/noisy_data.csv')\n",
        "noisy_scaled = train_scaler.transform(noisy)\n"
      ],
      "metadata": {
        "id": "nE8qZaPmLrqU"
      },
      "execution_count": 34,
      "outputs": []
    },
    {
      "cell_type": "code",
      "source": [
        "plt.subplot(3, 1, 1)\n",
        "plt.plot(noisy['current_1'].loc[0:1000],'b',label='anomalous')\n",
        "plt.subplot(3, 1, 2)\n",
        "plt.plot(noisy['current_2'].loc[0:1000],'b',label='anomalous')\n",
        "plt.subplot(3, 1, 3)\n",
        "plt.plot(noisy['current_3'].loc[0:1000],'b',label='anomalous')\n",
        "plt.subplot(3, 1, 1)"
      ],
      "metadata": {
        "colab": {
          "base_uri": "https://localhost:8080/",
          "height": 283
        },
        "id": "-60JBl15O1rz",
        "outputId": "7eefba22-c6df-4634-bb41-3ee18379c7ad"
      },
      "execution_count": 63,
      "outputs": [
        {
          "output_type": "execute_result",
          "data": {
            "text/plain": [
              "<AxesSubplot:>"
            ]
          },
          "metadata": {},
          "execution_count": 63
        },
        {
          "output_type": "display_data",
          "data": {
            "text/plain": [
              "<Figure size 432x288 with 3 Axes>"
            ],
            "image/png": "[encoded data removed]"
          },
          "metadata": {
            "needs_background": "light"
          }
        }
      ]
    },
    {
      "cell_type": "code",
      "source": [
        "encoder_out_n = model.encoder(noisy_scaled).numpy()\n",
        "decoder_out_n = model.decoder(encoder_out_a).numpy()"
      ],
      "metadata": {
        "id": "Zf_Xe0_TMUB0"
      },
      "execution_count": 64,
      "outputs": []
    },
    {
      "cell_type": "code",
      "source": [
        "plt.plot(noisy_scaled[0:1000,0:1],'b')\n",
        "plt.plot(decoder_out_n[0:1000,0:1],'r')"
      ],
      "metadata": {
        "colab": {
          "base_uri": "https://localhost:8080/",
          "height": 283
        },
        "id": "4Re9--PcMZOG",
        "outputId": "588b65a7-57e8-4274-b0aa-4bede9c12e0b"
      },
      "execution_count": 65,
      "outputs": [
        {
          "output_type": "execute_result",
          "data": {
            "text/plain": [
              "[<matplotlib.lines.Line2D at 0x7f382dcf0af0>]"
            ]
          },
          "metadata": {},
          "execution_count": 65
        },
        {
          "output_type": "display_data",
          "data": {
            "text/plain": [
              "<Figure size 432x288 with 1 Axes>"
            ],
            "image/png": "[encoded data removed]"
          },
          "metadata": {
            "needs_background": "light"
          }
        }
      ]
    },
    {
      "cell_type": "code",
      "source": [
        "decoder_out_n.shape, noisy_scaled.shape"
      ],
      "metadata": {
        "colab": {
          "base_uri": "https://localhost:8080/"
        },
        "id": "6u0nMdVePTEw",
        "outputId": "81399a0d-977b-4c92-d68f-b2ca601ea74c"
      },
      "execution_count": 74,
      "outputs": [
        {
          "output_type": "execute_result",
          "data": {
            "text/plain": [
              "((10000, 3), (1000, 3))"
            ]
          },
          "metadata": {},
          "execution_count": 74
        }
      ]
    },
    {
      "cell_type": "code",
      "source": [
        "np.mean(tf.keras.losses.mae(decoder_out_n[0:1000], noisy_scaled))\n"
      ],
      "metadata": {
        "colab": {
          "base_uri": "https://localhost:8080/"
        },
        "id": "PDd1BegdMk7s",
        "outputId": "66b4837a-9dba-4e22-ce08-4c49e53a6f92"
      },
      "execution_count": 75,
      "outputs": [
        {
          "output_type": "execute_result",
          "data": {
            "text/plain": [
              "2.391773482258329"
            ]
          },
          "metadata": {},
          "execution_count": 75
        }
      ]
    },
    {
      "cell_type": "markdown",
      "source": [
        "more anomalous data"
      ],
      "metadata": {
        "id": "VD54WkYhMupU"
      }
    },
    {
      "cell_type": "code",
      "source": [
        "df_a = modules.AnomalyGenerator.add_anomalies(normal_data[0:10000], spike_magnitude=50,spike_probability=0.02, dropout_probability=0.01, drift_amplitude=300, drift_frequency=0.01,transient_magnitude=1000, transient_duration=1000)"
      ],
      "metadata": {
        "id": "7rjdpWdmMwfd"
      },
      "execution_count": 39,
      "outputs": []
    },
    {
      "cell_type": "code",
      "source": [
        "plt.subplot(3, 1, 1)\n",
        "plt.plot(df_a['current_1'].loc[0:1000],'b',label='anomalous')\n",
        "plt.subplot(3, 1, 2)\n",
        "plt.plot(df_a['current_2'].loc[0:1000],'b',label='anomalous')\n",
        "plt.subplot(3, 1, 3)\n",
        "plt.plot(df_a['current_3'].loc[0:1000],'b',label='anomalous')\n",
        "plt.subplot(3, 1, 1)\n",
        "plt.plot(normal_data['current_1'].loc[0:1000],'r',label='normal')\n",
        "plt.subplot(3, 1, 2)\n",
        "plt.plot(normal_data['current_2'].loc[0:1000],'r',label='normal')\n",
        "plt.subplot(3, 1, 3)\n",
        "plt.plot(normal_data['current_3'].loc[0:1000],'r',label='normal')\n",
        "plt.legend()"
      ],
      "metadata": {
        "colab": {
          "base_uri": "https://localhost:8080/",
          "height": 283
        },
        "id": "E3-eJrOZM_Tp",
        "outputId": "ca684c5f-4001-48bf-ec11-e255439c4b7d"
      },
      "execution_count": 40,
      "outputs": [
        {
          "output_type": "execute_result",
          "data": {
            "text/plain": [
              "<matplotlib.legend.Legend at 0x7f382e7ee400>"
            ]
          },
          "metadata": {},
          "execution_count": 40
        },
        {
          "output_type": "display_data",
          "data": {
            "text/plain": [
              "<Figure size 432x288 with 3 Axes>"
            ],
            "image/png": "[encoded data removed]"
          },
          "metadata": {
            "needs_background": "light"
          }
        }
      ]
    },
    {
      "cell_type": "code",
      "source": [
        "df_a_scaled = train_scaler.transform(df_a)"
      ],
      "metadata": {
        "id": "o5FQe70YNMhJ"
      },
      "execution_count": 43,
      "outputs": []
    },
    {
      "cell_type": "code",
      "source": [
        "plt.subplot(3, 1, 1)\n",
        "plt.plot(df_a_scaled[0:1000,0:1],'b',label='anomalous')\n",
        "plt.subplot(3, 1, 2)\n",
        "plt.plot(df_a_scaled[0:1000,0:2],'b',label='anomalous')\n",
        "plt.subplot(3, 1, 3)\n",
        "plt.plot(df_a_scaled[0:1000,0:3],'b',label='anomalous')"
      ],
      "metadata": {
        "colab": {
          "base_uri": "https://localhost:8080/",
          "height": 319
        },
        "id": "owTwJE5ONU8A",
        "outputId": "b0e45f0e-beac-404c-9772-be6ea6a74b45"
      },
      "execution_count": 45,
      "outputs": [
        {
          "output_type": "execute_result",
          "data": {
            "text/plain": [
              "[<matplotlib.lines.Line2D at 0x7f382dc95940>,\n",
              " <matplotlib.lines.Line2D at 0x7f382dc953d0>,\n",
              " <matplotlib.lines.Line2D at 0x7f382dc95c70>]"
            ]
          },
          "metadata": {},
          "execution_count": 45
        },
        {
          "output_type": "display_data",
          "data": {
            "text/plain": [
              "<Figure size 432x288 with 3 Axes>"
            ],
            "image/png": "[encoded data removed]"
          },
          "metadata": {
            "needs_background": "light"
          }
        }
      ]
    },
    {
      "cell_type": "code",
      "source": [
        "encoder_out_df_a = model.encoder(df_a_scaled).numpy()\n",
        "decoder_out_df_a = model.decoder(encoder_out_df_a).numpy()"
      ],
      "metadata": {
        "id": "T5NJ7q9GNrkk"
      },
      "execution_count": 76,
      "outputs": []
    },
    {
      "cell_type": "code",
      "source": [
        "plt.plot(df_a_scaled[0:1000,0:1],'b')\n",
        "plt.plot(decoder_out_df_a[0:1000,0:1],'r')"
      ],
      "metadata": {
        "colab": {
          "base_uri": "https://localhost:8080/",
          "height": 283
        },
        "id": "F0APNEsSN02A",
        "outputId": "e012c769-d8ab-4700-f453-10ddeaef0f44"
      },
      "execution_count": 77,
      "outputs": [
        {
          "output_type": "execute_result",
          "data": {
            "text/plain": [
              "[<matplotlib.lines.Line2D at 0x7f381d61ca90>]"
            ]
          },
          "metadata": {},
          "execution_count": 77
        },
        {
          "output_type": "display_data",
          "data": {
            "text/plain": [
              "<Figure size 432x288 with 1 Axes>"
            ],
            "image/png": "[encoded data removed]"
          },
          "metadata": {
            "needs_background": "light"
          }
        }
      ]
    },
    {
      "cell_type": "code",
      "source": [
        "np.mean(tf.keras.losses.mae(decoder_out_df_a, df_a_scaled))"
      ],
      "metadata": {
        "colab": {
          "base_uri": "https://localhost:8080/"
        },
        "id": "fZe34mpuOCmy",
        "outputId": "7c5f7b85-110e-4511-9f79-306e105a53e5"
      },
      "execution_count": 78,
      "outputs": [
        {
          "output_type": "execute_result",
          "data": {
            "text/plain": [
              "0.22390506598712154"
            ]
          },
          "metadata": {},
          "execution_count": 78
        }
      ]
    },
    {
      "cell_type": "markdown",
      "source": [
        "visualizing losses on train data and calculating a threshold for anomalies"
      ],
      "metadata": {
        "id": "cbHPp194P0je"
      }
    },
    {
      "cell_type": "code",
      "source": [
        "reconstructions = model.predict(train_scaled)\n",
        "train_loss = tf.keras.losses.mae(reconstructions, train_scaled)"
      ],
      "metadata": {
        "colab": {
          "base_uri": "https://localhost:8080/"
        },
        "id": "8QMLUgapPzyU",
        "outputId": "82befc7e-b836-4a06-b76f-3e806724fb25"
      },
      "execution_count": 80,
      "outputs": [
        {
          "output_type": "stream",
          "name": "stdout",
          "text": [
            "99063/99063 [==============================] - 188s 2ms/step\n"
          ]
        }
      ]
    },
    {
      "cell_type": "code",
      "source": [
        "import seaborn as sns\n",
        "sns.kdeplot(train_loss, bw_adjust= 0.5)"
      ],
      "metadata": {
        "colab": {
          "base_uri": "https://localhost:8080/",
          "height": 283
        },
        "id": "ej_D3dlntieM",
        "outputId": "b1113828-7b4d-4d77-a18c-55e56e44fc8d"
      },
      "execution_count": 81,
      "outputs": [
        {
          "output_type": "execute_result",
          "data": {
            "text/plain": [
              "<AxesSubplot:ylabel='Density'>"
            ]
          },
          "metadata": {},
          "execution_count": 81
        },
        {
          "output_type": "display_data",
          "data": {
            "text/plain": [
              "<Figure size 432x288 with 1 Axes>"
            ],
            "image/png": "[encoded data removed]"
          },
          "metadata": {
            "needs_background": "light"
          }
        }
      ]
    },
    {
      "cell_type": "code",
      "source": [
        "threshold = np.mean(train_loss) + 4*np.std(train_loss)"
      ],
      "metadata": {
        "id": "X8hXXcKLtjzL"
      },
      "execution_count": 89,
      "outputs": []
    },
    {
      "cell_type": "code",
      "source": [
        "threshold"
      ],
      "metadata": {
        "colab": {
          "base_uri": "https://localhost:8080/"
        },
        "id": "kDtOVQeXQDPZ",
        "outputId": "10f33747-f98f-4094-b690-4d03a1d05af8"
      },
      "execution_count": 90,
      "outputs": [
        {
          "output_type": "execute_result",
          "data": {
            "text/plain": [
              "0.018222184757430586"
            ]
          },
          "metadata": {},
          "execution_count": 90
        }
      ]
    },
    {
      "cell_type": "code",
      "source": [
        "np.sum(train_loss > threshold)"
      ],
      "metadata": {
        "colab": {
          "base_uri": "https://localhost:8080/"
        },
        "id": "YS_ssFDItlEh",
        "outputId": "87cdf8e3-51cd-439e-ff65-44185598d11c"
      },
      "execution_count": 91,
      "outputs": [
        {
          "output_type": "execute_result",
          "data": {
            "text/plain": [
              "42375"
            ]
          },
          "metadata": {},
          "execution_count": 91
        }
      ]
    },
    {
      "cell_type": "markdown",
      "source": [
        "find indices and files of anomalies"
      ],
      "metadata": {
        "id": "bpoX3lGwSXpr"
      }
    },
    {
      "cell_type": "code",
      "source": [
        "indices = np.where(tf.math.less(train_loss, threshold) == False)[0]"
      ],
      "metadata": {
        "id": "qYsQvHgzSda5"
      },
      "execution_count": 92,
      "outputs": []
    },
    {
      "cell_type": "code",
      "source": [
        "\n",
        "file_size = 10000\n",
        "num_files = len(train_scaled) // file_size\n",
        "\n",
        "# Create histogram of indices based on file number\n",
        "hist, bin_edges = np.histogram(indices, bins=num_files, range=(0, len(train_scaled)))\n",
        "file_indices = np.digitize(indices, bin_edges[:-1])\n",
        "\n",
        "# Count number of anomalies per file\n",
        "file_counts = {}\n",
        "for i in range(1, num_files+1):\n",
        "    file_counts[i] = np.count_nonzero(file_indices == i)\n",
        "\n",
        "# Sort files by number of anomalies (in descending order)\n",
        "sorted_files = sorted(file_counts.items(), key=lambda x: x[1], reverse=True)\n",
        "\n",
        "# Print results\n",
        "for file_num, count in sorted_files:\n",
        "    print(f\"File {file_num}: {count} anomalies\")"
      ],
      "metadata": {
        "id": "pVAJxz9IyFdj",
        "colab": {
          "base_uri": "https://localhost:8080/"
        },
        "outputId": "eb872eba-bc40-4ef8-afcf-f38901f8e1cb"
      },
      "execution_count": 93,
      "outputs": [
        {
          "output_type": "stream",
          "name": "stdout",
          "text": [
            "File 219: 1705 anomalies\n",
            "File 217: 1630 anomalies\n",
            "File 218: 1619 anomalies\n",
            "File 220: 1619 anomalies\n",
            "File 224: 1609 anomalies\n",
            "File 215: 1598 anomalies\n",
            "File 225: 1598 anomalies\n",
            "File 216: 1589 anomalies\n",
            "File 221: 1571 anomalies\n",
            "File 210: 1562 anomalies\n",
            "File 212: 1560 anomalies\n",
            "File 214: 1555 anomalies\n",
            "File 213: 1553 anomalies\n",
            "File 199: 1544 anomalies\n",
            "File 207: 1510 anomalies\n",
            "File 209: 1468 anomalies\n",
            "File 208: 1452 anomalies\n",
            "File 198: 1448 anomalies\n",
            "File 201: 1435 anomalies\n",
            "File 206: 1430 anomalies\n",
            "File 203: 1394 anomalies\n",
            "File 204: 1384 anomalies\n",
            "File 205: 1380 anomalies\n",
            "File 202: 1256 anomalies\n",
            "File 240: 1186 anomalies\n",
            "File 236: 916 anomalies\n",
            "File 233: 855 anomalies\n",
            "File 231: 785 anomalies\n",
            "File 232: 771 anomalies\n",
            "File 230: 324 anomalies\n",
            "File 235: 286 anomalies\n",
            "File 229: 239 anomalies\n",
            "File 241: 132 anomalies\n",
            "File 226: 94 anomalies\n",
            "File 197: 36 anomalies\n",
            "File 243: 25 anomalies\n",
            "File 196: 15 anomalies\n",
            "File 36: 5 anomalies\n",
            "File 39: 5 anomalies\n",
            "File 42: 4 anomalies\n",
            "File 49: 4 anomalies\n",
            "File 298: 4 anomalies\n",
            "File 21: 3 anomalies\n",
            "File 24: 3 anomalies\n",
            "File 30: 3 anomalies\n",
            "File 31: 3 anomalies\n",
            "File 32: 3 anomalies\n",
            "File 35: 3 anomalies\n",
            "File 37: 3 anomalies\n",
            "File 38: 3 anomalies\n",
            "File 53: 3 anomalies\n",
            "File 80: 3 anomalies\n",
            "File 110: 3 anomalies\n",
            "File 111: 3 anomalies\n",
            "File 185: 3 anomalies\n",
            "File 194: 3 anomalies\n",
            "File 195: 3 anomalies\n",
            "File 237: 3 anomalies\n",
            "File 266: 3 anomalies\n",
            "File 274: 3 anomalies\n",
            "File 276: 3 anomalies\n",
            "File 294: 3 anomalies\n",
            "File 18: 2 anomalies\n",
            "File 26: 2 anomalies\n",
            "File 46: 2 anomalies\n",
            "File 47: 2 anomalies\n",
            "File 69: 2 anomalies\n",
            "File 72: 2 anomalies\n",
            "File 79: 2 anomalies\n",
            "File 81: 2 anomalies\n",
            "File 94: 2 anomalies\n",
            "File 95: 2 anomalies\n",
            "File 98: 2 anomalies\n",
            "File 102: 2 anomalies\n",
            "File 117: 2 anomalies\n",
            "File 123: 2 anomalies\n",
            "File 136: 2 anomalies\n",
            "File 137: 2 anomalies\n",
            "File 138: 2 anomalies\n",
            "File 143: 2 anomalies\n",
            "File 147: 2 anomalies\n",
            "File 166: 2 anomalies\n",
            "File 170: 2 anomalies\n",
            "File 174: 2 anomalies\n",
            "File 189: 2 anomalies\n",
            "File 239: 2 anomalies\n",
            "File 261: 2 anomalies\n",
            "File 282: 2 anomalies\n",
            "File 287: 2 anomalies\n",
            "File 291: 2 anomalies\n",
            "File 292: 2 anomalies\n",
            "File 297: 2 anomalies\n",
            "File 313: 2 anomalies\n",
            "File 315: 2 anomalies\n",
            "File 2: 1 anomalies\n",
            "File 3: 1 anomalies\n",
            "File 4: 1 anomalies\n",
            "File 5: 1 anomalies\n",
            "File 6: 1 anomalies\n",
            "File 7: 1 anomalies\n",
            "File 8: 1 anomalies\n",
            "File 13: 1 anomalies\n",
            "File 14: 1 anomalies\n",
            "File 16: 1 anomalies\n",
            "File 17: 1 anomalies\n",
            "File 19: 1 anomalies\n",
            "File 20: 1 anomalies\n",
            "File 23: 1 anomalies\n",
            "File 25: 1 anomalies\n",
            "File 27: 1 anomalies\n",
            "File 34: 1 anomalies\n",
            "File 40: 1 anomalies\n",
            "File 41: 1 anomalies\n",
            "File 45: 1 anomalies\n",
            "File 48: 1 anomalies\n",
            "File 54: 1 anomalies\n",
            "File 58: 1 anomalies\n",
            "File 60: 1 anomalies\n",
            "File 61: 1 anomalies\n",
            "File 66: 1 anomalies\n",
            "File 68: 1 anomalies\n",
            "File 71: 1 anomalies\n",
            "File 74: 1 anomalies\n",
            "File 76: 1 anomalies\n",
            "File 77: 1 anomalies\n",
            "File 78: 1 anomalies\n",
            "File 82: 1 anomalies\n",
            "File 84: 1 anomalies\n",
            "File 85: 1 anomalies\n",
            "File 88: 1 anomalies\n",
            "File 93: 1 anomalies\n",
            "File 96: 1 anomalies\n",
            "File 100: 1 anomalies\n",
            "File 104: 1 anomalies\n",
            "File 108: 1 anomalies\n",
            "File 112: 1 anomalies\n",
            "File 120: 1 anomalies\n",
            "File 121: 1 anomalies\n",
            "File 125: 1 anomalies\n",
            "File 127: 1 anomalies\n",
            "File 129: 1 anomalies\n",
            "File 130: 1 anomalies\n",
            "File 132: 1 anomalies\n",
            "File 134: 1 anomalies\n",
            "File 144: 1 anomalies\n",
            "File 146: 1 anomalies\n",
            "File 149: 1 anomalies\n",
            "File 150: 1 anomalies\n",
            "File 152: 1 anomalies\n",
            "File 157: 1 anomalies\n",
            "File 159: 1 anomalies\n",
            "File 161: 1 anomalies\n",
            "File 162: 1 anomalies\n",
            "File 163: 1 anomalies\n",
            "File 164: 1 anomalies\n",
            "File 165: 1 anomalies\n",
            "File 167: 1 anomalies\n",
            "File 169: 1 anomalies\n",
            "File 171: 1 anomalies\n",
            "File 178: 1 anomalies\n",
            "File 184: 1 anomalies\n",
            "File 193: 1 anomalies\n",
            "File 200: 1 anomalies\n",
            "File 211: 1 anomalies\n",
            "File 222: 1 anomalies\n",
            "File 223: 1 anomalies\n",
            "File 227: 1 anomalies\n",
            "File 238: 1 anomalies\n",
            "File 247: 1 anomalies\n",
            "File 248: 1 anomalies\n",
            "File 252: 1 anomalies\n",
            "File 257: 1 anomalies\n",
            "File 258: 1 anomalies\n",
            "File 260: 1 anomalies\n",
            "File 262: 1 anomalies\n",
            "File 268: 1 anomalies\n",
            "File 271: 1 anomalies\n",
            "File 277: 1 anomalies\n",
            "File 280: 1 anomalies\n",
            "File 283: 1 anomalies\n",
            "File 286: 1 anomalies\n",
            "File 288: 1 anomalies\n",
            "File 289: 1 anomalies\n",
            "File 293: 1 anomalies\n",
            "File 302: 1 anomalies\n",
            "File 305: 1 anomalies\n",
            "File 308: 1 anomalies\n",
            "File 309: 1 anomalies\n",
            "File 310: 1 anomalies\n",
            "File 317: 1 anomalies\n",
            "File 1: 0 anomalies\n",
            "File 9: 0 anomalies\n",
            "File 10: 0 anomalies\n",
            "File 11: 0 anomalies\n",
            "File 12: 0 anomalies\n",
            "File 15: 0 anomalies\n",
            "File 22: 0 anomalies\n",
            "File 28: 0 anomalies\n",
            "File 29: 0 anomalies\n",
            "File 33: 0 anomalies\n",
            "File 43: 0 anomalies\n",
            "File 44: 0 anomalies\n",
            "File 50: 0 anomalies\n",
            "File 51: 0 anomalies\n",
            "File 52: 0 anomalies\n",
            "File 55: 0 anomalies\n",
            "File 56: 0 anomalies\n",
            "File 57: 0 anomalies\n",
            "File 59: 0 anomalies\n",
            "File 62: 0 anomalies\n",
            "File 63: 0 anomalies\n",
            "File 64: 0 anomalies\n",
            "File 65: 0 anomalies\n",
            "File 67: 0 anomalies\n",
            "File 70: 0 anomalies\n",
            "File 73: 0 anomalies\n",
            "File 75: 0 anomalies\n",
            "File 83: 0 anomalies\n",
            "File 86: 0 anomalies\n",
            "File 87: 0 anomalies\n",
            "File 89: 0 anomalies\n",
            "File 90: 0 anomalies\n",
            "File 91: 0 anomalies\n",
            "File 92: 0 anomalies\n",
            "File 97: 0 anomalies\n",
            "File 99: 0 anomalies\n",
            "File 101: 0 anomalies\n",
            "File 103: 0 anomalies\n",
            "File 105: 0 anomalies\n",
            "File 106: 0 anomalies\n",
            "File 107: 0 anomalies\n",
            "File 109: 0 anomalies\n",
            "File 113: 0 anomalies\n",
            "File 114: 0 anomalies\n",
            "File 115: 0 anomalies\n",
            "File 116: 0 anomalies\n",
            "File 118: 0 anomalies\n",
            "File 119: 0 anomalies\n",
            "File 122: 0 anomalies\n",
            "File 124: 0 anomalies\n",
            "File 126: 0 anomalies\n",
            "File 128: 0 anomalies\n",
            "File 131: 0 anomalies\n",
            "File 133: 0 anomalies\n",
            "File 135: 0 anomalies\n",
            "File 139: 0 anomalies\n",
            "File 140: 0 anomalies\n",
            "File 141: 0 anomalies\n",
            "File 142: 0 anomalies\n",
            "File 145: 0 anomalies\n",
            "File 148: 0 anomalies\n",
            "File 151: 0 anomalies\n",
            "File 153: 0 anomalies\n",
            "File 154: 0 anomalies\n",
            "File 155: 0 anomalies\n",
            "File 156: 0 anomalies\n",
            "File 158: 0 anomalies\n",
            "File 160: 0 anomalies\n",
            "File 168: 0 anomalies\n",
            "File 172: 0 anomalies\n",
            "File 173: 0 anomalies\n",
            "File 175: 0 anomalies\n",
            "File 176: 0 anomalies\n",
            "File 177: 0 anomalies\n",
            "File 179: 0 anomalies\n",
            "File 180: 0 anomalies\n",
            "File 181: 0 anomalies\n",
            "File 182: 0 anomalies\n",
            "File 183: 0 anomalies\n",
            "File 186: 0 anomalies\n",
            "File 187: 0 anomalies\n",
            "File 188: 0 anomalies\n",
            "File 190: 0 anomalies\n",
            "File 191: 0 anomalies\n",
            "File 192: 0 anomalies\n",
            "File 228: 0 anomalies\n",
            "File 234: 0 anomalies\n",
            "File 242: 0 anomalies\n",
            "File 244: 0 anomalies\n",
            "File 245: 0 anomalies\n",
            "File 246: 0 anomalies\n",
            "File 249: 0 anomalies\n",
            "File 250: 0 anomalies\n",
            "File 251: 0 anomalies\n",
            "File 253: 0 anomalies\n",
            "File 254: 0 anomalies\n",
            "File 255: 0 anomalies\n",
            "File 256: 0 anomalies\n",
            "File 259: 0 anomalies\n",
            "File 263: 0 anomalies\n",
            "File 264: 0 anomalies\n",
            "File 265: 0 anomalies\n",
            "File 267: 0 anomalies\n",
            "File 269: 0 anomalies\n",
            "File 270: 0 anomalies\n",
            "File 272: 0 anomalies\n",
            "File 273: 0 anomalies\n",
            "File 275: 0 anomalies\n",
            "File 278: 0 anomalies\n",
            "File 279: 0 anomalies\n",
            "File 281: 0 anomalies\n",
            "File 284: 0 anomalies\n",
            "File 285: 0 anomalies\n",
            "File 290: 0 anomalies\n",
            "File 295: 0 anomalies\n",
            "File 296: 0 anomalies\n",
            "File 299: 0 anomalies\n",
            "File 300: 0 anomalies\n",
            "File 301: 0 anomalies\n",
            "File 303: 0 anomalies\n",
            "File 304: 0 anomalies\n",
            "File 306: 0 anomalies\n",
            "File 307: 0 anomalies\n",
            "File 311: 0 anomalies\n",
            "File 312: 0 anomalies\n",
            "File 314: 0 anomalies\n",
            "File 316: 0 anomalies\n"
          ]
        }
      ]
    },
    {
      "cell_type": "markdown",
      "source": [
        "For real Real time : generator function that reads and yields batches of data from the files as they come"
      ],
      "metadata": {
        "id": "gQ87iM6LTJJ6"
      }
    },
    {
      "cell_type": "code",
      "source": [
        "class DataGenerator(tf.keras.utils.Sequence):\n",
        "  def __init__(self, file_paths, batch_size):\n",
        "    self.file_paths = file_paths\n",
        "    self.batch_size = batch_size\n",
        "\n",
        "  def __len__(self):\n",
        "    return len(self.file_paths)\n",
        "\n",
        "  def __getitem__(self, idx):\n",
        "    file_path = self.file_paths[idx]\n",
        "    data = load_data(file_path) # implement this function to load data from file\n",
        "    batch_idx = 0\n",
        "    while (batch_idx + 1) * self.batch_size <= len(data):\n",
        "      batch = data[batch_idx*self.batch_size:(batch_idx+1)*self.batch_size]\n",
        "      batch_idx += 1\n",
        "      yield batch, batch # return the batch as both x and y, since this is an unsupervised learning task\n",
        "\n",
        "# Define the file paths\n",
        "file_paths = [...] # list of file paths\n",
        "\n",
        "# Initialize the data generator\n",
        "batch_size = 128\n",
        "data_generator = DataGenerator(file_paths, batch_size)\n",
        "\n",
        "# Initialize the model\n",
        "model = AutoEncoder()\n",
        "early_stopping = tf.keras.callbacks.EarlyStopping(monitor='val_loss', patience=2, mode='min')\n",
        "model.compile(optimizer='adam', loss='mae')\n",
        "\n",
        "# Train the model\n",
        "for epoch in range(50):\n",
        "  print(f'Epoch {epoch+1}/{50}')\n",
        "  for i, (x, y) in enumerate(data_generator):\n",
        "    loss = model.train_on_batch(x, y)\n",
        "    print(f'Batch {i+1}/{len(data_generator)} - Loss: {loss:.4f}')\n"
      ],
      "metadata": {
        "id": "QTRrmV4kTJ5l"
      },
      "execution_count": null,
      "outputs": []
    },
    {
      "cell_type": "markdown",
      "source": [
        "`DataGenerator` class inherits from `tf.keras.utils.Sequence` and implements the `__len__` and `__getitem__` methods. The `__len__` method returns the number of files in the `file_paths list`, and the `__getitem__` method reads and yields batches of data from each file. The `train_on_batch` method is used to train the model on each batch of data, and the progress is printed to the console. The outer loop iterates over epochs, and the inner loop iterates over files using the `DataGenerator`."
      ],
      "metadata": {
        "id": "Xke7T2IyTRSr"
      }
    }
  ]
}