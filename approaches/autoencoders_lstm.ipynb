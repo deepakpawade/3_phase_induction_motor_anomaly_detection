{
  "nbformat": 4,
  "nbformat_minor": 0,
  "metadata": {
    "colab": {
      "provenance": []
    },
    "kernelspec": {
      "name": "python3",
      "display_name": "Python 3"
    },
    "language_info": {
      "name": "python"
    },
    "accelerator": "GPU",
    "gpuClass": "standard"
  },
  "cells": [
    {
      "cell_type": "code",
      "execution_count": 1,
      "metadata": {
        "id": "PseZqoxIYU5g"
      },
      "outputs": [],
      "source": [
        "import tensorflow as tf\n",
        "from tensorflow.keras.models import Model\n",
        "from sklearn.model_selection import train_test_split\n",
        "import pandas as pd\n",
        "import numpy as np\n",
        "import copy\n",
        "import os\n",
        "import matplotlib.pyplot as plt\n",
        "from sklearn.model_selection import train_test_split\n",
        "import warnings\n",
        "warnings.filterwarnings(\"ignore\")\n",
        "import sys\n",
        "sys.path.append('/content/drive/MyDrive/induction_motor')\n",
        "import modules,scaler\n"
      ]
    },
    {
      "cell_type": "code",
      "source": [
        "normal_data = pd.read_csv('/content/drive/MyDrive/induction_motor/combined_data.csv')"
      ],
      "metadata": {
        "id": "y2ckSfPUYk3s"
      },
      "execution_count": 2,
      "outputs": []
    },
    {
      "cell_type": "code",
      "source": [
        "train_scaler = scaler.Scaler()\n",
        "train_scaler.fit_unlabelled_data(normal_data)"
      ],
      "metadata": {
        "colab": {
          "base_uri": "https://localhost:8080/"
        },
        "id": "VSvd-rt7Ykx2",
        "outputId": "0c823af9-8f05-4a39-b4f6-4f0d24156600"
      },
      "execution_count": 3,
      "outputs": [
        {
          "output_type": "stream",
          "name": "stdout",
          "text": [
            "using MinMaxScaler()\n"
          ]
        }
      ]
    },
    {
      "cell_type": "code",
      "source": [
        "train_scaled = train_scaler.transform(normal_data)\n",
        "train_scaled.shape"
      ],
      "metadata": {
        "colab": {
          "base_uri": "https://localhost:8080/"
        },
        "id": "_Cm8zu-dYqKf",
        "outputId": "7dee784f-fac2-49bc-e683-cf0633112f49"
      },
      "execution_count": 4,
      "outputs": [
        {
          "output_type": "execute_result",
          "data": {
            "text/plain": [
              "(3170000, 3)"
            ]
          },
          "metadata": {},
          "execution_count": 4
        }
      ]
    },
    {
      "cell_type": "code",
      "source": [
        "train = train_scaled[:2530000]\n",
        "test = train_scaled[2530000:]"
      ],
      "metadata": {
        "id": "ylEscmM8czs4"
      },
      "execution_count": 5,
      "outputs": []
    },
    {
      "cell_type": "code",
      "source": [
        "train.shape,test.shape"
      ],
      "metadata": {
        "colab": {
          "base_uri": "https://localhost:8080/"
        },
        "id": "6Ix0ufTNdm94",
        "outputId": "df7c2881-27cf-45a6-991c-61bbf7d9e98c"
      },
      "execution_count": 6,
      "outputs": [
        {
          "output_type": "execute_result",
          "data": {
            "text/plain": [
              "((2530000, 3), (640000, 3))"
            ]
          },
          "metadata": {},
          "execution_count": 6
        }
      ]
    },
    {
      "cell_type": "code",
      "source": [
        "#As required for LSTM networks, we require to reshape an input data into\n",
        "#  n_samples x timesteps x n_features. \n",
        "timesteps = 25  #timestep choice 1 , since sampling 10KHz and Fundamental 50Hz (assumption) 20 would be low and high sampling freq needs it to be a bit more. So need to do train and error. It depends on the length of the signal you want to capture.\n",
        "n_features = 3\n",
        "# To reshape the train array into an array of shape (n_samples, timesteps, n_features), you need to ensure that the total number of elements in the array is a multiple of timesteps.\n",
        "re_train = train.reshape(-1, timesteps, n_features)\n",
        "re_test = test.reshape(-1, timesteps, n_features)\n"
      ],
      "metadata": {
        "id": "WvP8GJYVdu-y"
      },
      "execution_count": 7,
      "outputs": []
    },
    {
      "cell_type": "code",
      "source": [
        "re_train.shape"
      ],
      "metadata": {
        "colab": {
          "base_uri": "https://localhost:8080/"
        },
        "id": "4lMQ0bcQtffR",
        "outputId": "90a48d8b-7b5d-487f-be76-f675ce5d5add"
      },
      "execution_count": 8,
      "outputs": [
        {
          "output_type": "execute_result",
          "data": {
            "text/plain": [
              "(101200, 25, 3)"
            ]
          },
          "metadata": {},
          "execution_count": 8
        }
      ]
    },
    {
      "cell_type": "code",
      "source": [
        "# possible timesteps\n",
        "ts = [i for i in range(20,100) if train.shape[0] % i == 0]\n",
        "ts"
      ],
      "metadata": {
        "colab": {
          "base_uri": "https://localhost:8080/"
        },
        "id": "gz8b-cJNlSOA",
        "outputId": "439feb41-93e6-49b9-9ed3-249d7c7d2541"
      },
      "execution_count": 9,
      "outputs": [
        {
          "output_type": "execute_result",
          "data": {
            "text/plain": [
              "[20, 22, 23, 25, 40, 44, 46, 50, 55, 80, 88, 92]"
            ]
          },
          "metadata": {},
          "execution_count": 9
        }
      ]
    },
    {
      "cell_type": "code",
      "source": [
        "import numpy as np\n",
        "from keras.models import Sequential\n",
        "from keras.layers import LSTM, Input, Dropout\n",
        "from keras.layers import Dense\n",
        "from keras.layers import RepeatVector\n",
        "from keras.layers import TimeDistributed"
      ],
      "metadata": {
        "id": "DykXOhp5cwOu"
      },
      "execution_count": 10,
      "outputs": []
    },
    {
      "cell_type": "markdown",
      "source": [
        "https://www.youtube.com/watch?v=6S2v7G-OupA for reference"
      ],
      "metadata": {
        "id": "GeRjeaPIAxWQ"
      }
    },
    {
      "cell_type": "code",
      "source": [
        "# simple model\n",
        "# model = Sequential()\n",
        "\n",
        "# model.add(LSTM(128, activation='tanh', input_shape=(re_train.shape[1], re_train.shape[2]), return_sequences=True))\n",
        "# model.add(LSTM(64, activation='tanh', return_sequences=False))\n",
        "# model.add(RepeatVector(re_train.shape[1]))\n",
        "# model.add(LSTM(64, activation='tanh', return_sequences=True))\n",
        "# model.add(LSTM(128, activation='tanh', return_sequences=True))\n",
        "# model.add(TimeDistributed(Dense(re_train.shape[2])))\n",
        "\n",
        "# model.compile(optimizer='adam', loss='mse')\n",
        "# model.summary()"
      ],
      "metadata": {
        "id": "-ye83iT6DZHQ"
      },
      "execution_count": 11,
      "outputs": []
    },
    {
      "cell_type": "code",
      "source": [
        "class LSTMAutoEncoder(Model):\n",
        "    def __init__(self,shape, activation='tanh'):\n",
        "        super(LSTMAutoEncoder, self).__init__()\n",
        "        self.encoder = tf.keras.Sequential([\n",
        "            # using tanh as default instead of relu else returns warning lstm will not use cuDNN kernels since it doesn't meet the criteria. It will use a generic GPU kernel as fallback when running on GPU\n",
        "            # https://stackoverflow.com/questions/68844792/lstm-will-not-use-cudnn-kernels-since-it-doesnt-meet-the-criteria-it-will-use\n",
        "            tf.keras.layers.LSTM(64, activation=activation,input_shape=(shape[1],shape[2]) , return_sequences=True), #when the next layer is an LSTM too. The next layer needs a sequence of data. \n",
        "            tf.keras.layers.LSTM(32, activation=activation, return_sequences=True),\n",
        "            tf.keras.layers.LSTM(16, activation=activation, return_sequences=False),\n",
        "            # tf.keras.layers.Dropout(rate=0.2)\n",
        "            tf.keras.layers.RepeatVector(shape[1])])\n",
        "        self.decoder = tf.keras.Sequential([\n",
        "            tf.keras.layers.LSTM(16, activation=activation, return_sequences=True),\n",
        "            tf.keras.layers.LSTM(32, activation=activation, return_sequences=True),\n",
        "            tf.keras.layers.LSTM(64, activation=activation, return_sequences=True),\n",
        "            # tf.keras.layers.Dropout(rate=0.2)\n",
        "            tf.keras.layers.TimeDistributed(tf.keras.layers.Dense(shape[2]))])\n",
        "# TimeDistri layer Takes in the number dimension of matrix to produce. This vector is multiplied to the input matrix and to get the desired output. \n",
        "# In our case, if previous layer (2nd last layer, outputs \n",
        "# n_samples * 25 (timesteps) * 128 (features generated in hidden layer) and we want our final output as n_samples * 25 * 3, The TimeDistributed layer would need to create a matrix of dimensions 128 * 3, which are weights.\n",
        "# such that (25 * 128)  X (128 * 3) = (25 * 3)\n",
        "\n",
        "\n",
        "    def call(self, x):\n",
        "        encoded = self.encoder(x)\n",
        "        decoded = self.decoder(encoded)\n",
        "        return decoded"
      ],
      "metadata": {
        "id": "oN_-3pKY3HXt"
      },
      "execution_count": 12,
      "outputs": []
    },
    {
      "cell_type": "code",
      "source": [
        "model= LSTMAutoEncoder(re_train.shape)\n",
        "early_stopping = tf.keras.callbacks.EarlyStopping(monitor='val_loss',     #stop if val_loss does not improve for more than 2 epochs\n",
        "                                                    patience=4,\n",
        "                                                    mode='min')  #check for min of val_loss, if accuracy then it should be max, 'auto' does it automatically\n",
        "\n",
        "model.compile(optimizer='adam', loss='mae')  \n"
      ],
      "metadata": {
        "id": "9L-jgWEPurn-"
      },
      "execution_count": 13,
      "outputs": []
    },
    {
      "cell_type": "markdown",
      "source": [
        "In this specific example, the same train and test data are used twice because it is an autoencoder model. The goal of the model is to reconstruct the input sequence by training on the same input sequence. So, during the training phase, the model is trained on the training set, and then the performance is evaluated on the same training set as well as the separate validation set (which is the same as the test set in this case)."
      ],
      "metadata": {
        "id": "u-DC5wbnwayz"
      }
    },
    {
      "cell_type": "code",
      "source": [
        "len(re_train)-1200    #for convenience"
      ],
      "metadata": {
        "colab": {
          "base_uri": "https://localhost:8080/"
        },
        "id": "MpV6nP3KDeca",
        "outputId": "f54d36c8-1197-472b-b835-faa7642acc3c"
      },
      "execution_count": 14,
      "outputs": [
        {
          "output_type": "execute_result",
          "data": {
            "text/plain": [
              "100000"
            ]
          },
          "metadata": {},
          "execution_count": 14
        }
      ]
    },
    {
      "cell_type": "code",
      "source": [
        "len(re_test), len(re_train)"
      ],
      "metadata": {
        "colab": {
          "base_uri": "https://localhost:8080/"
        },
        "id": "feFH3tcYWrLX",
        "outputId": "425b75a0-7f4c-46ad-cf11-8141387567de"
      },
      "execution_count": 17,
      "outputs": [
        {
          "output_type": "execute_result",
          "data": {
            "text/plain": [
              "(25600, 101200)"
            ]
          },
          "metadata": {},
          "execution_count": 17
        }
      ]
    },
    {
      "cell_type": "code",
      "source": [
        "from tqdm import tqdm\n",
        "\n",
        "for i in tqdm(range(0, len(re_train)-1200, 10000)):\n",
        "    test_batch = re_test[(i % len(re_test)): (i % len(re_test)) + 10000]\n",
        "    history = model.fit(re_train[i:i+10000], re_train[i:i+10000],\n",
        "                        epochs=100,\n",
        "                        batch_size=128,\n",
        "                        validation_data=(test_batch, test_batch),\n",
        "                        shuffle=False,\n",
        "                        callbacks=[early_stopping],\n",
        "                        verbose=0)\n"
      ],
      "metadata": {
        "colab": {
          "base_uri": "https://localhost:8080/"
        },
        "id": "ehUNJhlWs6Jh",
        "outputId": "9227ca77-4747-4a49-f70d-5197b4709565"
      },
      "execution_count": 18,
      "outputs": [
        {
          "output_type": "stream",
          "name": "stderr",
          "text": [
            "100%|██████████| 10/10 [05:25<00:00, 32.53s/it]\n"
          ]
        }
      ]
    },
    {
      "cell_type": "code",
      "source": [
        " model.summary()"
      ],
      "metadata": {
        "colab": {
          "base_uri": "https://localhost:8080/"
        },
        "id": "K7kJ5-OC93mn",
        "outputId": "c618dc3d-7a5a-4f69-a15c-8e73d9132750"
      },
      "execution_count": 19,
      "outputs": [
        {
          "output_type": "stream",
          "name": "stdout",
          "text": [
            "Model: \"lstm_auto_encoder\"\n",
            "_________________________________________________________________\n",
            " Layer (type)                Output Shape              Param #   \n",
            "=================================================================\n",
            " sequential (Sequential)     (None, 25, 16)            32960     \n",
            "                                                                 \n",
            " sequential_1 (Sequential)   (None, 25, 3)             33411     \n",
            "                                                                 \n",
            "=================================================================\n",
            "Total params: 66,371\n",
            "Trainable params: 66,371\n",
            "Non-trainable params: 0\n",
            "_________________________________________________________________\n"
          ]
        }
      ]
    },
    {
      "cell_type": "markdown",
      "source": [
        "trying out the predictions"
      ],
      "metadata": {
        "id": "YNFHVm_qyxGo"
      }
    },
    {
      "cell_type": "code",
      "source": [
        "pred = model.predict(re_train[0:1000])"
      ],
      "metadata": {
        "colab": {
          "base_uri": "https://localhost:8080/"
        },
        "id": "TlU0FFwvxApa",
        "outputId": "3985adbc-beba-40b2-d031-246950ce18ad"
      },
      "execution_count": 20,
      "outputs": [
        {
          "output_type": "stream",
          "name": "stdout",
          "text": [
            "32/32 [==============================] - 3s 9ms/step\n"
          ]
        }
      ]
    },
    {
      "cell_type": "code",
      "source": [
        "pred.shape"
      ],
      "metadata": {
        "colab": {
          "base_uri": "https://localhost:8080/"
        },
        "id": "PQCX1rKaxhHc",
        "outputId": "f44d9d33-1768-4eb8-908f-ed93419af538"
      },
      "execution_count": 21,
      "outputs": [
        {
          "output_type": "execute_result",
          "data": {
            "text/plain": [
              "(1000, 25, 3)"
            ]
          },
          "metadata": {},
          "execution_count": 21
        }
      ]
    },
    {
      "cell_type": "code",
      "source": [
        "re_pred = pred.reshape(pred.shape[0] * pred.shape[1], pred.shape[2])"
      ],
      "metadata": {
        "id": "O8lL3gd1xnxG"
      },
      "execution_count": 22,
      "outputs": []
    },
    {
      "cell_type": "code",
      "source": [
        "re_pred.shape"
      ],
      "metadata": {
        "colab": {
          "base_uri": "https://localhost:8080/"
        },
        "id": "GQIC7Sp-yAJU",
        "outputId": "b3b1e40c-2166-4e72-936d-bb8e527829b1"
      },
      "execution_count": 23,
      "outputs": [
        {
          "output_type": "execute_result",
          "data": {
            "text/plain": [
              "(25000, 3)"
            ]
          },
          "metadata": {},
          "execution_count": 23
        }
      ]
    },
    {
      "cell_type": "code",
      "source": [
        "plt.plot(train[0:1000,0:1],'b')\n",
        "plt.plot(re_pred[0:1000,0:1],'r')"
      ],
      "metadata": {
        "colab": {
          "base_uri": "https://localhost:8080/",
          "height": 283
        },
        "id": "l-P8Z1RMwhXC",
        "outputId": "20ffad3a-24df-48a8-b23a-b9ac5675b668"
      },
      "execution_count": 24,
      "outputs": [
        {
          "output_type": "execute_result",
          "data": {
            "text/plain": [
              "[<matplotlib.lines.Line2D at 0x7fca3cf3cc70>]"
            ]
          },
          "metadata": {},
          "execution_count": 24
        },
        {
          "output_type": "display_data",
          "data": {
            "text/plain": [
              "<Figure size 432x288 with 1 Axes>"
            ],
            "image/png": "[encoded data removed]"
          },
          "metadata": {
            "needs_background": "light"
          }
        }
      ]
    },
    {
      "cell_type": "markdown",
      "source": [
        "test the overall reconstruction error"
      ],
      "metadata": {
        "id": "vOYnx_9Zym1C"
      }
    },
    {
      "cell_type": "code",
      "source": [
        "pred = model.predict(re_train)\n",
        "re_pred = pred.reshape(pred.shape[0] * pred.shape[1], pred.shape[2])\n",
        "train_loss = tf.keras.losses.mae(re_pred, train)"
      ],
      "metadata": {
        "colab": {
          "base_uri": "https://localhost:8080/"
        },
        "id": "muekBvpk-5y5",
        "outputId": "3f37ecbc-5b38-42be-c265-d525445f6029"
      },
      "execution_count": 25,
      "outputs": [
        {
          "output_type": "stream",
          "name": "stdout",
          "text": [
            "3163/3163 [==============================] - 21s 7ms/step\n"
          ]
        }
      ]
    },
    {
      "cell_type": "code",
      "source": [
        "import seaborn as sns\n",
        "sns.kdeplot(train_loss, bw_adjust= 0.5)"
      ],
      "metadata": {
        "id": "_FKl7ac8ydnv",
        "colab": {
          "base_uri": "https://localhost:8080/",
          "height": 283
        },
        "outputId": "bbc6abec-3735-4520-96b9-797fd769880a"
      },
      "execution_count": 26,
      "outputs": [
        {
          "output_type": "execute_result",
          "data": {
            "text/plain": [
              "<Axes: ylabel='Density'>"
            ]
          },
          "metadata": {},
          "execution_count": 26
        },
        {
          "output_type": "display_data",
          "data": {
            "text/plain": [
              "<Figure size 432x288 with 1 Axes>"
            ],
            "image/png": "[encoded data removed]"
          },
          "metadata": {
            "needs_background": "light"
          }
        }
      ]
    },
    {
      "cell_type": "code",
      "source": [
        "threshold = np.mean(train_loss) + 4*np.std(train_loss)"
      ],
      "metadata": {
        "id": "J9UU7oln_VdI"
      },
      "execution_count": 27,
      "outputs": []
    },
    {
      "cell_type": "code",
      "source": [
        "np.sum(train_loss > threshold)"
      ],
      "metadata": {
        "colab": {
          "base_uri": "https://localhost:8080/"
        },
        "id": "JVD-JQBi_jMU",
        "outputId": "1e4c8e9b-295a-4853-8319-18b11f0aee5d"
      },
      "execution_count": 28,
      "outputs": [
        {
          "output_type": "execute_result",
          "data": {
            "text/plain": [
              "39883"
            ]
          },
          "metadata": {},
          "execution_count": 28
        }
      ]
    },
    {
      "cell_type": "code",
      "source": [
        "indices = np.where(tf.math.less(train_loss, threshold) == False)[0]"
      ],
      "metadata": {
        "id": "HJXt23Sp_cCi"
      },
      "execution_count": 29,
      "outputs": []
    },
    {
      "cell_type": "code",
      "source": [
        "file_size = 10000\n",
        "num_files = len(train_scaled) // file_size\n",
        "ano_dict = {}\n",
        "# Create histogram of indices based on file number\n",
        "hist, bin_edges = np.histogram(indices, bins=num_files, range=(0, len(train_scaled)))\n",
        "file_indices = np.digitize(indices, bin_edges[:-1])\n",
        "\n",
        "# Count number of anomalies per file\n",
        "file_counts = {}\n",
        "for i in range(1, num_files+1):\n",
        "    file_counts[i] = np.count_nonzero(file_indices == i)\n",
        "\n",
        "# Sort files by number of anomalies (in descending order)\n",
        "sorted_files = sorted(file_counts.items(), key=lambda x: x[1], reverse=True)\n",
        "\n",
        "# Print results\n",
        "for file_num, count in sorted_files:\n",
        "    ano_dict[file_num] = count\n",
        "    # print(f\"File {file_num}: {count} anomalies\")"
      ],
      "metadata": {
        "id": "dC5o1dap_eTj"
      },
      "execution_count": 30,
      "outputs": []
    },
    {
      "cell_type": "code",
      "source": [
        "ano_dict"
      ],
      "metadata": {
        "id": "cZZlhhZZCXV-",
        "colab": {
          "base_uri": "https://localhost:8080/"
        },
        "outputId": "7c1c009f-5f46-4a94-f6a8-cb1cd9113991"
      },
      "execution_count": 31,
      "outputs": [
        {
          "output_type": "execute_result",
          "data": {
            "text/plain": [
              "{243: 3773,\n",
              " 236: 247,\n",
              " 240: 246,\n",
              " 231: 239,\n",
              " 235: 237,\n",
              " 233: 232,\n",
              " 230: 219,\n",
              " 111: 207,\n",
              " 232: 206,\n",
              " 220: 199,\n",
              " 65: 196,\n",
              " 17: 190,\n",
              " 121: 189,\n",
              " 97: 187,\n",
              " 179: 186,\n",
              " 76: 185,\n",
              " 225: 184,\n",
              " 98: 183,\n",
              " 92: 181,\n",
              " 227: 180,\n",
              " 80: 179,\n",
              " 77: 176,\n",
              " 169: 176,\n",
              " 129: 174,\n",
              " 174: 174,\n",
              " 88: 173,\n",
              " 137: 172,\n",
              " 91: 171,\n",
              " 103: 171,\n",
              " 23: 170,\n",
              " 219: 170,\n",
              " 241: 169,\n",
              " 253: 169,\n",
              " 101: 168,\n",
              " 221: 168,\n",
              " 16: 167,\n",
              " 94: 167,\n",
              " 117: 166,\n",
              " 185: 165,\n",
              " 218: 165,\n",
              " 149: 164,\n",
              " 242: 164,\n",
              " 125: 162,\n",
              " 138: 162,\n",
              " 229: 161,\n",
              " 105: 160,\n",
              " 147: 160,\n",
              " 202: 160,\n",
              " 72: 158,\n",
              " 123: 158,\n",
              " 164: 158,\n",
              " 211: 158,\n",
              " 118: 157,\n",
              " 14: 156,\n",
              " 22: 156,\n",
              " 157: 156,\n",
              " 159: 156,\n",
              " 251: 156,\n",
              " 47: 155,\n",
              " 100: 153,\n",
              " 126: 153,\n",
              " 141: 153,\n",
              " 193: 153,\n",
              " 81: 152,\n",
              " 161: 152,\n",
              " 190: 152,\n",
              " 99: 151,\n",
              " 115: 151,\n",
              " 198: 151,\n",
              " 210: 151,\n",
              " 2: 150,\n",
              " 30: 150,\n",
              " 96: 150,\n",
              " 184: 150,\n",
              " 21: 149,\n",
              " 36: 149,\n",
              " 213: 149,\n",
              " 246: 149,\n",
              " 171: 148,\n",
              " 182: 148,\n",
              " 191: 148,\n",
              " 3: 147,\n",
              " 150: 147,\n",
              " 188: 147,\n",
              " 201: 147,\n",
              " 212: 147,\n",
              " 215: 147,\n",
              " 178: 146,\n",
              " 183: 146,\n",
              " 203: 146,\n",
              " 226: 146,\n",
              " 252: 146,\n",
              " 89: 145,\n",
              " 127: 145,\n",
              " 7: 144,\n",
              " 32: 144,\n",
              " 110: 144,\n",
              " 162: 144,\n",
              " 187: 144,\n",
              " 209: 144,\n",
              " 69: 143,\n",
              " 146: 143,\n",
              " 166: 143,\n",
              " 24: 142,\n",
              " 31: 142,\n",
              " 50: 142,\n",
              " 66: 142,\n",
              " 78: 142,\n",
              " 87: 142,\n",
              " 120: 142,\n",
              " 144: 142,\n",
              " 148: 142,\n",
              " 192: 142,\n",
              " 199: 142,\n",
              " 216: 142,\n",
              " 249: 142,\n",
              " 26: 141,\n",
              " 82: 141,\n",
              " 102: 141,\n",
              " 222: 141,\n",
              " 140: 140,\n",
              " 151: 140,\n",
              " 205: 140,\n",
              " 217: 140,\n",
              " 237: 140,\n",
              " 244: 140,\n",
              " 75: 139,\n",
              " 134: 139,\n",
              " 143: 139,\n",
              " 165: 139,\n",
              " 172: 139,\n",
              " 207: 139,\n",
              " 208: 139,\n",
              " 234: 139,\n",
              " 131: 138,\n",
              " 196: 138,\n",
              " 204: 138,\n",
              " 112: 137,\n",
              " 136: 137,\n",
              " 176: 137,\n",
              " 189: 137,\n",
              " 40: 136,\n",
              " 114: 136,\n",
              " 177: 136,\n",
              " 194: 136,\n",
              " 200: 136,\n",
              " 34: 135,\n",
              " 56: 135,\n",
              " 73: 135,\n",
              " 128: 135,\n",
              " 167: 135,\n",
              " 42: 134,\n",
              " 79: 134,\n",
              " 109: 134,\n",
              " 113: 134,\n",
              " 122: 134,\n",
              " 155: 134,\n",
              " 4: 133,\n",
              " 5: 133,\n",
              " 38: 133,\n",
              " 60: 133,\n",
              " 70: 133,\n",
              " 85: 133,\n",
              " 170: 133,\n",
              " 197: 133,\n",
              " 12: 132,\n",
              " 19: 132,\n",
              " 48: 132,\n",
              " 74: 132,\n",
              " 173: 132,\n",
              " 181: 132,\n",
              " 224: 132,\n",
              " 247: 132,\n",
              " 1: 131,\n",
              " 46: 131,\n",
              " 55: 131,\n",
              " 130: 131,\n",
              " 57: 130,\n",
              " 107: 130,\n",
              " 139: 130,\n",
              " 158: 130,\n",
              " 186: 130,\n",
              " 239: 130,\n",
              " 28: 129,\n",
              " 62: 129,\n",
              " 63: 129,\n",
              " 71: 129,\n",
              " 93: 129,\n",
              " 132: 129,\n",
              " 133: 129,\n",
              " 29: 128,\n",
              " 53: 128,\n",
              " 54: 128,\n",
              " 156: 128,\n",
              " 250: 128,\n",
              " 52: 127,\n",
              " 95: 127,\n",
              " 214: 127,\n",
              " 228: 127,\n",
              " 33: 126,\n",
              " 124: 126,\n",
              " 135: 126,\n",
              " 35: 125,\n",
              " 154: 125,\n",
              " 160: 125,\n",
              " 45: 124,\n",
              " 61: 124,\n",
              " 116: 124,\n",
              " 9: 123,\n",
              " 11: 123,\n",
              " 15: 123,\n",
              " 18: 123,\n",
              " 37: 123,\n",
              " 49: 123,\n",
              " 145: 123,\n",
              " 206: 123,\n",
              " 248: 123,\n",
              " 83: 122,\n",
              " 163: 122,\n",
              " 223: 122,\n",
              " 20: 121,\n",
              " 108: 121,\n",
              " 44: 120,\n",
              " 180: 120,\n",
              " 142: 119,\n",
              " 168: 119,\n",
              " 41: 118,\n",
              " 152: 118,\n",
              " 43: 117,\n",
              " 51: 117,\n",
              " 58: 117,\n",
              " 104: 117,\n",
              " 195: 117,\n",
              " 10: 116,\n",
              " 6: 115,\n",
              " 245: 115,\n",
              " 90: 114,\n",
              " 119: 114,\n",
              " 25: 113,\n",
              " 67: 113,\n",
              " 13: 112,\n",
              " 64: 112,\n",
              " 68: 112,\n",
              " 84: 112,\n",
              " 8: 110,\n",
              " 86: 110,\n",
              " 27: 108,\n",
              " 59: 106,\n",
              " 175: 106,\n",
              " 238: 104,\n",
              " 106: 103,\n",
              " 153: 97,\n",
              " 39: 94,\n",
              " 254: 0,\n",
              " 255: 0,\n",
              " 256: 0,\n",
              " 257: 0,\n",
              " 258: 0,\n",
              " 259: 0,\n",
              " 260: 0,\n",
              " 261: 0,\n",
              " 262: 0,\n",
              " 263: 0,\n",
              " 264: 0,\n",
              " 265: 0,\n",
              " 266: 0,\n",
              " 267: 0,\n",
              " 268: 0,\n",
              " 269: 0,\n",
              " 270: 0,\n",
              " 271: 0,\n",
              " 272: 0,\n",
              " 273: 0,\n",
              " 274: 0,\n",
              " 275: 0,\n",
              " 276: 0,\n",
              " 277: 0,\n",
              " 278: 0,\n",
              " 279: 0,\n",
              " 280: 0,\n",
              " 281: 0,\n",
              " 282: 0,\n",
              " 283: 0,\n",
              " 284: 0,\n",
              " 285: 0,\n",
              " 286: 0,\n",
              " 287: 0,\n",
              " 288: 0,\n",
              " 289: 0,\n",
              " 290: 0,\n",
              " 291: 0,\n",
              " 292: 0,\n",
              " 293: 0,\n",
              " 294: 0,\n",
              " 295: 0,\n",
              " 296: 0,\n",
              " 297: 0,\n",
              " 298: 0,\n",
              " 299: 0,\n",
              " 300: 0,\n",
              " 301: 0,\n",
              " 302: 0,\n",
              " 303: 0,\n",
              " 304: 0,\n",
              " 305: 0,\n",
              " 306: 0,\n",
              " 307: 0,\n",
              " 308: 0,\n",
              " 309: 0,\n",
              " 310: 0,\n",
              " 311: 0,\n",
              " 312: 0,\n",
              " 313: 0,\n",
              " 314: 0,\n",
              " 315: 0,\n",
              " 316: 0,\n",
              " 317: 0}"
            ]
          },
          "metadata": {},
          "execution_count": 31
        }
      ]
    },
    {
      "cell_type": "code",
      "source": [
        "def fil(pair):\n",
        "  key,value = pair\n",
        "  if value >= 150:\n",
        "    return True\n",
        "  else:\n",
        "    return False"
      ],
      "metadata": {
        "id": "6PL22P5DBJji"
      },
      "execution_count": 32,
      "outputs": []
    },
    {
      "cell_type": "code",
      "source": [
        "dict(filter(fil,ano_dict.items()))"
      ],
      "metadata": {
        "colab": {
          "base_uri": "https://localhost:8080/"
        },
        "id": "ydxmXHQsBUJn",
        "outputId": "ffbc63cd-5c6f-41fd-d8d1-6371d8bd694a"
      },
      "execution_count": 33,
      "outputs": [
        {
          "output_type": "execute_result",
          "data": {
            "text/plain": [
              "{243: 3773,\n",
              " 236: 247,\n",
              " 240: 246,\n",
              " 231: 239,\n",
              " 235: 237,\n",
              " 233: 232,\n",
              " 230: 219,\n",
              " 111: 207,\n",
              " 232: 206,\n",
              " 220: 199,\n",
              " 65: 196,\n",
              " 17: 190,\n",
              " 121: 189,\n",
              " 97: 187,\n",
              " 179: 186,\n",
              " 76: 185,\n",
              " 225: 184,\n",
              " 98: 183,\n",
              " 92: 181,\n",
              " 227: 180,\n",
              " 80: 179,\n",
              " 77: 176,\n",
              " 169: 176,\n",
              " 129: 174,\n",
              " 174: 174,\n",
              " 88: 173,\n",
              " 137: 172,\n",
              " 91: 171,\n",
              " 103: 171,\n",
              " 23: 170,\n",
              " 219: 170,\n",
              " 241: 169,\n",
              " 253: 169,\n",
              " 101: 168,\n",
              " 221: 168,\n",
              " 16: 167,\n",
              " 94: 167,\n",
              " 117: 166,\n",
              " 185: 165,\n",
              " 218: 165,\n",
              " 149: 164,\n",
              " 242: 164,\n",
              " 125: 162,\n",
              " 138: 162,\n",
              " 229: 161,\n",
              " 105: 160,\n",
              " 147: 160,\n",
              " 202: 160,\n",
              " 72: 158,\n",
              " 123: 158,\n",
              " 164: 158,\n",
              " 211: 158,\n",
              " 118: 157,\n",
              " 14: 156,\n",
              " 22: 156,\n",
              " 157: 156,\n",
              " 159: 156,\n",
              " 251: 156,\n",
              " 47: 155,\n",
              " 100: 153,\n",
              " 126: 153,\n",
              " 141: 153,\n",
              " 193: 153,\n",
              " 81: 152,\n",
              " 161: 152,\n",
              " 190: 152,\n",
              " 99: 151,\n",
              " 115: 151,\n",
              " 198: 151,\n",
              " 210: 151,\n",
              " 2: 150,\n",
              " 30: 150,\n",
              " 96: 150,\n",
              " 184: 150}"
            ]
          },
          "metadata": {},
          "execution_count": 33
        }
      ]
    },
    {
      "cell_type": "markdown",
      "source": [
        "This approach seems to have identified less anomalies than the Feed Forward approach Which means that this is much more suitable and gives far less false positives"
      ],
      "metadata": {
        "id": "8DZEtgrlAVMa"
      }
    },
    {
      "cell_type": "markdown",
      "source": [
        "Testing on artificial Anomalous Data"
      ],
      "metadata": {
        "id": "2h74xJW_-f7I"
      }
    },
    {
      "cell_type": "code",
      "source": [
        "anomalous_data = pd.read_csv('/content/drive/MyDrive/induction_motor/combined_anomalous.csv')\n",
        "anomalous_scaled = train_scaler.transform(anomalous_data)\n",
        "anomalous_scaled.shape"
      ],
      "metadata": {
        "colab": {
          "base_uri": "https://localhost:8080/"
        },
        "id": "AReUjHYJylBp",
        "outputId": "0f9afe20-08d3-487c-a783-5a7f1d853c01"
      },
      "execution_count": 34,
      "outputs": [
        {
          "output_type": "execute_result",
          "data": {
            "text/plain": [
              "(3170000, 3)"
            ]
          },
          "metadata": {},
          "execution_count": 34
        }
      ]
    },
    {
      "cell_type": "code",
      "source": [
        "re_anomalous = anomalous_scaled.reshape(-1, timesteps, n_features)"
      ],
      "metadata": {
        "id": "YJoxGdW5zrB8"
      },
      "execution_count": 35,
      "outputs": []
    },
    {
      "cell_type": "code",
      "source": [
        "ano_pred = model.predict(re_anomalous)\n",
        "re_pred_ano = ano_pred.reshape(ano_pred.shape[0] * ano_pred.shape[1], ano_pred.shape[2])"
      ],
      "metadata": {
        "colab": {
          "base_uri": "https://localhost:8080/"
        },
        "id": "wVcIrHv6z8yL",
        "outputId": "5eb448e5-dfb5-4ee1-bbfe-d102a6217101"
      },
      "execution_count": 36,
      "outputs": [
        {
          "output_type": "stream",
          "name": "stdout",
          "text": [
            "3963/3963 [==============================] - 27s 7ms/step\n"
          ]
        }
      ]
    },
    {
      "cell_type": "code",
      "source": [
        "np.mean(tf.keras.losses.mae(re_pred_ano, anomalous_scaled))"
      ],
      "metadata": {
        "colab": {
          "base_uri": "https://localhost:8080/"
        },
        "id": "l3F2IloQ0MeY",
        "outputId": "5e13fdb3-b55f-439d-938f-ad8109e3bfa3"
      },
      "execution_count": 37,
      "outputs": [
        {
          "output_type": "execute_result",
          "data": {
            "text/plain": [
              "0.3005456875619685"
            ]
          },
          "metadata": {},
          "execution_count": 37
        }
      ]
    },
    {
      "cell_type": "code",
      "source": [
        "plt.plot(anomalous_scaled[0:1000,0:1],'b')\n",
        "plt.plot(re_pred_ano[0:1000,0:1],'r')"
      ],
      "metadata": {
        "colab": {
          "base_uri": "https://localhost:8080/",
          "height": 283
        },
        "id": "4ykp6aiS0hpX",
        "outputId": "617a6067-932a-4294-cd0b-43f11a793071"
      },
      "execution_count": 38,
      "outputs": [
        {
          "output_type": "execute_result",
          "data": {
            "text/plain": [
              "[<matplotlib.lines.Line2D at 0x7fc9ab4e7100>]"
            ]
          },
          "metadata": {},
          "execution_count": 38
        },
        {
          "output_type": "display_data",
          "data": {
            "text/plain": [
              "<Figure size 432x288 with 1 Axes>"
            ],
            "image/png": "[encoded data removed]"
          },
          "metadata": {
            "needs_background": "light"
          }
        }
      ]
    }
  ]
}