{
 "cells": [
  {
   "cell_type": "code",
   "execution_count": null,
   "metadata": {},
   "outputs": [],
   "source": [
    "import tensorflow as tf\n",
    "from tensorflow.keras.models import Model\n",
    "from sklearn.model_selection import train_test_split\n",
    "import pandas as pd\n",
    "import numpy as np\n",
    "import copy\n",
    "import os\n",
    "import matplotlib.pyplot as plt\n",
    "from sklearn.model_selection import train_test_split\n",
    "warnings.filterwarnings(\"ignore\")\n",
    "import sys\n",
    "sys.path.append('../induction_motor_anomaly_detection/')\n",
    "import modules,scaler\n"
   ]
  },
  {
   "cell_type": "code",
   "execution_count": null,
   "metadata": {},
   "outputs": [],
   "source": [
    "normal_data = pd.read_csv('../data/combined_data.csv')\n",
    "anomalous_data = pd.read_csv('../anomalous_data/anomalous_data.csv')"
   ]
  },
  {
   "cell_type": "code",
   "execution_count": null,
   "metadata": {},
   "outputs": [],
   "source": [
    "\n",
    "train_data_features = modules.ElectricalFeatureExtractor(current_data=normal_data)\n",
    "test_data_features = modules.ElectricalFeatureExtractor(current_data=anomalous_data)\n",
    "train_scaler = scaler.Scaler()\n",
    "train_scaler.fit_unlabelled_data(train_data_features.feature_dataframe[0])\n",
    "train_scaled = train_scaler.transform(train_data_features.feature_dataframe[0])\n",
    "test_scaled = train_scaler.transform(test_data_features.feature_dataframe[0])"
   ]
  },
  {
   "cell_type": "code",
   "execution_count": null,
   "metadata": {},
   "outputs": [],
   "source": [
    "train_scaler = scaler.Scaler()\n",
    "train_scaler.fit_unlabelled_data(normal_data)\n"
   ]
  },
  {
   "cell_type": "code",
   "execution_count": null,
   "metadata": {},
   "outputs": [],
   "source": [
    "train_scaled = train_scaler.transform(normal_data)\n",
    "anomalous_scaled = train_scaler.transform(anomalous_data)"
   ]
  },
  {
   "cell_type": "code",
   "execution_count": null,
   "metadata": {},
   "outputs": [],
   "source": [
    "class LSTMAutoEncoder(Model):\n",
    "    def __init__(self, activation='relu'):\n",
    "        super(LSTMAutoEncoder, self).__init__()\n",
    "        self.encoder = tf.keras.Sequential([\n",
    "            tf.keras.layers.LSTM(64, activation=activation, return_sequences=True),\n",
    "            tf.keras.layers.LSTM(32, activation=activation, return_sequences=True),\n",
    "            tf.keras.layers.LSTM(16, activation=activation),\n",
    "            tf.keras.layers.RepeatVector(3)])\n",
    "        self.decoder = tf.keras.Sequential([\n",
    "            tf.keras.layers.LSTM(16, activation=activation, return_sequences=True),\n",
    "            tf.keras.layers.LSTM(32, activation=activation, return_sequences=True),\n",
    "            tf.keras.layers.LSTM(64, activation=activation, return_sequences=True),\n",
    "            tf.keras.layers.TimeDistributed(tf.keras.layers.Dense(1, activation=\"sigmoid\"))])\n",
    "\n",
    "    def call(self, x):\n",
    "        encoded = self.encoder(x)\n",
    "        decoded = self.decoder(encoded)\n",
    "        return decoded"
   ]
  },
  {
   "cell_type": "code",
   "execution_count": null,
   "metadata": {},
   "outputs": [],
   "source": [
    "model = LSTMAutoEncoder()\n",
    "early_stopping = tf.keras.callbacks.EarlyStopping(monitor='val_loss',\n",
    "                                                  patience=2,\n",
    "                                                  mode='min')\n",
    "model.compile(optimizer='adam', loss='mae')\n",
    "\n"
   ]
  },
  {
   "cell_type": "code",
   "execution_count": null,
   "metadata": {},
   "outputs": [],
   "source": [
    "from tqdm import tqdm\n",
    "\n",
    "file = 0\n",
    "for i in tqdm(range(0, len(train_scaled), 10000)):\n",
    "    history = model.fit(train_scaled[0:1000], train_scaled[0:1000],\n",
    "                        epochs=50,\n",
    "                        batch_size=128,\n",
    "                        validation_data=(train_scaled[0:1000], train_scaled[0:1000]),\n",
    "                        shuffle=True,\n",
    "                        callbacks=[early_stopping],\n",
    "                        verbose=0)\n"
   ]
  }
 ],
 "metadata": {
  "language_info": {
   "name": "python"
  },
  "orig_nbformat": 4
 },
 "nbformat": 4,
 "nbformat_minor": 2
}
