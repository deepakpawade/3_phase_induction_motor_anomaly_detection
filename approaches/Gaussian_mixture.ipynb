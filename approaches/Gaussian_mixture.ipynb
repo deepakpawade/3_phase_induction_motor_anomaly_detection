{
 "cells": [
  {
   "attachments": {},
   "cell_type": "markdown",
   "metadata": {},
   "source": [
    "Gaussian Mixture\n"
   ]
  },
  {
   "cell_type": "code",
   "execution_count": 105,
   "metadata": {},
   "outputs": [],
   "source": [
    "import pandas as pd\n",
    "import numpy as np"
   ]
  },
  {
   "cell_type": "code",
   "execution_count": 106,
   "metadata": {},
   "outputs": [
    {
     "data": {
      "text/html": [
       "<div>\n",
       "<style scoped>\n",
       "    .dataframe tbody tr th:only-of-type {\n",
       "        vertical-align: middle;\n",
       "    }\n",
       "\n",
       "    .dataframe tbody tr th {\n",
       "        vertical-align: top;\n",
       "    }\n",
       "\n",
       "    .dataframe thead th {\n",
       "        text-align: right;\n",
       "    }\n",
       "</style>\n",
       "<table border=\"1\" class=\"dataframe\">\n",
       "  <thead>\n",
       "    <tr style=\"text-align: right;\">\n",
       "      <th></th>\n",
       "      <th>current_1</th>\n",
       "      <th>current_2</th>\n",
       "      <th>current_3</th>\n",
       "    </tr>\n",
       "  </thead>\n",
       "  <tbody>\n",
       "    <tr>\n",
       "      <th>0</th>\n",
       "      <td>2040</td>\n",
       "      <td>2361</td>\n",
       "      <td>38</td>\n",
       "    </tr>\n",
       "    <tr>\n",
       "      <th>1</th>\n",
       "      <td>2031</td>\n",
       "      <td>2365</td>\n",
       "      <td>52</td>\n",
       "    </tr>\n",
       "    <tr>\n",
       "      <th>2</th>\n",
       "      <td>2031</td>\n",
       "      <td>2370</td>\n",
       "      <td>53</td>\n",
       "    </tr>\n",
       "    <tr>\n",
       "      <th>3</th>\n",
       "      <td>2025</td>\n",
       "      <td>2372</td>\n",
       "      <td>54</td>\n",
       "    </tr>\n",
       "    <tr>\n",
       "      <th>4</th>\n",
       "      <td>2023</td>\n",
       "      <td>2379</td>\n",
       "      <td>54</td>\n",
       "    </tr>\n",
       "    <tr>\n",
       "      <th>...</th>\n",
       "      <td>...</td>\n",
       "      <td>...</td>\n",
       "      <td>...</td>\n",
       "    </tr>\n",
       "    <tr>\n",
       "      <th>3169995</th>\n",
       "      <td>2214</td>\n",
       "      <td>1978</td>\n",
       "      <td>368</td>\n",
       "    </tr>\n",
       "    <tr>\n",
       "      <th>3169996</th>\n",
       "      <td>2217</td>\n",
       "      <td>1985</td>\n",
       "      <td>358</td>\n",
       "    </tr>\n",
       "    <tr>\n",
       "      <th>3169997</th>\n",
       "      <td>2218</td>\n",
       "      <td>1989</td>\n",
       "      <td>346</td>\n",
       "    </tr>\n",
       "    <tr>\n",
       "      <th>3169998</th>\n",
       "      <td>2220</td>\n",
       "      <td>1996</td>\n",
       "      <td>337</td>\n",
       "    </tr>\n",
       "    <tr>\n",
       "      <th>3169999</th>\n",
       "      <td>2221</td>\n",
       "      <td>2002</td>\n",
       "      <td>323</td>\n",
       "    </tr>\n",
       "  </tbody>\n",
       "</table>\n",
       "<p>3170000 rows × 3 columns</p>\n",
       "</div>"
      ],
      "text/plain": [
       "         current_1  current_2  current_3\n",
       "0             2040       2361         38\n",
       "1             2031       2365         52\n",
       "2             2031       2370         53\n",
       "3             2025       2372         54\n",
       "4             2023       2379         54\n",
       "...            ...        ...        ...\n",
       "3169995       2214       1978        368\n",
       "3169996       2217       1985        358\n",
       "3169997       2218       1989        346\n",
       "3169998       2220       1996        337\n",
       "3169999       2221       2002        323\n",
       "\n",
       "[3170000 rows x 3 columns]"
      ]
     },
     "execution_count": 106,
     "metadata": {},
     "output_type": "execute_result"
    }
   ],
   "source": [
    "df = pd.read_csv('combined_data.csv')\n",
    "df"
   ]
  },
  {
   "cell_type": "code",
   "execution_count": 107,
   "metadata": {},
   "outputs": [],
   "source": [
    "features = df.groupby(df.index // 10000).agg(['mean', 'var', 'std'])"
   ]
  },
  {
   "cell_type": "code",
   "execution_count": 108,
   "metadata": {},
   "outputs": [
    {
     "data": {
      "text/html": [
       "<div>\n",
       "<style scoped>\n",
       "    .dataframe tbody tr th:only-of-type {\n",
       "        vertical-align: middle;\n",
       "    }\n",
       "\n",
       "    .dataframe tbody tr th {\n",
       "        vertical-align: top;\n",
       "    }\n",
       "\n",
       "    .dataframe thead tr th {\n",
       "        text-align: left;\n",
       "    }\n",
       "</style>\n",
       "<table border=\"1\" class=\"dataframe\">\n",
       "  <thead>\n",
       "    <tr>\n",
       "      <th></th>\n",
       "      <th colspan=\"3\" halign=\"left\">current_1</th>\n",
       "      <th colspan=\"3\" halign=\"left\">current_2</th>\n",
       "      <th colspan=\"3\" halign=\"left\">current_3</th>\n",
       "    </tr>\n",
       "    <tr>\n",
       "      <th></th>\n",
       "      <th>mean</th>\n",
       "      <th>var</th>\n",
       "      <th>std</th>\n",
       "      <th>mean</th>\n",
       "      <th>var</th>\n",
       "      <th>std</th>\n",
       "      <th>mean</th>\n",
       "      <th>var</th>\n",
       "      <th>std</th>\n",
       "    </tr>\n",
       "  </thead>\n",
       "  <tbody>\n",
       "    <tr>\n",
       "      <th>0</th>\n",
       "      <td>1987.6003</td>\n",
       "      <td>32783.557096</td>\n",
       "      <td>181.062302</td>\n",
       "      <td>2174.0711</td>\n",
       "      <td>33020.711316</td>\n",
       "      <td>181.716018</td>\n",
       "      <td>440.3539</td>\n",
       "      <td>75256.979553</td>\n",
       "      <td>274.330056</td>\n",
       "    </tr>\n",
       "    <tr>\n",
       "      <th>1</th>\n",
       "      <td>1982.4803</td>\n",
       "      <td>33379.063118</td>\n",
       "      <td>182.699379</td>\n",
       "      <td>2165.3532</td>\n",
       "      <td>32815.538604</td>\n",
       "      <td>181.150596</td>\n",
       "      <td>435.3327</td>\n",
       "      <td>73915.736984</td>\n",
       "      <td>271.874488</td>\n",
       "    </tr>\n",
       "    <tr>\n",
       "      <th>2</th>\n",
       "      <td>1980.2381</td>\n",
       "      <td>33015.768385</td>\n",
       "      <td>181.702417</td>\n",
       "      <td>2170.6435</td>\n",
       "      <td>32957.610569</td>\n",
       "      <td>181.542311</td>\n",
       "      <td>428.8870</td>\n",
       "      <td>74261.647196</td>\n",
       "      <td>272.509903</td>\n",
       "    </tr>\n",
       "    <tr>\n",
       "      <th>3</th>\n",
       "      <td>1978.7542</td>\n",
       "      <td>33224.950477</td>\n",
       "      <td>182.277125</td>\n",
       "      <td>2170.5052</td>\n",
       "      <td>32863.028676</td>\n",
       "      <td>181.281628</td>\n",
       "      <td>428.6128</td>\n",
       "      <td>74053.162992</td>\n",
       "      <td>272.127108</td>\n",
       "    </tr>\n",
       "    <tr>\n",
       "      <th>4</th>\n",
       "      <td>1982.3731</td>\n",
       "      <td>33032.491746</td>\n",
       "      <td>181.748430</td>\n",
       "      <td>2164.9059</td>\n",
       "      <td>33034.596305</td>\n",
       "      <td>181.754219</td>\n",
       "      <td>432.9330</td>\n",
       "      <td>74385.515663</td>\n",
       "      <td>272.737082</td>\n",
       "    </tr>\n",
       "  </tbody>\n",
       "</table>\n",
       "</div>"
      ],
      "text/plain": [
       "   current_1                            current_2                            \\\n",
       "        mean           var         std       mean           var         std   \n",
       "0  1987.6003  32783.557096  181.062302  2174.0711  33020.711316  181.716018   \n",
       "1  1982.4803  33379.063118  182.699379  2165.3532  32815.538604  181.150596   \n",
       "2  1980.2381  33015.768385  181.702417  2170.6435  32957.610569  181.542311   \n",
       "3  1978.7542  33224.950477  182.277125  2170.5052  32863.028676  181.281628   \n",
       "4  1982.3731  33032.491746  181.748430  2164.9059  33034.596305  181.754219   \n",
       "\n",
       "  current_3                            \n",
       "       mean           var         std  \n",
       "0  440.3539  75256.979553  274.330056  \n",
       "1  435.3327  73915.736984  271.874488  \n",
       "2  428.8870  74261.647196  272.509903  \n",
       "3  428.6128  74053.162992  272.127108  \n",
       "4  432.9330  74385.515663  272.737082  "
      ]
     },
     "execution_count": 108,
     "metadata": {},
     "output_type": "execute_result"
    }
   ],
   "source": [
    "features.head()"
   ]
  },
  {
   "cell_type": "code",
   "execution_count": 109,
   "metadata": {},
   "outputs": [],
   "source": [
    "from sklearn.mixture import GaussianMixture"
   ]
  },
  {
   "cell_type": "code",
   "execution_count": 110,
   "metadata": {},
   "outputs": [],
   "source": [
    "gmm = GaussianMixture(n_components=1, covariance_type='full')"
   ]
  },
  {
   "cell_type": "code",
   "execution_count": 111,
   "metadata": {},
   "outputs": [
    {
     "name": "stderr",
     "output_type": "stream",
     "text": [
      "c:\\Users\\deepdesk\\anaconda3\\lib\\site-packages\\sklearn\\cluster\\_kmeans.py:1334: UserWarning: KMeans is known to have a memory leak on Windows with MKL, when there are less chunks than available threads. You can avoid it by setting the environment variable OMP_NUM_THREADS=2.\n",
      "  warnings.warn(\n"
     ]
    },
    {
     "data": {
      "text/html": [
       "<style>#sk-container-id-2 {color: black;background-color: white;}#sk-container-id-2 pre{padding: 0;}#sk-container-id-2 div.sk-toggleable {background-color: white;}#sk-container-id-2 label.sk-toggleable__label {cursor: pointer;display: block;width: 100%;margin-bottom: 0;padding: 0.3em;box-sizing: border-box;text-align: center;}#sk-container-id-2 label.sk-toggleable__label-arrow:before {content: \"▸\";float: left;margin-right: 0.25em;color: #696969;}#sk-container-id-2 label.sk-toggleable__label-arrow:hover:before {color: black;}#sk-container-id-2 div.sk-estimator:hover label.sk-toggleable__label-arrow:before {color: black;}#sk-container-id-2 div.sk-toggleable__content {max-height: 0;max-width: 0;overflow: hidden;text-align: left;background-color: #f0f8ff;}#sk-container-id-2 div.sk-toggleable__content pre {margin: 0.2em;color: black;border-radius: 0.25em;background-color: #f0f8ff;}#sk-container-id-2 input.sk-toggleable__control:checked~div.sk-toggleable__content {max-height: 200px;max-width: 100%;overflow: auto;}#sk-container-id-2 input.sk-toggleable__control:checked~label.sk-toggleable__label-arrow:before {content: \"▾\";}#sk-container-id-2 div.sk-estimator input.sk-toggleable__control:checked~label.sk-toggleable__label {background-color: #d4ebff;}#sk-container-id-2 div.sk-label input.sk-toggleable__control:checked~label.sk-toggleable__label {background-color: #d4ebff;}#sk-container-id-2 input.sk-hidden--visually {border: 0;clip: rect(1px 1px 1px 1px);clip: rect(1px, 1px, 1px, 1px);height: 1px;margin: -1px;overflow: hidden;padding: 0;position: absolute;width: 1px;}#sk-container-id-2 div.sk-estimator {font-family: monospace;background-color: #f0f8ff;border: 1px dotted black;border-radius: 0.25em;box-sizing: border-box;margin-bottom: 0.5em;}#sk-container-id-2 div.sk-estimator:hover {background-color: #d4ebff;}#sk-container-id-2 div.sk-parallel-item::after {content: \"\";width: 100%;border-bottom: 1px solid gray;flex-grow: 1;}#sk-container-id-2 div.sk-label:hover label.sk-toggleable__label {background-color: #d4ebff;}#sk-container-id-2 div.sk-serial::before {content: \"\";position: absolute;border-left: 1px solid gray;box-sizing: border-box;top: 0;bottom: 0;left: 50%;z-index: 0;}#sk-container-id-2 div.sk-serial {display: flex;flex-direction: column;align-items: center;background-color: white;padding-right: 0.2em;padding-left: 0.2em;position: relative;}#sk-container-id-2 div.sk-item {position: relative;z-index: 1;}#sk-container-id-2 div.sk-parallel {display: flex;align-items: stretch;justify-content: center;background-color: white;position: relative;}#sk-container-id-2 div.sk-item::before, #sk-container-id-2 div.sk-parallel-item::before {content: \"\";position: absolute;border-left: 1px solid gray;box-sizing: border-box;top: 0;bottom: 0;left: 50%;z-index: -1;}#sk-container-id-2 div.sk-parallel-item {display: flex;flex-direction: column;z-index: 1;position: relative;background-color: white;}#sk-container-id-2 div.sk-parallel-item:first-child::after {align-self: flex-end;width: 50%;}#sk-container-id-2 div.sk-parallel-item:last-child::after {align-self: flex-start;width: 50%;}#sk-container-id-2 div.sk-parallel-item:only-child::after {width: 0;}#sk-container-id-2 div.sk-dashed-wrapped {border: 1px dashed gray;margin: 0 0.4em 0.5em 0.4em;box-sizing: border-box;padding-bottom: 0.4em;background-color: white;}#sk-container-id-2 div.sk-label label {font-family: monospace;font-weight: bold;display: inline-block;line-height: 1.2em;}#sk-container-id-2 div.sk-label-container {text-align: center;}#sk-container-id-2 div.sk-container {/* jupyter's `normalize.less` sets `[hidden] { display: none; }` but bootstrap.min.css set `[hidden] { display: none !important; }` so we also need the `!important` here to be able to override the default hidden behavior on the sphinx rendered scikit-learn.org. See: https://github.com/scikit-learn/scikit-learn/issues/21755 */display: inline-block !important;position: relative;}#sk-container-id-2 div.sk-text-repr-fallback {display: none;}</style><div id=\"sk-container-id-2\" class=\"sk-top-container\"><div class=\"sk-text-repr-fallback\"><pre>GaussianMixture()</pre><b>In a Jupyter environment, please rerun this cell to show the HTML representation or trust the notebook. <br />On GitHub, the HTML representation is unable to render, please try loading this page with nbviewer.org.</b></div><div class=\"sk-container\" hidden><div class=\"sk-item\"><div class=\"sk-estimator sk-toggleable\"><input class=\"sk-toggleable__control sk-hidden--visually\" id=\"sk-estimator-id-2\" type=\"checkbox\" checked><label for=\"sk-estimator-id-2\" class=\"sk-toggleable__label sk-toggleable__label-arrow\">GaussianMixture</label><div class=\"sk-toggleable__content\"><pre>GaussianMixture()</pre></div></div></div></div></div>"
      ],
      "text/plain": [
       "GaussianMixture()"
      ]
     },
     "execution_count": 111,
     "metadata": {},
     "output_type": "execute_result"
    }
   ],
   "source": [
    "gmm.fit(features)"
   ]
  },
  {
   "cell_type": "code",
   "execution_count": 112,
   "metadata": {},
   "outputs": [
    {
     "data": {
      "text/html": [
       "<div>\n",
       "<style scoped>\n",
       "    .dataframe tbody tr th:only-of-type {\n",
       "        vertical-align: middle;\n",
       "    }\n",
       "\n",
       "    .dataframe tbody tr th {\n",
       "        vertical-align: top;\n",
       "    }\n",
       "\n",
       "    .dataframe thead tr th {\n",
       "        text-align: left;\n",
       "    }\n",
       "</style>\n",
       "<table border=\"1\" class=\"dataframe\">\n",
       "  <thead>\n",
       "    <tr>\n",
       "      <th></th>\n",
       "      <th colspan=\"3\" halign=\"left\">current_1</th>\n",
       "      <th colspan=\"3\" halign=\"left\">current_2</th>\n",
       "      <th colspan=\"3\" halign=\"left\">current_3</th>\n",
       "    </tr>\n",
       "    <tr>\n",
       "      <th></th>\n",
       "      <th>mean</th>\n",
       "      <th>var</th>\n",
       "      <th>std</th>\n",
       "      <th>mean</th>\n",
       "      <th>var</th>\n",
       "      <th>std</th>\n",
       "      <th>mean</th>\n",
       "      <th>var</th>\n",
       "      <th>std</th>\n",
       "    </tr>\n",
       "  </thead>\n",
       "  <tbody>\n",
       "    <tr>\n",
       "      <th>228</th>\n",
       "      <td>2003.9889</td>\n",
       "      <td>32651.725749</td>\n",
       "      <td>180.697885</td>\n",
       "      <td>2192.2902</td>\n",
       "      <td>32766.805465</td>\n",
       "      <td>181.016036</td>\n",
       "      <td>467.9146</td>\n",
       "      <td>74652.066513</td>\n",
       "      <td>273.225304</td>\n",
       "    </tr>\n",
       "    <tr>\n",
       "      <th>239</th>\n",
       "      <td>2014.5465</td>\n",
       "      <td>32557.083946</td>\n",
       "      <td>180.435817</td>\n",
       "      <td>2201.4372</td>\n",
       "      <td>33086.332489</td>\n",
       "      <td>181.896488</td>\n",
       "      <td>492.1805</td>\n",
       "      <td>74070.219942</td>\n",
       "      <td>272.158446</td>\n",
       "    </tr>\n",
       "    <tr>\n",
       "      <th>37</th>\n",
       "      <td>1976.7764</td>\n",
       "      <td>32833.822985</td>\n",
       "      <td>181.201057</td>\n",
       "      <td>2159.6518</td>\n",
       "      <td>32747.484505</td>\n",
       "      <td>180.962661</td>\n",
       "      <td>422.5502</td>\n",
       "      <td>75082.748755</td>\n",
       "      <td>274.012315</td>\n",
       "    </tr>\n",
       "    <tr>\n",
       "      <th>148</th>\n",
       "      <td>1986.8928</td>\n",
       "      <td>33304.598568</td>\n",
       "      <td>182.495475</td>\n",
       "      <td>2175.2171</td>\n",
       "      <td>32620.161584</td>\n",
       "      <td>180.610525</td>\n",
       "      <td>437.7059</td>\n",
       "      <td>72929.218527</td>\n",
       "      <td>270.054103</td>\n",
       "    </tr>\n",
       "    <tr>\n",
       "      <th>281</th>\n",
       "      <td>1988.3733</td>\n",
       "      <td>32987.069854</td>\n",
       "      <td>181.623429</td>\n",
       "      <td>2169.4157</td>\n",
       "      <td>32866.781772</td>\n",
       "      <td>181.291979</td>\n",
       "      <td>439.0036</td>\n",
       "      <td>74521.662353</td>\n",
       "      <td>272.986561</td>\n",
       "    </tr>\n",
       "    <tr>\n",
       "      <th>...</th>\n",
       "      <td>...</td>\n",
       "      <td>...</td>\n",
       "      <td>...</td>\n",
       "      <td>...</td>\n",
       "      <td>...</td>\n",
       "      <td>...</td>\n",
       "      <td>...</td>\n",
       "      <td>...</td>\n",
       "      <td>...</td>\n",
       "    </tr>\n",
       "    <tr>\n",
       "      <th>280</th>\n",
       "      <td>1988.1944</td>\n",
       "      <td>33130.757484</td>\n",
       "      <td>182.018564</td>\n",
       "      <td>2168.7306</td>\n",
       "      <td>32913.822606</td>\n",
       "      <td>181.421671</td>\n",
       "      <td>441.1613</td>\n",
       "      <td>74234.687951</td>\n",
       "      <td>272.460434</td>\n",
       "    </tr>\n",
       "    <tr>\n",
       "      <th>286</th>\n",
       "      <td>1984.3693</td>\n",
       "      <td>32884.494567</td>\n",
       "      <td>181.340824</td>\n",
       "      <td>2172.2666</td>\n",
       "      <td>33412.711996</td>\n",
       "      <td>182.791444</td>\n",
       "      <td>441.2295</td>\n",
       "      <td>73979.491779</td>\n",
       "      <td>271.991713</td>\n",
       "    </tr>\n",
       "    <tr>\n",
       "      <th>14</th>\n",
       "      <td>1980.8792</td>\n",
       "      <td>32985.888996</td>\n",
       "      <td>181.620178</td>\n",
       "      <td>2163.2668</td>\n",
       "      <td>33116.104028</td>\n",
       "      <td>181.978306</td>\n",
       "      <td>427.7127</td>\n",
       "      <td>74242.114970</td>\n",
       "      <td>272.474063</td>\n",
       "    </tr>\n",
       "    <tr>\n",
       "      <th>47</th>\n",
       "      <td>1979.4071</td>\n",
       "      <td>33275.844354</td>\n",
       "      <td>182.416678</td>\n",
       "      <td>2164.0234</td>\n",
       "      <td>32693.256578</td>\n",
       "      <td>180.812767</td>\n",
       "      <td>430.0876</td>\n",
       "      <td>74002.668393</td>\n",
       "      <td>272.034315</td>\n",
       "    </tr>\n",
       "    <tr>\n",
       "      <th>39</th>\n",
       "      <td>1976.8843</td>\n",
       "      <td>33219.256039</td>\n",
       "      <td>182.261505</td>\n",
       "      <td>2163.2896</td>\n",
       "      <td>33032.568589</td>\n",
       "      <td>181.748641</td>\n",
       "      <td>422.0684</td>\n",
       "      <td>74069.636285</td>\n",
       "      <td>272.157374</td>\n",
       "    </tr>\n",
       "  </tbody>\n",
       "</table>\n",
       "<p>158 rows × 9 columns</p>\n",
       "</div>"
      ],
      "text/plain": [
       "     current_1                            current_2                            \\\n",
       "          mean           var         std       mean           var         std   \n",
       "228  2003.9889  32651.725749  180.697885  2192.2902  32766.805465  181.016036   \n",
       "239  2014.5465  32557.083946  180.435817  2201.4372  33086.332489  181.896488   \n",
       "37   1976.7764  32833.822985  181.201057  2159.6518  32747.484505  180.962661   \n",
       "148  1986.8928  33304.598568  182.495475  2175.2171  32620.161584  180.610525   \n",
       "281  1988.3733  32987.069854  181.623429  2169.4157  32866.781772  181.291979   \n",
       "..         ...           ...         ...        ...           ...         ...   \n",
       "280  1988.1944  33130.757484  182.018564  2168.7306  32913.822606  181.421671   \n",
       "286  1984.3693  32884.494567  181.340824  2172.2666  33412.711996  182.791444   \n",
       "14   1980.8792  32985.888996  181.620178  2163.2668  33116.104028  181.978306   \n",
       "47   1979.4071  33275.844354  182.416678  2164.0234  32693.256578  180.812767   \n",
       "39   1976.8843  33219.256039  182.261505  2163.2896  33032.568589  181.748641   \n",
       "\n",
       "    current_3                            \n",
       "         mean           var         std  \n",
       "228  467.9146  74652.066513  273.225304  \n",
       "239  492.1805  74070.219942  272.158446  \n",
       "37   422.5502  75082.748755  274.012315  \n",
       "148  437.7059  72929.218527  270.054103  \n",
       "281  439.0036  74521.662353  272.986561  \n",
       "..        ...           ...         ...  \n",
       "280  441.1613  74234.687951  272.460434  \n",
       "286  441.2295  73979.491779  271.991713  \n",
       "14   427.7127  74242.114970  272.474063  \n",
       "47   430.0876  74002.668393  272.034315  \n",
       "39   422.0684  74069.636285  272.157374  \n",
       "\n",
       "[158 rows x 9 columns]"
      ]
     },
     "execution_count": 112,
     "metadata": {},
     "output_type": "execute_result"
    }
   ],
   "source": [
    "features.sample(frac=0.5)"
   ]
  },
  {
   "cell_type": "code",
   "execution_count": 113,
   "metadata": {},
   "outputs": [],
   "source": [
    "eval_df = features.sample(frac=0.5)"
   ]
  },
  {
   "cell_type": "code",
   "execution_count": 114,
   "metadata": {},
   "outputs": [],
   "source": [
    "scores = gmm.score_samples(features)"
   ]
  },
  {
   "cell_type": "code",
   "execution_count": 115,
   "metadata": {},
   "outputs": [
    {
     "data": {
      "text/plain": [
       "(-20.28707969507137, -177.99967498524245, -24.356203424104997)"
      ]
     },
     "execution_count": 115,
     "metadata": {},
     "output_type": "execute_result"
    }
   ],
   "source": [
    "scores.max(),scores.min(),scores.mean()"
   ]
  },
  {
   "cell_type": "code",
   "execution_count": 116,
   "metadata": {},
   "outputs": [],
   "source": [
    "\n",
    "anomaly_threshold = gmm.score_samples(eval_df) < -30\n"
   ]
  },
  {
   "cell_type": "code",
   "execution_count": 118,
   "metadata": {},
   "outputs": [],
   "source": [
    "import copy\n",
    "eval_df_1 = copy.deepcopy(eval_df)"
   ]
  },
  {
   "attachments": {},
   "cell_type": "markdown",
   "metadata": {},
   "source": [
    "Self evaluating"
   ]
  },
  {
   "cell_type": "code",
   "execution_count": 119,
   "metadata": {},
   "outputs": [],
   "source": [
    "eval_df_1['anomaly'] = anomaly_threshold.astype(int)"
   ]
  },
  {
   "cell_type": "code",
   "execution_count": 120,
   "metadata": {},
   "outputs": [
    {
     "data": {
      "text/plain": [
       "8"
      ]
     },
     "execution_count": 120,
     "metadata": {},
     "output_type": "execute_result"
    }
   ],
   "source": [
    "len(eval_df_1.loc[eval_df_1['anomaly'] == 1])"
   ]
  },
  {
   "cell_type": "code",
   "execution_count": 122,
   "metadata": {},
   "outputs": [
    {
     "data": {
      "text/html": [
       "<div>\n",
       "<style scoped>\n",
       "    .dataframe tbody tr th:only-of-type {\n",
       "        vertical-align: middle;\n",
       "    }\n",
       "\n",
       "    .dataframe tbody tr th {\n",
       "        vertical-align: top;\n",
       "    }\n",
       "\n",
       "    .dataframe thead tr th {\n",
       "        text-align: left;\n",
       "    }\n",
       "</style>\n",
       "<table border=\"1\" class=\"dataframe\">\n",
       "  <thead>\n",
       "    <tr>\n",
       "      <th></th>\n",
       "      <th colspan=\"3\" halign=\"left\">current_1</th>\n",
       "      <th colspan=\"3\" halign=\"left\">current_2</th>\n",
       "      <th colspan=\"3\" halign=\"left\">current_3</th>\n",
       "      <th>anomaly</th>\n",
       "    </tr>\n",
       "    <tr>\n",
       "      <th></th>\n",
       "      <th>mean</th>\n",
       "      <th>var</th>\n",
       "      <th>std</th>\n",
       "      <th>mean</th>\n",
       "      <th>var</th>\n",
       "      <th>std</th>\n",
       "      <th>mean</th>\n",
       "      <th>var</th>\n",
       "      <th>std</th>\n",
       "      <th></th>\n",
       "    </tr>\n",
       "  </thead>\n",
       "  <tbody>\n",
       "    <tr>\n",
       "      <th>265</th>\n",
       "      <td>1984.5318</td>\n",
       "      <td>32849.027892</td>\n",
       "      <td>181.243008</td>\n",
       "      <td>2165.6570</td>\n",
       "      <td>32557.458897</td>\n",
       "      <td>180.436856</td>\n",
       "      <td>441.0816</td>\n",
       "      <td>75958.101352</td>\n",
       "      <td>275.604973</td>\n",
       "      <td>1</td>\n",
       "    </tr>\n",
       "    <tr>\n",
       "      <th>239</th>\n",
       "      <td>2014.5465</td>\n",
       "      <td>32557.083946</td>\n",
       "      <td>180.435817</td>\n",
       "      <td>2201.4372</td>\n",
       "      <td>33086.332489</td>\n",
       "      <td>181.896488</td>\n",
       "      <td>492.1805</td>\n",
       "      <td>74070.219942</td>\n",
       "      <td>272.158446</td>\n",
       "      <td>1</td>\n",
       "    </tr>\n",
       "    <tr>\n",
       "      <th>148</th>\n",
       "      <td>1986.8928</td>\n",
       "      <td>33304.598568</td>\n",
       "      <td>182.495475</td>\n",
       "      <td>2175.2171</td>\n",
       "      <td>32620.161584</td>\n",
       "      <td>180.610525</td>\n",
       "      <td>437.7059</td>\n",
       "      <td>72929.218527</td>\n",
       "      <td>270.054103</td>\n",
       "      <td>1</td>\n",
       "    </tr>\n",
       "    <tr>\n",
       "      <th>216</th>\n",
       "      <td>1957.9241</td>\n",
       "      <td>32307.773117</td>\n",
       "      <td>179.743632</td>\n",
       "      <td>2145.4252</td>\n",
       "      <td>32878.510656</td>\n",
       "      <td>181.324325</td>\n",
       "      <td>395.5987</td>\n",
       "      <td>73677.876246</td>\n",
       "      <td>271.436689</td>\n",
       "      <td>1</td>\n",
       "    </tr>\n",
       "    <tr>\n",
       "      <th>182</th>\n",
       "      <td>1986.4803</td>\n",
       "      <td>32960.364448</td>\n",
       "      <td>181.549895</td>\n",
       "      <td>2171.4687</td>\n",
       "      <td>31709.078528</td>\n",
       "      <td>178.070431</td>\n",
       "      <td>442.4450</td>\n",
       "      <td>74781.880563</td>\n",
       "      <td>273.462759</td>\n",
       "      <td>1</td>\n",
       "    </tr>\n",
       "    <tr>\n",
       "      <th>230</th>\n",
       "      <td>2015.5736</td>\n",
       "      <td>32472.498233</td>\n",
       "      <td>180.201271</td>\n",
       "      <td>2198.6288</td>\n",
       "      <td>32220.627273</td>\n",
       "      <td>179.501051</td>\n",
       "      <td>493.8677</td>\n",
       "      <td>75457.086305</td>\n",
       "      <td>274.694533</td>\n",
       "      <td>1</td>\n",
       "    </tr>\n",
       "    <tr>\n",
       "      <th>235</th>\n",
       "      <td>2018.2980</td>\n",
       "      <td>32578.728269</td>\n",
       "      <td>180.495785</td>\n",
       "      <td>2194.4414</td>\n",
       "      <td>32565.410107</td>\n",
       "      <td>180.458888</td>\n",
       "      <td>494.5467</td>\n",
       "      <td>75094.319051</td>\n",
       "      <td>274.033427</td>\n",
       "      <td>1</td>\n",
       "    </tr>\n",
       "    <tr>\n",
       "      <th>195</th>\n",
       "      <td>1970.0554</td>\n",
       "      <td>32621.095840</td>\n",
       "      <td>180.613111</td>\n",
       "      <td>2154.0853</td>\n",
       "      <td>33104.757700</td>\n",
       "      <td>181.947129</td>\n",
       "      <td>412.6812</td>\n",
       "      <td>72494.528619</td>\n",
       "      <td>269.248080</td>\n",
       "      <td>1</td>\n",
       "    </tr>\n",
       "  </tbody>\n",
       "</table>\n",
       "</div>"
      ],
      "text/plain": [
       "     current_1                            current_2                            \\\n",
       "          mean           var         std       mean           var         std   \n",
       "265  1984.5318  32849.027892  181.243008  2165.6570  32557.458897  180.436856   \n",
       "239  2014.5465  32557.083946  180.435817  2201.4372  33086.332489  181.896488   \n",
       "148  1986.8928  33304.598568  182.495475  2175.2171  32620.161584  180.610525   \n",
       "216  1957.9241  32307.773117  179.743632  2145.4252  32878.510656  181.324325   \n",
       "182  1986.4803  32960.364448  181.549895  2171.4687  31709.078528  178.070431   \n",
       "230  2015.5736  32472.498233  180.201271  2198.6288  32220.627273  179.501051   \n",
       "235  2018.2980  32578.728269  180.495785  2194.4414  32565.410107  180.458888   \n",
       "195  1970.0554  32621.095840  180.613111  2154.0853  33104.757700  181.947129   \n",
       "\n",
       "    current_3                           anomaly  \n",
       "         mean           var         std          \n",
       "265  441.0816  75958.101352  275.604973       1  \n",
       "239  492.1805  74070.219942  272.158446       1  \n",
       "148  437.7059  72929.218527  270.054103       1  \n",
       "216  395.5987  73677.876246  271.436689       1  \n",
       "182  442.4450  74781.880563  273.462759       1  \n",
       "230  493.8677  75457.086305  274.694533       1  \n",
       "235  494.5467  75094.319051  274.033427       1  \n",
       "195  412.6812  72494.528619  269.248080       1  "
      ]
     },
     "execution_count": 122,
     "metadata": {},
     "output_type": "execute_result"
    }
   ],
   "source": [
    "eval_df_1.loc[eval_df_1['anomaly'] == 1]"
   ]
  },
  {
   "attachments": {},
   "cell_type": "markdown",
   "metadata": {},
   "source": [
    "possible real time function"
   ]
  },
  {
   "cell_type": "code",
   "execution_count": null,
   "metadata": {},
   "outputs": [],
   "source": [
    "# while True:\n",
    "#     current_readings = get_current_readings()\n",
    "#     current_features = pd.DataFrame([current_readings]).agg(['mean', 'var', 'std'])\n",
    "#     is_anomaly = gmm.score_samples(current_features) < -30\n",
    "#     if is_anomaly:\n",
    "#         alert_operator()"
   ]
  },
  {
   "attachments": {},
   "cell_type": "markdown",
   "metadata": {},
   "source": [
    "Adding Anomalies "
   ]
  },
  {
   "cell_type": "code",
   "execution_count": 131,
   "metadata": {},
   "outputs": [],
   "source": [
    "def add_anomalies(dataframe, number_of_anomalies=0, data_length=0):\n",
    "\n",
    "        # Determine the upper bound of the data to which anomalies should be added.\n",
    "        upper_bound = number_of_anomalies if number_of_anomalies else len(dataframe)\n",
    "        \n",
    "        # Determine the length of the data to which anomalies should be added.\n",
    "        length = data_length if data_length else len(dataframe)\n",
    "\n",
    "        # Make a deep copy of the data up to the upper bound and length.\n",
    "        df = copy.deepcopy(dataframe[0:length])\n",
    "        noise_df = df.iloc[:upper_bound,:]\n",
    "\n",
    "        # Calculate the noise amplitude based on the signal amplitude.\n",
    "        noise_amplitude = 0.1 * np.max(np.abs(df))\n",
    "\n",
    "        # Add noise to the signal using amplitude scaling.\n",
    "        noise = np.random.normal(0, noise_amplitude, noise_df.shape)\n",
    "        \n",
    "        df.iloc[:upper_bound,:] += noise\n",
    "\n",
    "        return df\n"
   ]
  },
  {
   "cell_type": "code",
   "execution_count": 132,
   "metadata": {},
   "outputs": [
    {
     "name": "stderr",
     "output_type": "stream",
     "text": [
      "c:\\Users\\deepdesk\\anaconda3\\lib\\site-packages\\numpy\\core\\fromnumeric.py:84: FutureWarning: In a future version, DataFrame.max(axis=None) will return a scalar max over the entire DataFrame. To retain the old behavior, use 'frame.max(axis=0)' or just 'frame.max()'\n",
      "  return reduction(axis=axis, out=out, **passkwargs)\n"
     ]
    }
   ],
   "source": [
    "anomalous_data = add_anomalies(df,5000,10000)"
   ]
  },
  {
   "cell_type": "code",
   "execution_count": 126,
   "metadata": {},
   "outputs": [],
   "source": [
    "anomalous_features = anomalous_data.groupby(anomalous_data.index // 10000).agg(['mean', 'var', 'std'])\n"
   ]
  },
  {
   "cell_type": "code",
   "execution_count": 127,
   "metadata": {},
   "outputs": [
    {
     "data": {
      "text/html": [
       "<div>\n",
       "<style scoped>\n",
       "    .dataframe tbody tr th:only-of-type {\n",
       "        vertical-align: middle;\n",
       "    }\n",
       "\n",
       "    .dataframe tbody tr th {\n",
       "        vertical-align: top;\n",
       "    }\n",
       "\n",
       "    .dataframe thead tr th {\n",
       "        text-align: left;\n",
       "    }\n",
       "</style>\n",
       "<table border=\"1\" class=\"dataframe\">\n",
       "  <thead>\n",
       "    <tr>\n",
       "      <th></th>\n",
       "      <th colspan=\"3\" halign=\"left\">current_1</th>\n",
       "      <th colspan=\"3\" halign=\"left\">current_2</th>\n",
       "      <th colspan=\"3\" halign=\"left\">current_3</th>\n",
       "    </tr>\n",
       "    <tr>\n",
       "      <th></th>\n",
       "      <th>mean</th>\n",
       "      <th>var</th>\n",
       "      <th>std</th>\n",
       "      <th>mean</th>\n",
       "      <th>var</th>\n",
       "      <th>std</th>\n",
       "      <th>mean</th>\n",
       "      <th>var</th>\n",
       "      <th>std</th>\n",
       "    </tr>\n",
       "  </thead>\n",
       "  <tbody>\n",
       "    <tr>\n",
       "      <th>0</th>\n",
       "      <td>1989.126637</td>\n",
       "      <td>58085.462209</td>\n",
       "      <td>241.009258</td>\n",
       "      <td>2172.866192</td>\n",
       "      <td>62663.309488</td>\n",
       "      <td>250.326406</td>\n",
       "      <td>440.471106</td>\n",
       "      <td>79182.756301</td>\n",
       "      <td>281.394308</td>\n",
       "    </tr>\n",
       "  </tbody>\n",
       "</table>\n",
       "</div>"
      ],
      "text/plain": [
       "     current_1                              current_2                \\\n",
       "          mean           var         std         mean           var   \n",
       "0  1989.126637  58085.462209  241.009258  2172.866192  62663.309488   \n",
       "\n",
       "                current_3                            \n",
       "          std        mean           var         std  \n",
       "0  250.326406  440.471106  79182.756301  281.394308  "
      ]
     },
     "execution_count": 127,
     "metadata": {},
     "output_type": "execute_result"
    }
   ],
   "source": [
    "anomalous_features"
   ]
  },
  {
   "cell_type": "code",
   "execution_count": 128,
   "metadata": {},
   "outputs": [
    {
     "name": "stdout",
     "output_type": "stream",
     "text": [
      "anomalous\n"
     ]
    }
   ],
   "source": [
    "is_anomaly = gmm.score_samples(anomalous_features) < -30\n",
    "if is_anomaly:\n",
    "    print('anomalous')"
   ]
  },
  {
   "cell_type": "code",
   "execution_count": 129,
   "metadata": {},
   "outputs": [],
   "source": [
    "normal_features = df[:10000].groupby(df[:10000].index // 10000).agg(['mean', 'var', 'std'])\n"
   ]
  },
  {
   "cell_type": "code",
   "execution_count": 130,
   "metadata": {},
   "outputs": [],
   "source": [
    "is_anomaly = gmm.score_samples(normal_features) < -30\n",
    "if is_anomaly:\n",
    "    print('anomalous')"
   ]
  },
  {
   "cell_type": "code",
   "execution_count": null,
   "metadata": {},
   "outputs": [],
   "source": [
    "#TODO use the harmonics and other features here and verify"
   ]
  },
  {
   "cell_type": "markdown",
   "metadata": {},
   "source": []
  }
 ],
 "metadata": {
  "kernelspec": {
   "display_name": "base",
   "language": "python",
   "name": "python3"
  },
  "language_info": {
   "codemirror_mode": {
    "name": "ipython",
    "version": 3
   },
   "file_extension": ".py",
   "mimetype": "text/x-python",
   "name": "python",
   "nbconvert_exporter": "python",
   "pygments_lexer": "ipython3",
   "version": "3.9.13"
  },
  "orig_nbformat": 4
 },
 "nbformat": 4,
 "nbformat_minor": 2
}
