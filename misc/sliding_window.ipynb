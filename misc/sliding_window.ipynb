{
 "cells": [
  {
   "cell_type": "code",
   "execution_count": 8,
   "metadata": {},
   "outputs": [],
   "source": [
    "import pandas as pd\n",
    "from sklearn.model_selection import train_test_split\n",
    "from sklearn.linear_model import Logisti"
   ]
  },
  {
   "cell_type": "code",
   "execution_count": null,
   "metadata": {},
   "outputs": [],
   "source": [
    "cRegression\n",
    "import numpy as np"
   ]
  },
  {
   "cell_type": "code",
   "execution_count": 1,
   "metadata": {},
   "outputs": [],
   "source": [
    "\n",
    "\n",
    "# Load the data\n",
    "# df = pd.concat([pd.read_csv(f, header=None) for f in filenames], ignore_index=True)\n",
    "df = pd.read_csv('./data/combined_data.csv')"
   ]
  },
  {
   "cell_type": "code",
   "execution_count": 2,
   "metadata": {},
   "outputs": [],
   "source": [
    "# Set the window size\n",
    "window_size = 10000\n",
    "\n",
    "# Split the data into windows\n",
    "windows = [df[i:i+window_size] for i in range(0, len(df), window_size)]"
   ]
  },
  {
   "cell_type": "code",
   "execution_count": null,
   "metadata": {},
   "outputs": [],
   "source": [
    "# Get indicators for each column\n",
    "indicators = pd.DataFrame({\n",
    "    \"mean\": df.mean(),\n",
    "    \"std\": df.std(),\n",
    "    \"skewness\": df.skew(),\n",
    "    \"kurtosis\": df.kurtosis()\n",
    "})\n",
    "\n",
    "# Use z-score to detect outliers\n",
    "df_zscore = df.apply(zscore)\n",
    "outliers = df_zscore[(np.abs(df_zscore) > 3).any(axis=1)]"
   ]
  },
  {
   "cell_type": "code",
   "execution_count": null,
   "metadata": {},
   "outputs": [],
   "source": [
    "import numpy as np\n",
    "\n",
    "\n",
    "def get_indicators(windows):\n",
    "            \n",
    "    for data in windows:\n",
    "        # Calculate the mean and standard deviation for each column\n",
    "        mean = np.mean(data, axis=0)\n",
    "        std_dev = np.std(data, axis=0)\n",
    "\n",
    "# Create a function to calculate the condition indicators\n",
    "def create_condition_indicators(data, mean, std_dev, window_size):\n",
    "    # Initialize an empty array to store the condition indicators\n",
    "    condition_indicators = []\n",
    "\n",
    "    # Loop through the data set with a sliding window of size window_size\n",
    "    for i in range(window_size, len(data)):\n",
    "        # Get the current window of data\n",
    "        window = data.iloc[i-window_size:i,:]\n",
    "\n",
    "        # Calculate the mean and standard deviation for the window\n",
    "        window_mean = np.mean(window, axis=0)\n",
    "        window_std_dev = np.std(window, axis=0)\n",
    "\n",
    "        # Calculate the condition indicators based on the mean and standard deviation\n",
    "        ci = (window_mean - mean) / std_dev\n",
    "\n",
    "        # Append the condition indicators to the array\n",
    "        condition_indicators.append(ci.values)\n",
    "\n",
    "    # Convert the condition indicators to a numpy array\n",
    "    condition_indicators = np.array(condition_indicators)\n",
    "\n",
    "    return condition_indicators\n",
    "\n",
    "# Create the condition indicators for a window size of 1000\n",
    "condition_indicators = create_condition_indicators(data, mean, std_dev, 1000)\n",
    "\n",
    "# Print the shape of the condition indicators array\n",
    "print(condition_indicators.shape)\n"
   ]
  },
  {
   "cell_type": "code",
   "execution_count": null,
   "metadata": {},
   "outputs": [],
   "source": [
    "# Train and evaluate models on each window\n",
    "for i, window in enumerate(windows):\n",
    "    # Create condition indicators for the window\n",
    "    indicators = create_indicators(window)\n",
    "\n",
    "    # Split the data into training and test sets\n",
    "    X_train, X_test, y_train, y_test = train_test_split(indicators, labels, test_size=0.2, random_state=42)\n",
    "\n",
    "    # Train a logistic regression model\n",
    "    clf = LogisticRegression()\n",
    "    clf.fit(X_train, y_train)\n",
    "\n",
    "    # Evaluate the model on the test set\n",
    "    score = clf.score(X_test, y_test)\n",
    "    print(\"Window {} score: {:.2f}\".format(i, score))\n"
   ]
  }
 ],
 "metadata": {
  "kernelspec": {
   "display_name": "Python 3",
   "language": "python",
   "name": "python3"
  },
  "language_info": {
   "codemirror_mode": {
    "name": "ipython",
    "version": 3
   },
   "file_extension": ".py",
   "mimetype": "text/x-python",
   "name": "python",
   "nbconvert_exporter": "python",
   "pygments_lexer": "ipython3",
   "version": "3.9.13"
  },
  "orig_nbformat": 4
 },
 "nbformat": 4,
 "nbformat_minor": 2
}
