{
 "cells": [
  {
   "cell_type": "code",
   "execution_count": 22,
   "metadata": {},
   "outputs": [],
   "source": [
    "# Import Libraries\n",
    "import pandas as pd\n",
    "import numpy as np\n",
    "from sklearn.preprocessing import StandardScaler\n",
    "from sklearn.ensemble import IsolationForest\n",
    "from sklearn.model_selection import train_test_split\n",
    "import os\n",
    "import matplotlib.pyplot as plt"
   ]
  },
  {
   "cell_type": "code",
   "execution_count": 24,
   "metadata": {},
   "outputs": [],
   "source": [
    "# Load all 317 files into a single DataFrame\n",
    "# Read the data in chunks\n",
    "datafolder = 'data/s3Files/'\n",
    "data_files = os.listdir(datafolder)\n",
    "data= pd.DataFrame()\n",
    "for file in data_files:\n",
    "    # print(file)\n",
    "    data = pd.concat([data,pd.read_csv(datafolder+file,header=None,sep=',')])\n",
    "data.drop(columns=[0,4],inplace=True)\n",
    "data.dropna(inplace=True)\n",
    "data.columns = ['current_1', 'current_2', 'current_3']"
   ]
  },
  {
   "cell_type": "code",
   "execution_count": 25,
   "metadata": {},
   "outputs": [
    {
     "data": {
      "text/html": [
       "<div>\n",
       "<style scoped>\n",
       "    .dataframe tbody tr th:only-of-type {\n",
       "        vertical-align: middle;\n",
       "    }\n",
       "\n",
       "    .dataframe tbody tr th {\n",
       "        vertical-align: top;\n",
       "    }\n",
       "\n",
       "    .dataframe thead th {\n",
       "        text-align: right;\n",
       "    }\n",
       "</style>\n",
       "<table border=\"1\" class=\"dataframe\">\n",
       "  <thead>\n",
       "    <tr style=\"text-align: right;\">\n",
       "      <th></th>\n",
       "      <th>current_1</th>\n",
       "      <th>current_2</th>\n",
       "      <th>current_3</th>\n",
       "    </tr>\n",
       "  </thead>\n",
       "  <tbody>\n",
       "    <tr>\n",
       "      <th>count</th>\n",
       "      <td>3.170000e+06</td>\n",
       "      <td>3.170000e+06</td>\n",
       "      <td>3.170000e+06</td>\n",
       "    </tr>\n",
       "    <tr>\n",
       "      <th>mean</th>\n",
       "      <td>1.983090e+03</td>\n",
       "      <td>2.168260e+03</td>\n",
       "      <td>4.345496e+02</td>\n",
       "    </tr>\n",
       "    <tr>\n",
       "      <th>std</th>\n",
       "      <td>1.816999e+02</td>\n",
       "      <td>1.803412e+02</td>\n",
       "      <td>2.729833e+02</td>\n",
       "    </tr>\n",
       "    <tr>\n",
       "      <th>min</th>\n",
       "      <td>1.681000e+03</td>\n",
       "      <td>1.863000e+03</td>\n",
       "      <td>0.000000e+00</td>\n",
       "    </tr>\n",
       "    <tr>\n",
       "      <th>25%</th>\n",
       "      <td>1.787000e+03</td>\n",
       "      <td>1.977000e+03</td>\n",
       "      <td>1.440000e+02</td>\n",
       "    </tr>\n",
       "    <tr>\n",
       "      <th>50%</th>\n",
       "      <td>1.983000e+03</td>\n",
       "      <td>2.169000e+03</td>\n",
       "      <td>4.370000e+02</td>\n",
       "    </tr>\n",
       "    <tr>\n",
       "      <th>75%</th>\n",
       "      <td>2.180000e+03</td>\n",
       "      <td>2.360000e+03</td>\n",
       "      <td>7.250000e+02</td>\n",
       "    </tr>\n",
       "    <tr>\n",
       "      <th>max</th>\n",
       "      <td>2.292000e+03</td>\n",
       "      <td>2.497000e+03</td>\n",
       "      <td>9.070000e+02</td>\n",
       "    </tr>\n",
       "  </tbody>\n",
       "</table>\n",
       "</div>"
      ],
      "text/plain": [
       "          current_1     current_2     current_3\n",
       "count  3.170000e+06  3.170000e+06  3.170000e+06\n",
       "mean   1.983090e+03  2.168260e+03  4.345496e+02\n",
       "std    1.816999e+02  1.803412e+02  2.729833e+02\n",
       "min    1.681000e+03  1.863000e+03  0.000000e+00\n",
       "25%    1.787000e+03  1.977000e+03  1.440000e+02\n",
       "50%    1.983000e+03  2.169000e+03  4.370000e+02\n",
       "75%    2.180000e+03  2.360000e+03  7.250000e+02\n",
       "max    2.292000e+03  2.497000e+03  9.070000e+02"
      ]
     },
     "execution_count": 25,
     "metadata": {},
     "output_type": "execute_result"
    }
   ],
   "source": [
    "data.describe()"
   ]
  },
  {
   "cell_type": "code",
   "execution_count": 26,
   "metadata": {},
   "outputs": [],
   "source": [
    "data.reset_index(drop=True,inplace=True)"
   ]
  },
  {
   "cell_type": "code",
   "execution_count": 27,
   "metadata": {},
   "outputs": [],
   "source": [
    "import copy\n",
    "df = copy.deepcopy(data)"
   ]
  },
  {
   "cell_type": "code",
   "execution_count": null,
   "metadata": {},
   "outputs": [],
   "source": [
    "# BrokenRotorBars = abs(current_1) - abs(current_2)\n",
    "# BearingFault = abs(current_2) - abs(current_3)\n",
    "# Eccentricity = abs(current_3) - abs(current_1)\n",
    "\n",
    "# df['BrokenRotorBars'] = abs(df['current_1']) - abs(df['current_2'])\n",
    "# df['BearingFault'] = abs(df['current_2']) - abs(df['current_3'])\n",
    "# df['Eccentricity'] = abs(df['current_3']) - abs(df['current_1'])"
   ]
  },
  {
   "cell_type": "code",
   "execution_count": null,
   "metadata": {},
   "outputs": [],
   "source": [
    "# df['rms_current'] = np.sqrt(np.square(df['current_1']) + np.square(df['current_2']) + np.square(df['current_3']))/3\n",
    "# df['current_unbalance'] = np.abs((df['current_1'] - df['current_2']) / df['rms_current'])"
   ]
  },
  {
   "cell_type": "code",
   "execution_count": 28,
   "metadata": {},
   "outputs": [],
   "source": [
    "# we might need to fft whole dataset since everything follow a signal pattern\n",
    "fft_data = np.fft.fft(df, axis=0)"
   ]
  },
  {
   "cell_type": "code",
   "execution_count": 29,
   "metadata": {},
   "outputs": [
    {
     "data": {
      "text/plain": [
       "array([6.28639556e+09+0.j, 6.87338553e+09+0.j, 1.37752238e+09+0.j])"
      ]
     },
     "execution_count": 29,
     "metadata": {},
     "output_type": "execute_result"
    }
   ],
   "source": [
    "fft_data[0]"
   ]
  },
  {
   "cell_type": "code",
   "execution_count": 50,
   "metadata": {},
   "outputs": [],
   "source": [
    "fundamental_freq = 50\n",
    "harmonic_freqs = [2*fundamental_freq, 3*fundamental_freq, 4*fundamental_freq]"
   ]
  },
  {
   "cell_type": "code",
   "execution_count": 52,
   "metadata": {},
   "outputs": [
    {
     "data": {
      "text/plain": [
       "[100, 150, 200]"
      ]
     },
     "execution_count": 52,
     "metadata": {},
     "output_type": "execute_result"
    }
   ],
   "source": [
    "harmonic_freqs"
   ]
  },
  {
   "cell_type": "code",
   "execution_count": 54,
   "metadata": {},
   "outputs": [
    {
     "data": {
      "text/plain": [
       "[15850, 23775, 31700]"
      ]
     },
     "execution_count": 54,
     "metadata": {},
     "output_type": "execute_result"
    }
   ],
   "source": [
    "[int(freq/fs * (len(fft_data)/2)) for freq in harmonic_freqs]"
   ]
  },
  {
   "attachments": {},
   "cell_type": "markdown",
   "metadata": {},
   "source": [
    "Calculate harmonic magnitudes of the given dataset "
   ]
  },
  {
   "cell_type": "code",
   "execution_count": 55,
   "metadata": {},
   "outputs": [
    {
     "name": "stdout",
     "output_type": "stream",
     "text": [
      "Fundamental frequency: 50 Hz\n",
      "Harmonic frequencies: [100, 150, 200] Hz\n",
      "Harmonic magnitudes: [[1099785.3481688   996971.17576751 1362701.88160155]\n",
      " [4788583.0103501  4700362.81987263 7178295.02667263]\n",
      " [ 243324.22633726  410422.70902971  722413.1563361 ]]\n"
     ]
    }
   ],
   "source": [
    "import numpy as np\n",
    "import pandas as pd\n",
    "\n",
    "# Set sampling frequency\n",
    "fs = 10000\n",
    "\n",
    "\n",
    "# Compute power spectral density\n",
    "# This line computes the power spectral density (PSD) of the FFT by taking the absolute value of the FFT, squaring it, and dividing by the length of the current_data array. The PSD represents the distribution of power over the frequency range.\n",
    "psd = np.abs(fft_data) ** 2 / len(df)\n",
    "\n",
    "\n",
    "# Set frequency vector\n",
    "# This line computes the frequency vector for the FFT by using the fftfreq() function from NumPy, which generates a vector of frequencies that correspond to each element of the FFT output.\n",
    "freqs = np.fft.fftfreq(len(fft_data), 1 / fs) \n",
    "\n",
    "# Identify the fundamental frequency and its harmonics\n",
    "fundamental_freq = 50 # or 60 Hz depending on the AC power supply frequency\n",
    "harmonic_freqs = [2*fundamental_freq, 3*fundamental_freq, 4*fundamental_freq] # extract 2nd, 3rd and 4th harmonics\n",
    "harmonic_indices = [int(freq/fs * (len(fft_data)/2)) for freq in harmonic_freqs] # compute indices of harmonic components\n",
    "# harmonic_indices = [int(freq/fundamental_freq * (len(fft_1)//2)) for freq in harmonic_freqs if freq < fs/2] \n",
    "\n",
    "harmonic_magnitudes = np.abs(fft_data[harmonic_indices]) # extract magnitudes of harmonic components\n",
    "\n",
    "# Print results\n",
    "print('Fundamental frequency:', fundamental_freq, 'Hz')\n",
    "print('Harmonic frequencies:', harmonic_freqs, 'Hz')\n",
    "print('Harmonic magnitudes:', harmonic_magnitudes)\n"
   ]
  },
  {
   "attachments": {},
   "cell_type": "markdown",
   "metadata": {},
   "source": [
    "Calculating various other features "
   ]
  },
  {
   "cell_type": "code",
   "execution_count": null,
   "metadata": {},
   "outputs": [],
   "source": [
    "# Calculate THD\n",
    "fundamental_index = int(fundamental_freq * (len(fft_data)/2) / fs)\n",
    "thd = np.sqrt(np.sum(np.abs(fft_data[fundamental_index-2:fundamental_index+3])**2) - np.abs(fft_data[fundamental_index])**2) / np.abs(fft_data[fundamental_index])\n",
    "\n",
    "# Calculate RMS current\n",
    "rms_current = np.sqrt(np.mean(df**2))\n",
    "\n",
    "# Calculate current unbalance\n",
    "phase_angles = np.angle(fft_data[1:4, :], deg=True)\n",
    "phase_angles_diff = np.diff(phase_angles, axis=0)\n",
    "current_unbalance = np.max(np.abs(phase_angles_diff))\n",
    "\n",
    "# Print results\n",
    "print('Fundamental frequency:', fundamental_freq, 'Hz')\n",
    "print('Harmonic frequencies:', harmonic_freqs, 'Hz')\n",
    "print('Harmonic magnitudes:', harmonic_magnitudes)\n",
    "print('THD:', thd)\n",
    "print('RMS current:', rms_current)\n",
    "print('Current unbalance:', current_unbalance)\n"
   ]
  },
  {
   "attachments": {},
   "cell_type": "markdown",
   "metadata": {},
   "source": [
    "creating anomaly\n"
   ]
  },
  {
   "cell_type": "code",
   "execution_count": 87,
   "metadata": {},
   "outputs": [
    {
     "name": "stderr",
     "output_type": "stream",
     "text": [
      "c:\\Users\\deepdesk\\anaconda3\\lib\\site-packages\\numpy\\core\\fromnumeric.py:84: FutureWarning: In a future version, DataFrame.max(axis=None) will return a scalar max over the entire DataFrame. To retain the old behavior, use 'frame.max(axis=0)' or just 'frame.max()'\n",
      "  return reduction(axis=axis, out=out, **passkwargs)\n"
     ]
    }
   ],
   "source": [
    "# Calculate the noise amplitude based on signal amplitude\n",
    "noise_amplitude = 0.1*np.max(np.abs(df.loc[:999,:]))\n",
    "\n",
    "# Add noise to the signal using amplitude scaling\n",
    "noise = np.random.normal(0, noise_amplitude, df.loc[:999,:].shape)\n",
    "noisy_signal = df.loc[:999,:] + noise"
   ]
  },
  {
   "cell_type": "code",
   "execution_count": 88,
   "metadata": {},
   "outputs": [
    {
     "data": {
      "text/html": [
       "<div>\n",
       "<style scoped>\n",
       "    .dataframe tbody tr th:only-of-type {\n",
       "        vertical-align: middle;\n",
       "    }\n",
       "\n",
       "    .dataframe tbody tr th {\n",
       "        vertical-align: top;\n",
       "    }\n",
       "\n",
       "    .dataframe thead th {\n",
       "        text-align: right;\n",
       "    }\n",
       "</style>\n",
       "<table border=\"1\" class=\"dataframe\">\n",
       "  <thead>\n",
       "    <tr style=\"text-align: right;\">\n",
       "      <th></th>\n",
       "      <th>current_1</th>\n",
       "      <th>current_2</th>\n",
       "      <th>current_3</th>\n",
       "    </tr>\n",
       "  </thead>\n",
       "  <tbody>\n",
       "    <tr>\n",
       "      <th>0</th>\n",
       "      <td>2278.670962</td>\n",
       "      <td>2344.192109</td>\n",
       "      <td>160.814288</td>\n",
       "    </tr>\n",
       "    <tr>\n",
       "      <th>1</th>\n",
       "      <td>1829.086990</td>\n",
       "      <td>2048.494432</td>\n",
       "      <td>45.381580</td>\n",
       "    </tr>\n",
       "    <tr>\n",
       "      <th>2</th>\n",
       "      <td>2448.411910</td>\n",
       "      <td>2300.903458</td>\n",
       "      <td>12.432574</td>\n",
       "    </tr>\n",
       "    <tr>\n",
       "      <th>3</th>\n",
       "      <td>1981.856134</td>\n",
       "      <td>2394.511509</td>\n",
       "      <td>115.398110</td>\n",
       "    </tr>\n",
       "    <tr>\n",
       "      <th>4</th>\n",
       "      <td>1842.779209</td>\n",
       "      <td>2434.134849</td>\n",
       "      <td>37.535929</td>\n",
       "    </tr>\n",
       "    <tr>\n",
       "      <th>...</th>\n",
       "      <td>...</td>\n",
       "      <td>...</td>\n",
       "      <td>...</td>\n",
       "    </tr>\n",
       "    <tr>\n",
       "      <th>995</th>\n",
       "      <td>2237.488102</td>\n",
       "      <td>1700.597476</td>\n",
       "      <td>645.298455</td>\n",
       "    </tr>\n",
       "    <tr>\n",
       "      <th>996</th>\n",
       "      <td>2064.302392</td>\n",
       "      <td>1854.696314</td>\n",
       "      <td>385.300779</td>\n",
       "    </tr>\n",
       "    <tr>\n",
       "      <th>997</th>\n",
       "      <td>2096.644228</td>\n",
       "      <td>1978.622265</td>\n",
       "      <td>582.626016</td>\n",
       "    </tr>\n",
       "    <tr>\n",
       "      <th>998</th>\n",
       "      <td>1829.329387</td>\n",
       "      <td>2063.196122</td>\n",
       "      <td>590.392824</td>\n",
       "    </tr>\n",
       "    <tr>\n",
       "      <th>999</th>\n",
       "      <td>2072.129137</td>\n",
       "      <td>1918.666508</td>\n",
       "      <td>599.671556</td>\n",
       "    </tr>\n",
       "  </tbody>\n",
       "</table>\n",
       "<p>1000 rows × 3 columns</p>\n",
       "</div>"
      ],
      "text/plain": [
       "       current_1    current_2   current_3\n",
       "0    2278.670962  2344.192109  160.814288\n",
       "1    1829.086990  2048.494432   45.381580\n",
       "2    2448.411910  2300.903458   12.432574\n",
       "3    1981.856134  2394.511509  115.398110\n",
       "4    1842.779209  2434.134849   37.535929\n",
       "..           ...          ...         ...\n",
       "995  2237.488102  1700.597476  645.298455\n",
       "996  2064.302392  1854.696314  385.300779\n",
       "997  2096.644228  1978.622265  582.626016\n",
       "998  1829.329387  2063.196122  590.392824\n",
       "999  2072.129137  1918.666508  599.671556\n",
       "\n",
       "[1000 rows x 3 columns]"
      ]
     },
     "execution_count": 88,
     "metadata": {},
     "output_type": "execute_result"
    }
   ],
   "source": [
    "noisy_signal"
   ]
  },
  {
   "cell_type": "code",
   "execution_count": 92,
   "metadata": {},
   "outputs": [
    {
     "name": "stderr",
     "output_type": "stream",
     "text": [
      "C:\\Users\\deepdesk\\AppData\\Local\\Temp\\ipykernel_8160\\337689107.py:2: SettingWithCopyWarning: \n",
      "A value is trying to be set on a copy of a slice from a DataFrame.\n",
      "Try using .loc[row_indexer,col_indexer] = value instead\n",
      "\n",
      "See the caveats in the documentation: https://pandas.pydata.org/pandas-docs/stable/user_guide/indexing.html#returning-a-view-versus-a-copy\n",
      "  anomalous_df.loc[:1000,:] = noise\n"
     ]
    }
   ],
   "source": [
    "anomalous_df = df.loc[:999,:]\n",
    "anomalous_df.loc[:1000,:] = noise\n",
    "anomalous_df.to_csv('anomalous_data.csv', index=False)\n"
   ]
  },
  {
   "attachments": {},
   "cell_type": "markdown",
   "metadata": {},
   "source": [
    "testing the anomaly"
   ]
  },
  {
   "cell_type": "code",
   "execution_count": 94,
   "metadata": {},
   "outputs": [],
   "source": [
    "def get_features(df):\n",
    "\n",
    "    fft_data = np.fft.fft(df, axis=0)\n",
    "    # Set sampling frequency\n",
    "    fs = 10000\n",
    "\n",
    "\n",
    "    # Compute power spectral density\n",
    "    # This line computes the power spectral density (PSD) of the FFT by taking the absolute value of the FFT, squaring it, and dividing by the length of the current_data array. The PSD represents the distribution of power over the frequency range.\n",
    "    psd = np.abs(fft_data) ** 2 / len(df)\n",
    "\n",
    "\n",
    "    # Set frequency vector\n",
    "    # This line computes the frequency vector for the FFT by using the fftfreq() function from NumPy, which generates a vector of frequencies that correspond to each element of the FFT output.\n",
    "    freqs = np.fft.fftfreq(len(fft_data), 1 / fs) \n",
    "\n",
    "    # Identify the fundamental frequency and its harmonics\n",
    "    fundamental_freq = 50 # or 60 Hz depending on the AC power supply frequency\n",
    "    harmonic_freqs = [2*fundamental_freq, 3*fundamental_freq, 4*fundamental_freq] # extract 2nd, 3rd and 4th harmonics\n",
    "    harmonic_indices = [int(freq/fs * (len(fft_data)/2)) for freq in harmonic_freqs] # compute indices of harmonic components\n",
    "    # harmonic_indices = [int(freq/fundamental_freq * (len(fft_1)//2)) for freq in harmonic_freqs if freq < fs/2] \n",
    "\n",
    "    harmonic_magnitudes = np.abs(fft_data[harmonic_indices]) # extract magnitudes of harmonic components\n",
    "\n",
    "    # Print results\n",
    "    # print('Fundamental frequency:', fundamental_freq, 'Hz')\n",
    "    # print('Harmonic frequencies:', harmonic_freqs, 'Hz')\n",
    "    # print('Harmonic magnitudes:', harmonic_magnitudes)\n",
    "    # Calculate THD\n",
    "    fundamental_index = int(fundamental_freq * (len(fft_data)/2) / fs)\n",
    "    thd = np.sqrt(np.sum(np.abs(fft_data[fundamental_index-2:fundamental_index+3])**2) - np.abs(fft_data[fundamental_index])**2) / np.abs(fft_data[fundamental_index])\n",
    "\n",
    "    # Calculate RMS current\n",
    "    rms_current = np.sqrt(np.mean(df**2))\n",
    "\n",
    "    # Calculate current unbalance\n",
    "    phase_angles = np.angle(fft_data[1:4, :], deg=True)\n",
    "    phase_angles_diff = np.diff(phase_angles, axis=0)\n",
    "    current_unbalance = np.max(np.abs(phase_angles_diff))\n",
    "\n",
    "    # Print results\n",
    "    # print('Fundamental frequency:', fundamental_freq, 'Hz')\n",
    "    # print('Harmonic frequencies:', harmonic_freqs, 'Hz')\n",
    "    # print('Harmonic magnitudes:', harmonic_magnitudes)\n",
    "    # print('THD:', thd)\n",
    "    # print('RMS current:', rms_current)\n",
    "    # print('Current unbalance:', current_unbalance)\n",
    "\n",
    "    return {'fft_data' : fft_data,'harmonic_magnitudes' : harmonic_magnitudes ,'thd' : thd,'rms_current' : rms_current,'current_unbalance' : current_unbalance}\n"
   ]
  },
  {
   "cell_type": "code",
   "execution_count": null,
   "metadata": {},
   "outputs": [],
   "source": [
    "new_fft,hm,nthd,rms,ubal = get_features(anomalous_df)\n"
   ]
  },
  {
   "cell_type": "code",
   "execution_count": null,
   "metadata": {},
   "outputs": [],
   "source": [
    "np.concatenate((harmonic_magnitudes, current_unbalance, thd, rms_current), axis=1)"
   ]
  },
  {
   "cell_type": "code",
   "execution_count": 97,
   "metadata": {},
   "outputs": [
    {
     "data": {
      "text/plain": [
       "(array([[1099785.3481688 ,  996971.17576751, 1362701.88160155],\n",
       "        [4788583.0103501 , 4700362.81987263, 7178295.02667263],\n",
       "        [ 243324.22633726,  410422.70902971,  722413.1563361 ]]),\n",
       " array([[4683.32640125, 3782.7027863 , 3265.80834343],\n",
       "        [4254.69676725, 4964.64955231, 1679.23047488],\n",
       "        [8585.3574962 , 9424.45321275, 3116.62779596]]))"
      ]
     },
     "execution_count": 97,
     "metadata": {},
     "output_type": "execute_result"
    }
   ],
   "source": [
    "harmonic_magnitudes, hm"
   ]
  },
  {
   "cell_type": "code",
   "execution_count": null,
   "metadata": {},
   "outputs": [],
   "source": [
    "from sklearn.tree import DecisionTreeClassifier\n",
    "\n",
    "# Create a dataset with features and labels\n",
    "X = np.concatenate((harmonic_magnitudes, current_unbalance, thd, rms_current), axis=1)\n",
    "y = np.zeros(len(X))  # initialize all labels to 0 (normal)\n",
    "\n",
    "# Set the threshold for anomaly detection\n",
    "threshold = 0.2\n",
    "\n",
    "# Determine the labels for anomalous data\n",
    "for i in range(len(X)):\n",
    "    for j in range(X.shape[1]):\n",
    "        if abs(X[i][j] - benchmark_data[j]) > threshold:\n",
    "            y[i] = 1  # set label to 1 (anomalous)\n",
    "\n",
    "# Train a decision tree classifier\n",
    "clf = DecisionTreeClassifier()\n",
    "clf.fit(X, y)\n",
    "\n",
    "# Use the classifier to predict labels for new data\n",
    "# new_fft,hm,nthd,rms,ubal\n",
    "X_new = np.concatenate((hm, ubal, nthd, rms), axis=1)\n",
    "y_pred = clf.predict(X_new)\n",
    "\n",
    "# Print the predicted labels\n",
    "print(\"Predicted labels:\", y_pred)\n"
   ]
  }
 ],
 "metadata": {
  "kernelspec": {
   "display_name": "base",
   "language": "python",
   "name": "python3"
  },
  "language_info": {
   "codemirror_mode": {
    "name": "ipython",
    "version": 3
   },
   "file_extension": ".py",
   "mimetype": "text/x-python",
   "name": "python",
   "nbconvert_exporter": "python",
   "pygments_lexer": "ipython3",
   "version": "3.9.13"
  },
  "orig_nbformat": 4,
  "vscode": {
   "interpreter": {
    "hash": "0398511a9cde84ab83a2fa188ff6508a33d7c0397b3581839dbbf3238a247df4"
   }
  }
 },
 "nbformat": 4,
 "nbformat_minor": 2
}
