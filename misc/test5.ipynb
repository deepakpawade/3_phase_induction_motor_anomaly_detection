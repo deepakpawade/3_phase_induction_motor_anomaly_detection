{
 "cells": [
  {
   "cell_type": "code",
   "execution_count": 22,
   "metadata": {},
   "outputs": [],
   "source": [
    "# Import Libraries\n",
    "import pandas as pd\n",
    "import numpy as np\n",
    "from sklearn.preprocessing import StandardScaler\n",
    "from sklearn.ensemble import IsolationForest\n",
    "from sklearn.model_selection import train_test_split\n",
    "import os\n",
    "import matplotlib.pyplot as plt\n",
    "\n",
    "# Load all 317 files into a single DataFrame\n",
    "# Read the data in chunks\n",
    "datafolder = 'data/s3Files/'\n",
    "data_files = os.listdir(datafolder)\n",
    "df = pd.DataFrame()\n",
    "for file in data_files:\n",
    "    # print(file)\n",
    "    df = pd.concat([df,pd.read_csv(datafolder+file,header=None,sep=',')])\n",
    "df.drop(columns=[0,4],inplace=True)\n",
    "df.dropna(inplace=True)\n",
    "df.columns = ['current_1', 'current_2', 'current_3']\n",
    "\n"
   ]
  },
  {
   "cell_type": "code",
   "execution_count": 23,
   "metadata": {},
   "outputs": [],
   "source": [
    "df.reset_index(drop=True,inplace=True)"
   ]
  },
  {
   "cell_type": "code",
   "execution_count": 27,
   "metadata": {},
   "outputs": [],
   "source": [
    "# Data Preprocessing\n",
    "freq = 1/10000 # Assuming the data is collected at 15K samples per second\n",
    "n_samples = len(df)\n",
    "index = pd.date_range(start='2023-02-27 00:00:00', periods=n_samples, freq=pd.Timedelta(freq, unit='s'))\n",
    "df = df.set_index(index)\n",
    "df_resampled = df.resample('100ms').mean().ffill()\n",
    "\n"
   ]
  },
  {
   "cell_type": "code",
   "execution_count": 28,
   "metadata": {},
   "outputs": [
    {
     "data": {
      "text/plain": [
       "(3170, 3)"
      ]
     },
     "execution_count": 28,
     "metadata": {},
     "output_type": "execute_result"
    }
   ],
   "source": [
    "df_resampled.shape"
   ]
  },
  {
   "cell_type": "code",
   "execution_count": 29,
   "metadata": {},
   "outputs": [],
   "source": [
    "# Feature Engineering\n",
    "X = df_resampled[['current_1', 'current_2', 'current_3']]\n",
    "scaler = StandardScaler()\n",
    "X_scaled = scaler.fit_transform(X)\n",
    "X_scaled = pd.DataFrame(X_scaled, columns=X.columns, index=X.index)\n",
    "\n",
    "\n"
   ]
  },
  {
   "cell_type": "code",
   "execution_count": 30,
   "metadata": {},
   "outputs": [
    {
     "name": "stderr",
     "output_type": "stream",
     "text": [
      "c:\\Users\\deepdesk\\anaconda3\\lib\\site-packages\\sklearn\\base.py:450: UserWarning: X does not have valid feature names, but IsolationForest was fitted with feature names\n",
      "  warnings.warn(\n"
     ]
    }
   ],
   "source": [
    "# Model Training\n",
    "model = IsolationForest(contamination=0.01)\n",
    "model.fit(X_scaled)\n",
    "df_resampled['anomaly'] = pd.Series(model.predict(X_scaled), index=df_resampled.index)"
   ]
  },
  {
   "cell_type": "code",
   "execution_count": 31,
   "metadata": {},
   "outputs": [
    {
     "data": {
      "text/plain": [
       "array([[ 0.32351313, -0.53869646, -0.01462173]])"
      ]
     },
     "execution_count": 31,
     "metadata": {},
     "output_type": "execute_result"
    }
   ],
   "source": [
    "X_scaled.iloc[-1:].values"
   ]
  },
  {
   "cell_type": "code",
   "execution_count": 32,
   "metadata": {},
   "outputs": [
    {
     "name": "stdout",
     "output_type": "stream",
     "text": [
      "Motor is Running Normally.\n"
     ]
    },
    {
     "name": "stderr",
     "output_type": "stream",
     "text": [
      "c:\\Users\\deepdesk\\anaconda3\\lib\\site-packages\\sklearn\\base.py:450: UserWarning: X does not have valid feature names, but IsolationForest was fitted with feature names\n",
      "  warnings.warn(\n"
     ]
    }
   ],
   "source": [
    "\n",
    "# Real-time Monitoring\n",
    "X_latest = X_scaled.iloc[-1:].values\n",
    "if model.predict(X_latest)[0] == -1:\n",
    "    print(\"Anomaly Detected!\")\n",
    "    # Send Alert to Maintenance Team\n",
    "else:\n",
    "    print(\"Motor is Running Normally.\")\n"
   ]
  },
  {
   "cell_type": "code",
   "execution_count": 38,
   "metadata": {},
   "outputs": [
    {
     "name": "stdout",
     "output_type": "stream",
     "text": [
      "Anomalies introduced in files:  [307 127]\n"
     ]
    }
   ],
   "source": [
    "# Import Libraries\n",
    "import os\n",
    "import numpy as np\n",
    "import pandas as pd\n",
    "\n",
    "# Load Data\n",
    "data_dir ='data/s3Files/'\n",
    "file_names = os.listdir(data_dir)\n",
    "n_files = len(file_names)\n",
    "anomaly_file_indices = np.random.choice(range(n_files), size=2, replace=False)\n",
    "\n",
    "# Introduce Anomalies\n",
    "for i in anomaly_file_indices:\n",
    "    file_path = os.path.join(data_dir, file_names[i])\n",
    "    df = pd.read_csv(file_path, header=None,sep=',')\n",
    "    df.drop(columns=[0,4],inplace=True)\n",
    "    df.dropna(inplace=True)\n",
    "    df.columns = ['current_1', 'current_2', 'current_3']\n",
    "    n_samples = len(df)\n",
    "    anomaly_start = int(n_samples/5)\n",
    "    anomaly_end = int(n_samples)\n",
    "    df.loc[anomaly_start:anomaly_end, 'current_1'] += np.random.normal(loc=0, scale=1, size=anomaly_end-anomaly_start)\n",
    "    df.loc[anomaly_start:anomaly_end, 'current_2'] += np.random.normal(loc=0, scale=1, size=anomaly_end-anomaly_start)\n",
    "    df.loc[anomaly_start:anomaly_end, 'current_3'] += np.random.normal(loc=0, scale=1, size=anomaly_end-anomaly_start)\n",
    "    df.to_csv(f'./anamalous/{i}', index=False, header=False)\n",
    "\n",
    "print(\"Anomalies introduced in files: \", anomaly_file_indices)\n"
   ]
  },
  {
   "cell_type": "code",
   "execution_count": 40,
   "metadata": {},
   "outputs": [],
   "source": [
    "datafolder = './anamalous/'\n",
    "data_files = os.listdir(datafolder)\n",
    "df = pd.DataFrame()\n",
    "for file in data_files:\n",
    "    # print(file)\n",
    "    df = pd.concat([df,pd.read_csv(datafolder+file,header=None,sep=',')])\n",
    "df.dropna(inplace=True)\n",
    "df.columns = ['current_1', 'current_2', 'current_3']\n"
   ]
  },
  {
   "cell_type": "code",
   "execution_count": 43,
   "metadata": {},
   "outputs": [],
   "source": [
    "# Data Preprocessing\n",
    "freq = 1/10000 # Assuming the data is collected at 15K samples per second\n",
    "n_samples = len(df)\n",
    "index = pd.date_range(start='2023-02-27 00:00:00', periods=n_samples, freq=pd.Timedelta(freq, unit='s'))\n",
    "df = df.set_index(index)\n",
    "df_resampled = df.resample('100ms').mean().ffill()\n"
   ]
  },
  {
   "cell_type": "code",
   "execution_count": 44,
   "metadata": {},
   "outputs": [],
   "source": [
    "# Feature Engineering\n",
    "X = df_resampled[['current_1', 'current_2', 'current_3']]\n",
    "scaler = StandardScaler()\n",
    "X_scaled = scaler.fit_transform(X)\n",
    "X_scaled = pd.DataFrame(X_scaled, columns=X.columns, index=X.index)\n"
   ]
  },
  {
   "cell_type": "code",
   "execution_count": 47,
   "metadata": {},
   "outputs": [],
   "source": [
    "pred = model.predict(X_scaled)\n",
    "\n",
    "\n"
   ]
  },
  {
   "cell_type": "code",
   "execution_count": 48,
   "metadata": {},
   "outputs": [
    {
     "data": {
      "text/plain": [
       "array([1, 1, 1, 1, 1, 1, 1, 1, 1, 1, 1, 1, 1, 1, 1, 1, 1, 1, 1, 1])"
      ]
     },
     "execution_count": 48,
     "metadata": {},
     "output_type": "execute_result"
    }
   ],
   "source": [
    "pred"
   ]
  }
 ],
 "metadata": {
  "kernelspec": {
   "display_name": "base",
   "language": "python",
   "name": "python3"
  },
  "language_info": {
   "codemirror_mode": {
    "name": "ipython",
    "version": 3
   },
   "file_extension": ".py",
   "mimetype": "text/x-python",
   "name": "python",
   "nbconvert_exporter": "python",
   "pygments_lexer": "ipython3",
   "version": "3.9.13"
  },
  "orig_nbformat": 4,
  "vscode": {
   "interpreter": {
    "hash": "0398511a9cde84ab83a2fa188ff6508a33d7c0397b3581839dbbf3238a247df4"
   }
  }
 },
 "nbformat": 4,
 "nbformat_minor": 2
}
